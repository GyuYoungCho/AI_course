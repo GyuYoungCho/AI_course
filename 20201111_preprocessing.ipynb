{
 "cells": [
  {
   "cell_type": "markdown",
   "metadata": {},
   "source": [
    "## 전처리\n",
    "\n",
    "(1) 표준화(Standardization) : :데이터가 평균으로부터 얼마나 떨어져 있는지를 나타내는 값으로, 특정 범위를 벗어난 데이터를 이상치(outlier)로 간주하여 제거한다, StandardScaler 사용, Z = (X - mean())/std()\n",
    "\n",
    "(2) 정규화(Normalization) : 데이터의 범위를 일치시키거나 분포를 유사하게 만들어 주는 기능, 데이터의 범위를 0~1 사이의 값으로 변환, MinMaxScaler 사용 , Z = (X - min())/(max() - min())\n",
    "\n",
    "### 데이터 분석 절차\n",
    "- 데이터 표준화를 통해 outlier를 제거하고, 그 다음에 데이터 정규화를 하여 상대적 크기의 영향력 줄인 다음 분석을 시작한다"
   ]
  },
  {
   "cell_type": "code",
   "execution_count": 1,
   "metadata": {},
   "outputs": [
    {
     "name": "stderr",
     "output_type": "stream",
     "text": [
      "C:\\Users\\Gyu\\Anaconda3\\envs\\py37\\lib\\site-packages\\numpy\\_distributor_init.py:32: UserWarning: loaded more than 1 DLL from .libs:\n",
      "C:\\Users\\Gyu\\Anaconda3\\envs\\py37\\lib\\site-packages\\numpy\\.libs\\libopenblas.PYQHXLVVQ7VESDPUVUADXEVJOBGHJPAY.gfortran-win_amd64.dll\n",
      "C:\\Users\\Gyu\\Anaconda3\\envs\\py37\\lib\\site-packages\\numpy\\.libs\\libopenblas.TXA6YQSD3GCQQC22GEQ54J2UDCXDXHWN.gfortran-win_amd64.dll\n",
      "  stacklevel=1)\n"
     ]
    },
    {
     "name": "stdout",
     "output_type": "stream",
     "text": [
      "raw_data:\n",
      " [[400 736 626 290]\n",
      " [  1 928 815 487]\n",
      " [515 783 932  60]]\n",
      "numpy standardized data:\n",
      " [[ 0.42979913 -0.97491756 -1.30878208  0.06303889]\n",
      " [-1.3817134   1.37467455  0.1903683   1.19200807]\n",
      " [ 0.95191427 -0.39975699  1.11841378 -1.25504696]]\n"
     ]
    }
   ],
   "source": [
    "import numpy as np\n",
    "import pandas  as pd\n",
    "import matplotlib.pyplot as plt\n",
    "\n",
    "data = np.random.randint(1000,size=(3,4)) # 0 ~ 999까지의 정수\n",
    "print('raw_data:\\n',data)\n",
    "\n",
    "data_stand_np = ( data - np.mean(data,axis = 0))/ np.std(data,axis = 0)\n",
    "print('numpy standardized data:\\n',data_stand_np)"
   ]
  },
  {
   "cell_type": "code",
   "execution_count": 2,
   "metadata": {},
   "outputs": [
    {
     "name": "stdout",
     "output_type": "stream",
     "text": [
      "scipy standardized data:\n",
      " [[ 0.42979913 -0.97491756 -1.30878208  0.06303889]\n",
      " [-1.3817134   1.37467455  0.1903683   1.19200807]\n",
      " [ 0.95191427 -0.39975699  1.11841378 -1.25504696]]\n"
     ]
    }
   ],
   "source": [
    "# (2) scipy.stats 를 이용한 표준화 : zscore()\n",
    "import scipy.stats as ss\n",
    "\n",
    "data_stand_ss = ss.zscore(data)\n",
    "print('scipy standardized data:\\n',data_stand_ss)"
   ]
  },
  {
   "cell_type": "code",
   "execution_count": 3,
   "metadata": {},
   "outputs": [
    {
     "name": "stdout",
     "output_type": "stream",
     "text": [
      "sklearn standardized data:\n",
      " [[ 0.42979913 -0.97491756 -1.30878208  0.06303889]\n",
      " [-1.3817134   1.37467455  0.1903683   1.19200807]\n",
      " [ 0.95191427 -0.39975699  1.11841378 -1.25504696]]\n",
      "sklearn standardized data:\n",
      " [[ 0.42979913 -0.97491756 -1.30878208  0.06303889]\n",
      " [-1.3817134   1.37467455  0.1903683   1.19200807]\n",
      " [ 0.95191427 -0.39975699  1.11841378 -1.25504696]]\n"
     ]
    }
   ],
   "source": [
    "# (3) sklearn.preprocessing 를 이용한 표준화\n",
    "# StandardScaler().fit_transform()\n",
    "\n",
    "from sklearn.preprocessing import StandardScaler\n",
    "\n",
    "data_stand_skl = StandardScaler().fit_transform(data)\n",
    "print('sklearn standardized data:\\n',data_stand_skl)\n",
    "\n",
    "# 동일한 구현\n",
    "sc =  StandardScaler()  # 클래스의 인스턴스 생성\n",
    "sc.fit(data)    \n",
    "data_stand_skl = sc.transform(data)\n",
    "print('sklearn standardized data:\\n',data_stand_skl)"
   ]
  },
  {
   "cell_type": "code",
   "execution_count": 4,
   "metadata": {},
   "outputs": [
    {
     "name": "stdout",
     "output_type": "stream",
     "text": [
      "numpy minmax data:\n",
      " [[0.77626459 0.         0.         0.53864169]\n",
      " [0.         1.         0.61764706 1.        ]\n",
      " [1.         0.24479167 1.         0.        ]]\n"
     ]
    }
   ],
   "source": [
    "# 정규화 : 0 ~ 1\n",
    "# (1) Numpy 를 이용한 정규화\n",
    "# Z = (X - min())/(max() - min())\n",
    "data_minmax_np = (data - np.min(data,axis = 0))/(np.max(data,axis = 0) - np.min(data,axis = 0))\n",
    "print('numpy minmax data:\\n',data_minmax_np)"
   ]
  },
  {
   "cell_type": "code",
   "execution_count": 6,
   "metadata": {},
   "outputs": [
    {
     "name": "stdout",
     "output_type": "stream",
     "text": [
      "sklearn minmax data:\n",
      " [[0.77626459 0.         0.         0.53864169]\n",
      " [0.         1.         0.61764706 1.        ]\n",
      " [1.         0.24479167 1.         0.        ]]\n",
      "sklearn minmax data:\n",
      " [[0.77626459 0.         0.         0.53864169]\n",
      " [0.         1.         0.61764706 1.        ]\n",
      " [1.         0.24479167 1.         0.        ]]\n"
     ]
    }
   ],
   "source": [
    "# (2) sklearn.preprocessing를 이용한 정규화\n",
    "# MinMaxScaler().fit_transform()\n",
    "from sklearn.preprocessing import MinMaxScaler\n",
    "\n",
    "data_minmax_skl = MinMaxScaler().fit_transform(data)\n",
    "print('sklearn minmax data:\\n',data_minmax_skl)\n",
    "\n",
    "# 동일한 구현\n",
    "sc = MinMaxScaler()\n",
    "sc.fit(data)\n",
    "data_minmax_skl = sc.transform(data)\n",
    "print('sklearn minmax data:\\n',data_minmax_skl)"
   ]
  },
  {
   "cell_type": "markdown",
   "metadata": {},
   "source": [
    "### 이상치를 제거하여 표준화 하기"
   ]
  },
  {
   "cell_type": "code",
   "execution_count": 7,
   "metadata": {},
   "outputs": [
    {
     "data": {
      "image/png": "[encoded data removed]",
      "text/plain": [
       "<Figure size 432x288 with 1 Axes>"
      ]
     },
     "metadata": {
      "needs_background": "light"
     },
     "output_type": "display_data"
    }
   ],
   "source": [
    "np.random.seed(10)\n",
    "data = np.random.randn(100)  # 정규분포를 이루는 random, 100개\n",
    "plt.hist(data)  # 정규성이 있다\n",
    "plt.show()"
   ]
  },
  {
   "cell_type": "code",
   "execution_count": 8,
   "metadata": {},
   "outputs": [
    {
     "name": "stdout",
     "output_type": "stream",
     "text": [
      "-2.131712108481604 100.0\n"
     ]
    },
    {
     "data": {
      "image/png": "[encoded data removed]",
      "text/plain": [
       "<Figure size 432x288 with 1 Axes>"
      ]
     },
     "metadata": {
      "needs_background": "light"
     },
     "output_type": "display_data"
    }
   ],
   "source": [
    "data[98:100] = 100\n",
    "print(np.min(data),np.max(data))\n",
    "plt.hist(data)  # 정규성이 없다\n",
    "plt.show()"
   ]
  },
  {
   "cell_type": "code",
   "execution_count": 9,
   "metadata": {},
   "outputs": [
    {
     "data": {
      "image/png": "[encoded data removed]",
      "text/plain": [
       "<Figure size 432x288 with 1 Axes>"
      ]
     },
     "metadata": {
      "needs_background": "light"
     },
     "output_type": "display_data"
    }
   ],
   "source": [
    "data = data.reshape(-1,1) # 반드시 2차원으로 변경하여 사용, (100,1)\n",
    "data_stand_skl = StandardScaler().fit_transform(data)\n",
    "plt.hist(data_stand_skl)\n",
    "plt.show()"
   ]
  },
  {
   "cell_type": "code",
   "execution_count": 10,
   "metadata": {},
   "outputs": [
    {
     "data": {
      "image/png": "[encoded data removed]",
      "text/plain": [
       "<Figure size 432x288 with 1 Axes>"
      ]
     },
     "metadata": {
      "needs_background": "light"
     },
     "output_type": "display_data"
    }
   ],
   "source": [
    "data_stand_skl_zoomin = data_stand_skl[data_stand_skl < 5]\n",
    "plt.hist(data_stand_skl_zoomin) # 정규성이 있다\n",
    "plt.show()"
   ]
  },
  {
   "cell_type": "code",
   "execution_count": 11,
   "metadata": {},
   "outputs": [
    {
     "name": "stdout",
     "output_type": "stream",
     "text": [
      "encoding 변환 값: [0 1 4 5 3 2 3 2]\n"
     ]
    }
   ],
   "source": [
    "# 레이블 인코딩(Label Encoding)\n",
    "from sklearn.preprocessing import LabelEncoder\n",
    "\n",
    "items = ['TV','냉장고','전자렌지','컴퓨터','선풍기','믹서','선풍기','믹서']\n",
    "\n",
    "encoder = LabelEncoder()\n",
    "encoder.fit(items)\n",
    "labels = encoder.transform(items)\n",
    "print('encoding 변환 값:',labels)"
   ]
  },
  {
   "cell_type": "code",
   "execution_count": 12,
   "metadata": {},
   "outputs": [
    {
     "name": "stdout",
     "output_type": "stream",
     "text": [
      "encoding 클래스: ['TV' '냉장고' '믹서' '선풍기' '전자렌지' '컴퓨터']\n"
     ]
    }
   ],
   "source": [
    "print('encoding 클래스:',encoder.classes_)"
   ]
  },
  {
   "cell_type": "code",
   "execution_count": 13,
   "metadata": {},
   "outputs": [
    {
     "name": "stdout",
     "output_type": "stream",
     "text": [
      "decoding 원본 값: ['TV' '냉장고' '선풍기' '컴퓨터' '전자렌지' '믹서' '전자렌지' '컴퓨터']\n"
     ]
    }
   ],
   "source": [
    "print('decoding 원본 값:',encoder.inverse_transform([0,1,3,5,4,2,4,5]))"
   ]
  },
  {
   "cell_type": "code",
   "execution_count": null,
   "metadata": {},
   "outputs": [],
   "source": []
  }
 ],
 "metadata": {
  "kernelspec": {
   "display_name": "Python [conda env:py37] *",
   "language": "python",
   "name": "conda-env-py37-py"
  },
  "language_info": {
   "codemirror_mode": {
    "name": "ipython",
    "version": 3
   },
   "file_extension": ".py",
   "mimetype": "text/x-python",
   "name": "python",
   "nbconvert_exporter": "python",
   "pygments_lexer": "ipython3",
   "version": "3.6.9"
  }
 },
 "nbformat": 4,
 "nbformat_minor": 2
}
