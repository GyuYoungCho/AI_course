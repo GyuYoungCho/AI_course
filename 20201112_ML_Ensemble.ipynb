{
 "cells": [
  {
   "cell_type": "markdown",
   "metadata": {},
   "source": [
    "## 앙상블(Ensemble) \n",
    "- 결정트리 기반 알고리즘 결합하여 구현¶\n",
    "\n",
    "### 앙상블 종류 요약\n",
    "\n",
    "#### (1) Voting : 서로 다른 알고리즘 가진 분류기를 결합, 사이킷런은 VotingClassifier 클래스를 제공함\n",
    "1. 하드보팅(Hard Voting) : 분류기들이 예측한 결과 값을 다수결로 결정\n",
    "2. 소프트 보팅(Soft Voting) : 각 분류기들이 예측값을 확률로 구하면 이를 평균 내어 확률이 가장 높은 값을 결과 값으로 결정\n",
    "\n",
    "#### (2) Bagging : 같은 유형의 알고리즘을 결합, 데이터 샘플링시 서로 다르게 가져가면서 학습, RandomForest 가 대표적, Bootstrapping Aggregation 줄임말\n",
    "- Bootstrapping : 여러개의 데이터 세트를 중첩되게 분리하는 분할 방식\n",
    "\n",
    "#### (3) Boosting : 여러개의 분류기가 순차적으로 학습하면서 가중치를 부스팅한다, XGBoost(캐글 대회 상위 석권),LightGBM\n",
    "#### (4) Stacking 기법 : 위의 여러개의 개별적 모델을 학습하여 예측한 데이터 세트를 사용하여 최종 메타 모델이 학습 예측\n",
    "\n",
    "### Bagging\n",
    "\n",
    "#### 랜덤포레스트(RandomForest)\n",
    "- 의사 결정 트리 기반(Decision Tree) 기반 분류 알고리즘\n",
    "- 앙상블(Ensemble), 같은 결정트리를 여러개 사용, 비교적 빠른 수행\n",
    "- 현재의 랜덤 포레스트의 개념은 레오 브레이먼(Leo Breimen)의 논문에서 만들어짐, 이 논문은 랜덤 노드 최적화(Randomized Node Optimization,RNO)와 배깅(bagging)을 결합한 방법과 같은 CART(Classification And Regression Tree)를 사용해 상관관계가 없는 트리들로 포레스트를 구성하는 방법을 제시했다"
   ]
  },
  {
   "cell_type": "code",
   "execution_count": 2,
   "metadata": {},
   "outputs": [],
   "source": [
    "# 'RandomForestClassifier() 하이퍼 파라메터 설명'\n",
    "\n",
    "# RandomForestClassifier(\n",
    "#     n_estimators='warn', (결정트리의 갯수, default=10, 많을 수록 좋은 성능을 기대할수 있지만 속도가 느려진다)\n",
    "#     criterion='gini',\n",
    "#     max_depth=None,   (트리의 최대 깊이, 결정트리의 파라메터와 동일)\n",
    "#     min_samples_split=2,(노드를 분할하기 위한 최소한의 샘플 수,default=2,과적합 제어에 사용,결정트리의 파라메터와 동일)\n",
    "#     min_samples_leaf=1,(leaf 노드가 되기 위한 최소한의 샘플 수,default=1,결정트리의 파라메터와 동일)\n",
    "#     min_weight_fraction_leaf=0.0,\n",
    "#     max_features='auto', (최적의 분할을 위해 고려할 최대 피쳐 갯수,결정트리의 파라메터와 동일)\n",
    "#     max_leaf_nodes=None, (리프노드의 최대 갯수, 결정트리의 파라메터와 동일)\n",
    "#     min_impurity_decrease=0.0,\n",
    "#     min_impurity_split=None,\n",
    "#     bootstrap=True,\n",
    "#     oob_score=False,\n",
    "#     n_jobs=None,      (병렬처리 CPU의 갯수, -1이면 전체 CPU 모두 사용)\n",
    "#     random_state=None,(랜덤 seed 설정 값)\n",
    "#     verbose=0,\n",
    "#     warm_start=False,\n",
    "#     class_weight=None,\n",
    "# )"
   ]
  },
  {
   "cell_type": "code",
   "execution_count": 3,
   "metadata": {},
   "outputs": [
    {
     "name": "stdout",
     "output_type": "stream",
     "text": [
      "e    4208\n",
      "p    3916\n",
      "Name: 0, dtype: int64\n",
      "정확도: 1.0\n",
      "리포트:\n",
      "               precision    recall  f1-score   support\n",
      "\n",
      "           e       1.00      1.00      1.00      1072\n",
      "           p       1.00      1.00      1.00       959\n",
      "\n",
      "    accuracy                           1.00      2031\n",
      "   macro avg       1.00      1.00      1.00      2031\n",
      "weighted avg       1.00      1.00      1.00      2031\n",
      "\n"
     ]
    }
   ],
   "source": [
    "import pandas as pd\n",
    "import numpy as np\n",
    "\n",
    "from sklearn.ensemble import RandomForestClassifier\n",
    "from sklearn import metrics\n",
    "from sklearn.model_selection import train_test_split\n",
    "\n",
    "np.random.seed(10)\n",
    "\n",
    "# mushroom 데이터 셋 읽어오기\n",
    "# 첫번째 컬럼이 label , 'p': poisonous, 'e':edible\n",
    "mr = pd.read_csv('mushroom.csv',header=None)\n",
    "mr.shape  # (8124, 23)\n",
    "print(mr.iloc[:,0].value_counts()) # 레이블의 분포\n",
    "\n",
    "# 데이터 내부의 기호를 숫자로 변환하기\n",
    "label = []  # Y\n",
    "data = []   # X\n",
    "\n",
    "for row_index,row in mr.iterrows(): # 8124회 반복\n",
    "    # row = [p,x,s,n,t,p,f,c,n,k,e,e,s,s,w,w,p,w,o,p,k,s,u]\n",
    "    label.append(row.iloc[0])  # 문자로 저장\n",
    "    row_data = []\n",
    "    \n",
    "    for v in row.iloc[1:] :\n",
    "        row_data.append(ord(v)) # 숫자로 변환\n",
    "    data.append(row_data)   \n",
    "\n",
    "# print(label)    \n",
    "# print(data)    \n",
    "# train(학습)과 test(검증) 데이터로 나누기 : 6093개와 2031개\n",
    "X_train,X_test,y_train,y_test = train_test_split(data,label) # 75%:25%\n",
    "len(X_train)  # 6093   75%\n",
    "len(X_test)   # 2031   25%\n",
    "len(y_train)  # 6093   75%\n",
    "len(y_test)   # 2031   25%\n",
    "\n",
    "# 학습시키기\n",
    "# 레이블의 클래스 갯수가 2개이므로 Binary Classification\n",
    "clf = RandomForestClassifier(n_estimators=100, random_state=10, n_jobs=-1) # 결정트리의 갯수=100\n",
    "clf.fit(X_train,y_train)\n",
    "\n",
    "# 데이터 예측하기\n",
    "preds = clf.predict(X_test)\n",
    "# print(preds)\n",
    "# print(y_test)\n",
    "\n",
    "# 정확도 측정\n",
    "ac_score = metrics.accuracy_score(y_test,preds)\n",
    "print('정확도:',ac_score) # 1.0 100% 정확도\n",
    "cl_report = metrics.classification_report(y_test,preds)\n",
    "print('리포트:\\n',cl_report)"
   ]
  },
  {
   "cell_type": "code",
   "execution_count": 1,
   "metadata": {},
   "outputs": [
    {
     "name": "stdout",
     "output_type": "stream",
     "text": [
      "97\n",
      "a\n"
     ]
    }
   ],
   "source": [
    "print(ord('a'))  # 문자를 아스키 코드 값을 출력\n",
    "print(chr(97))   # 아스키값에 해당하는 문자를 출력"
   ]
  },
  {
   "cell_type": "markdown",
   "metadata": {},
   "source": [
    "### 평가\n",
    "- 정확도(Accuracy)\n",
    "- 오차행렬(confusion Matrix)\n",
    "- 정밀도(Precison)\n",
    "- 재현율(Recall)\n",
    "- F1 스코어\n",
    "- ROC AUC\n",
    "\n",
    "\n",
    "#### 오차행렬(confusion Matrix)\n",
    "- True: 맞음, False: 틀림\n",
    "- Negative : 0 , Positive : 1\n",
    "\n",
    "#### [ [ TN, FP], True Negative, False Positive\n",
    "#### [ FN, TP] ] False Negative, True Positive\n",
    "\n",
    "- 정밀도 = TP/(FP + TP), 예측을 Positive로 한 것 중 Positive답을 맞춘 비율, 양성 예측도\n",
    "- 재현율 = TP/(FN + TP), 실제 값이 Positive인 것 중 Positive답을 맞춘 비율, 민감도, TPR(True Positive Rate)\n",
    "- F1 스코어 = 2/((1/재현율) + (1/정밀도)), feature의 중요도, 정밀도와 재현율을 결합한 지표\n",
    "- ROC(Receiver Operation Curve) : 수신자 판단 곡선\n",
    "- TNR(True Negative Rate,특이성) : TN/(FP + TP)\n",
    "- x축을 FPR(False Positive Rate) : FP/(FP + TP) = 1 - TNR\n",
    "- y축을 TPR(True Positive Rate,재현율,민감도) : TP/(FN + TP)\n",
    "\n",
    "#### ROC AUC(Area Under Curve) : ROC 곡선의 면적, 1에 가까울수록 좋음, 1이 최대"
   ]
  },
  {
   "cell_type": "code",
   "execution_count": 4,
   "metadata": {},
   "outputs": [],
   "source": [
    "from sklearn.metrics import accuracy_score,confusion_matrix\n",
    "from sklearn.metrics import precision_score,recall_score\n",
    "from sklearn.metrics import f1_score,roc_auc_score\n",
    "from sklearn.metrics import classification_report\n",
    "\n",
    "def get_clf_eval(y_test,preds):\n",
    "    accuracy = accuracy_score(y_test,preds)\n",
    "    print('정확도:',accuracy)\n",
    "\n",
    "    # 오차 행렬\n",
    "    confusion = confusion_matrix(y_test,preds)\n",
    "    print('오차행렬:\\n',confusion)\n",
    "    TN = confusion[0,0]\n",
    "    FP = confusion[0,1]\n",
    "    FN = confusion[1,0]\n",
    "    TP = confusion[1,1]\n",
    "    \n",
    "    # 3개 틀린 예측값의 경우 \n",
    "    # [[1070    2]\n",
    "    #  [   1  958]]\n",
    "\n",
    "    # 정밀도\n",
    "    precison = precision_score(y_test,preds)\n",
    "    print('정밀도:',precison)\n",
    "    print('TP/(FP+TP):',TP/(FP+TP))  #  958/(2+958) : 0.9979166666666667\n",
    "\n",
    "    # 재현율\n",
    "    recall = recall_score(y_test,preds)\n",
    "    print('재현율:',recall)\n",
    "    print('TP/(FN+TP):',TP/(FN+TP)) # 958/(1+958) : 0.9989572471324296\n",
    "    \n",
    "    # F1-스코어(f1_score)\n",
    "    f1 = f1_score(y_test,preds)\n",
    "    print('F1-스코어:',f1)\n",
    "    print(2/((1/recall) + (1/precison)))\n",
    "#   print(2*recall*precision/(recall+precision))   \n",
    "\n",
    "    # roc_auc\n",
    "    roc_auc = roc_auc_score(y_test,preds)\n",
    "    print('roc_auc:',roc_auc)"
   ]
  },
  {
   "cell_type": "code",
   "execution_count": 5,
   "metadata": {},
   "outputs": [
    {
     "name": "stdout",
     "output_type": "stream",
     "text": [
      "label encoding 변환값: [0 1 0 ... 0 1 1]\n",
      "predict encoding 변환값: [0 1 0 ... 0 1 1]\n",
      "--------------------------------------------------\n",
      "정확도: 0.9985228951255539\n",
      "오차행렬:\n",
      " [[1070    2]\n",
      " [   1  958]]\n",
      "정밀도: 0.9979166666666667\n",
      "TP/(FP+TP): 0.9979166666666667\n",
      "재현율: 0.9989572471324296\n",
      "TP/(FN+TP): 0.9989572471324296\n",
      "F1-스코어: 0.9984366857738406\n",
      "0.9984366857738406\n",
      "roc_auc: 0.9985457877453192\n"
     ]
    }
   ],
   "source": [
    "from sklearn.preprocessing import LabelEncoder\n",
    "\n",
    "encoder = LabelEncoder()\n",
    "y_test_enc = encoder.fit_transform(y_test)\n",
    "print('label encoding 변환값:',y_test_enc)\n",
    "\n",
    "preds_enc = encoder.fit_transform(preds)\n",
    "print('predict encoding 변환값:',preds_enc)\n",
    "\n",
    "# get_clf_eval(y_test_enc,preds_enc)\n",
    "\n",
    "print('-'*50)\n",
    "# 예측 값 몇개를 틀리게 입력해보자\n",
    "preds_enc[0:3] = 1,0,1\n",
    "# preds_enc[0:3] = (preds_enc[0:3] - 1)*(-1) # 동일 표현\n",
    "get_clf_eval(y_test_enc,preds_enc)"
   ]
  },
  {
   "cell_type": "markdown",
   "metadata": {},
   "source": [
    "## Boosting\n",
    "여러 개의 약한 학습기(분류기)가 순차적으로 학습,예측 하면서 잘못 예측한 데이터에 가중치를 부여하여 오류를 개선해 나가는 학습 방법\n",
    "\n",
    "- XGBoost(Kaggle 대회 상위 석권), LightGBM(속도 빠름)\n",
    "\n",
    "1. AdaBoost(Adaptive Boosting) : 개별 약한 학습기에 순차적으로 가중치를 부여해 결합하여 예측\n",
    "2. GBM(Gradient Boost Machine) : 에이다 부스트와 유사하나 가중치를 경사하강법(Gradient Descent)을 사용하여 구한다\n",
    "\n",
    "### XGBoost (eXtra Gradient Boost)\n",
    "- 일반 GBM보다 속도가 빠름, 자체 과적합 규제 기능으로 과적합에 강하다.\n",
    "- Tree Pruning(나무 가지치기)으로 긍정 이득이 없는 분할을 가지치기해서 분할 수를 줄임\n",
    "- Early Stopping(조기 중단) 기능으로 오차가 줄지 않을 경우 실제 estimators 갯수만큼 학습하지 않고 학습을 중단\n",
    "- 원래는 C/C++ 용 라이브러리인데 XGBoost 개발 그룹에서 나중에 파이썬용 사이킷런용 제공\n",
    "\n",
    "(1) 파이썬 래퍼 XGBoost : xgboost ( DMatrix 객체 사용, train()/predict() 함수)\n",
    "\n",
    "(2) 사이킷런 래퍼 XGBoost : XGBoostClassifier, XGBoostRegressor ( fit()/predict() 함수)"
   ]
  },
  {
   "cell_type": "code",
   "execution_count": 9,
   "metadata": {},
   "outputs": [
    {
     "name": "stdout",
     "output_type": "stream",
     "text": [
      "1.2.1\n"
     ]
    }
   ],
   "source": [
    "import xgboost as xgb\n",
    "from xgboost import plot_importance\n",
    "\n",
    "print(xgb.__version__)\n",
    "\n",
    "from sklearn.datasets import  load_breast_cancer\n",
    "from sklearn.model_selection import train_test_split\n",
    "\n",
    "# Breast Cancer Wisconsin\n",
    "dataset = load_breast_cancer()\n",
    "dataset.data.shape    # (569,30)\n",
    "dataset.target.shape  # (569,)  , 0:악성(malignant),  1:양성(benign) \n",
    "\n",
    "x_features = dataset.data\n",
    "y_label = dataset.target\n",
    "\n",
    "cancer_df = pd.DataFrame(data=x_features,columns=dataset.feature_names)\n",
    "cancer_df['target'] = y_label"
   ]
  },
  {
   "cell_type": "code",
   "execution_count": 10,
   "metadata": {},
   "outputs": [
    {
     "data": {
      "text/plain": [
       "numpy.ndarray"
      ]
     },
     "execution_count": 10,
     "metadata": {},
     "output_type": "execute_result"
    }
   ],
   "source": [
    "X_train,X_test,y_train,y_test = train_test_split(x_features,y_label,test_size=0.2, random_state=0)\n",
    "X_train.shape  # (455, 30)\n",
    "X_test.shape   # (114, 30)\n",
    "type(X_train)"
   ]
  },
  {
   "cell_type": "code",
   "execution_count": 11,
   "metadata": {},
   "outputs": [
    {
     "data": {
      "text/plain": [
       "xgboost.core.DMatrix"
      ]
     },
     "execution_count": 11,
     "metadata": {},
     "output_type": "execute_result"
    }
   ],
   "source": [
    "dtrain = xgb.DMatrix(data=X_train,label=y_train)\n",
    "dtest = xgb.DMatrix(data=X_test,label=y_test)\n",
    "type(dtest)"
   ]
  },
  {
   "cell_type": "code",
   "execution_count": 12,
   "metadata": {},
   "outputs": [],
   "source": [
    "params = { 'max_depth':3, # 트리의 최대 깊이\n",
    "            'eta' : 0.1,   # 학습율(--> learning_rate)\n",
    "            'objective':'binary:logistic',  # 2진 분류\n",
    "            'eval_metric':'logloss',       # 손실함수\n",
    "            'early_stoppings' : 100\n",
    "}\n",
    "num_round = 400"
   ]
  },
  {
   "cell_type": "code",
   "execution_count": 13,
   "metadata": {},
   "outputs": [
    {
     "name": "stdout",
     "output_type": "stream",
     "text": [
      "[16:33:56] WARNING: C:\\Users\\Administrator\\workspace\\xgboost-win64_release_1.2.0\\src\\learner.cc:516: \n",
      "Parameters: { early_stoppings } might not be used.\n",
      "\n",
      "  This may not be accurate due to some parameters are only used in language bindings but\n",
      "  passed down to XGBoost core.  Or some parameters are not used but slip through this\n",
      "  verification. Please open an issue if you find above cases.\n",
      "\n",
      "\n"
     ]
    }
   ],
   "source": [
    "wlist = [(dtrain,'train'),(dtest,'eval')]\n",
    "xgb_model = xgb.train(params=params,dtrain=dtrain,num_boost_round=num_round,\n",
    "                      evals=wlist, verbose_eval=False)"
   ]
  },
  {
   "cell_type": "code",
   "execution_count": 14,
   "metadata": {},
   "outputs": [
    {
     "data": {
      "text/plain": [
       "[0, 1, 1, 1, 1, 1, 1, 1, 1, 1]"
      ]
     },
     "execution_count": 14,
     "metadata": {},
     "output_type": "execute_result"
    }
   ],
   "source": [
    "pred_probs = xgb_model.predict(dtest)\n",
    "# np.round(pred_probs)  # 소수점을 모두 반올림\n",
    "\n",
    "preds = [1 if x > 0.5 else 0 for x in pred_probs]\n",
    "preds[:10]"
   ]
  },
  {
   "cell_type": "code",
   "execution_count": 15,
   "metadata": {},
   "outputs": [
    {
     "name": "stdout",
     "output_type": "stream",
     "text": [
      "정확도: 0.9912280701754386\n",
      "오차행렬:\n",
      " [[46  1]\n",
      " [ 0 67]]\n",
      "정밀도: 0.9852941176470589\n",
      "TP/(FP+TP): 0.9852941176470589\n",
      "재현율: 1.0\n",
      "TP/(FN+TP): 1.0\n",
      "F1-스코어: 0.9925925925925926\n",
      "0.9925925925925925\n",
      "roc_auc: 0.9893617021276595\n"
     ]
    }
   ],
   "source": [
    "get_clf_eval(y_test,preds)"
   ]
  },
  {
   "cell_type": "code",
   "execution_count": 16,
   "metadata": {},
   "outputs": [
    {
     "data": {
      "text/plain": [
       "<AxesSubplot:title={'center':'Feature importance'}, xlabel='F score', ylabel='Features'>"
      ]
     },
     "execution_count": 16,
     "metadata": {},
     "output_type": "execute_result"
    },
    {
     "data": {
      "image/png": "[encoded data removed]",
      "text/plain": [
       "<Figure size 720x864 with 1 Axes>"
      ]
     },
     "metadata": {
      "needs_background": "light"
     },
     "output_type": "display_data"
    }
   ],
   "source": [
    "import matplotlib.pyplot as plt\n",
    "from xgboost import plot_importance\n",
    "\n",
    "fig,ax =plt.subplots(figsize=(10,12))\n",
    "plot_importance(xgb_model,ax=ax)"
   ]
  },
  {
   "cell_type": "markdown",
   "metadata": {},
   "source": [
    "### 사이킷런 Wrapper XGBoost 개요 및 적용\n",
    "- XGBoostClassifier\n",
    "- XGBoostRegressor"
   ]
  },
  {
   "cell_type": "code",
   "execution_count": 18,
   "metadata": {},
   "outputs": [
    {
     "data": {
      "text/plain": [
       "' XGBoostClassifier 클래스의 fit함수의 파라 메터 설명 '"
      ]
     },
     "execution_count": 18,
     "metadata": {},
     "output_type": "execute_result"
    }
   ],
   "source": [
    "' XGBoostClassifier 의 하이퍼 파라메터 설명 '\n",
    "\n",
    "# XGBoostClassifier(\n",
    "#     max_depth=3,          (트리의 최대 깊이, 결정 트리의 파라메터와 동일) \n",
    "#     learning_rate=0.1,    (학습율, default = 0.1, 0과 1사이의 값으로 설정, 보통 0.01~0.2 사이, 파이썬 래퍼에서는 eta)\n",
    "#     n_estimators=100,     (결정 트리의 갯수 ,default = 100) \n",
    "#     verbosity=1,          (출력 메세지 조정, 0이면 silent 와 동일 , 3 은 debug)\n",
    "#     silent=None,          (1로 설정하면 출력 메시지를 보여주지 않는다)\n",
    "#     objective='binary:logistic', (비용함수가 이진 분류용 임을 선택함, 다중 분류용일 때는 'multi:softmax')\n",
    "#     booster='gbtree',     ('gbtree'와 'gblinaer'를 선택)\n",
    "#     n_jobs=1,             (병렬 CPU의 갯수, -1이면 전체 모든 CPU를 사용)\n",
    "#     nthread=None,         (CPU의 쓰레드 개수 조정)\n",
    "#     gamma=0,           (min_split_loss 값,리프노드를 추가적으로 나눌지를 결정할 최소 오차 감소 값, 클수록 과적합 감소효과)\n",
    "#     min_child_weight=1,   (GBM의 min_child_leaf와 유사, 과적합 조절에 사용)\n",
    "#     max_delta_step=0,     (class가 심하게 비대칭일 때를 제외하고 일반적으로 사용하지 않음 )\n",
    "#     subsample=1, (트리가 커져서 과적합 되는것을 제어하기 위해 데이터를 샘플링 하는 비율, 0.5이면 전체 데이터의 절반을 사용,1:모두사용)\n",
    "#     colsample_bytree=1,  (트리 생성에 필요한 컬럼(피처)을 임의로 샘플링하는 비율,피처가 너무 많을 경우 과적합 조정에 사용 )\n",
    "#     colsample_bylevel=1, (트리 깊이 레벨 마다 샘플링하는 비율)\n",
    "#     colsample_bynode=1,  (각 노드 분리(split)할 때 마다 샘플링하는 비율)\n",
    "#     reg_alpha=0,         (L1 regularization 적용 값 , 과적합 감소 효과)\n",
    "#     reg_lambda=1,        (L2 regularization 적용 값 , 과적합 감소 효과)\n",
    "#     scale_pos_weight=1, (비대칭 클래스로 구성된 데이터셋의 균형 조정)\n",
    "#     base_score=0.5,     (bias 초기 값)\n",
    "#     random_state=0,   (Random number seed)\n",
    "#     seed=None,        (Random number seed, 없어짐)\n",
    "#     missing=None,     ( 결측치 값 ,default = None 일 경우 np.nan 으로 결측치를 자체 처리함)\n",
    "#     **kwargs,\n",
    "# )\n",
    "\n",
    "# https://xgboost.readthedocs.io/en/latest/parameter.html\n",
    "\n",
    "' XGBoostClassifier 클래스의 fit함수의 파라 메터 설명 '\n",
    "# xgb_wrapper.fit(\n",
    "#     X,     ( feature,피쳐)\n",
    "#     y,     (label, y 값)\n",
    "#     sample_weight=None,\n",
    "#     eval_set=None,  (Test 데이터 셋, 리스트 형태로 입력)\n",
    "#     eval_metric=None, (검증에 사용되는 함수의 정의, 'rmse':회귀,'logloss':분류,'error':2진 분류)\n",
    "#     early_stopping_rounds=None, ( 조기 중단 반복 횟수)\n",
    "#     verbose=True, (메세지 출력)\n",
    "#     xgb_model=None,\n",
    "#     sample_weight_eval_set=None, (검증 데이터 셋의 가중치 리스트)\n",
    "#     callbacks=None,\n",
    "# )"
   ]
  },
  {
   "cell_type": "markdown",
   "metadata": {},
   "source": [
    "#### 과적합 해결을 위한 파라메터 튜닝 시 고려해 볼만한 사항\n",
    "- learning_rate 값을 낮추고 반대로 n_estimators는 높여준다\n",
    "- max_depth 값을 낯춘다\n",
    "- min_child_weight 값을 높인다\n",
    "- gamma 값을 높인다\n",
    "- subsample 비율 값을 줄여본다\n",
    "- colsample_bytree 비율 값을 줄여본다"
   ]
  },
  {
   "cell_type": "code",
   "execution_count": 20,
   "metadata": {},
   "outputs": [
    {
     "name": "stdout",
     "output_type": "stream",
     "text": [
      "정확도: 0.9912280701754386\n",
      "오차행렬:\n",
      " [[46  1]\n",
      " [ 0 67]]\n",
      "정밀도: 0.9852941176470589\n",
      "TP/(FP+TP): 0.9852941176470589\n",
      "재현율: 1.0\n",
      "TP/(FN+TP): 1.0\n",
      "F1-스코어: 0.9925925925925926\n",
      "0.9925925925925925\n",
      "roc_auc: 0.9893617021276595\n"
     ]
    }
   ],
   "source": [
    "from xgboost import XGBClassifier\n",
    "\n",
    "evals = [(X_test,y_test)]\n",
    "\n",
    "xgb_wrapper = XGBClassifier(n_estimators=400,learning_rate=0.1,max_depth=3)\n",
    "xgb_wrapper.fit(X_train,y_train,early_stopping_rounds=400,eval_set=evals,\n",
    "               eval_metric='logloss', verbose=False)\n",
    "w_preds = xgb_wrapper.predict(X_test)\n",
    "get_clf_eval(y_test,w_preds)"
   ]
  },
  {
   "cell_type": "markdown",
   "metadata": {},
   "source": [
    "### LightGBM\n",
    "\n",
    "- 부스팅, XGBoost보다 속도가 빠르다, 메모리 사용량이 적다, 사이킷런 래퍼 제공\n",
    "- 적은 데이터 세트에서 과적합이 발생할수 있다, 10000 이상의 데이터세트에 적당"
   ]
  },
  {
   "cell_type": "code",
   "execution_count": 21,
   "metadata": {},
   "outputs": [
    {
     "data": {
      "text/plain": [
       "' LGBMClassifier 클래스의 fit함수의 파라 메터 설명 '"
      ]
     },
     "execution_count": 21,
     "metadata": {},
     "output_type": "execute_result"
    }
   ],
   "source": [
    "' LGBMClassifier 클래스의 파라 메터 설명 '\n",
    "# LGBMClassifier(\n",
    "#     boosting_type='gbdt', (부스팅 타입 설정, 'gbdt': Gradient Boosting Decision Tree, 'rf', Random Forest)\n",
    "#     num_leaves=31,   (하나의 트리가 가질수 있는 최대 리프 노드 갯수 )\n",
    "#     max_depth=-1,    (트리의 최대 깊이 )\n",
    "#     learning_rate=0.1,   (학습율)\n",
    "#     n_estimators=100,    (결정 트리의 갯수)\n",
    "#     subsample_for_bin=200000, ( Number of samples for constructing bins )\n",
    "#     objective=None,      (손실(비용) 함수)\n",
    "#     class_weight=None,\n",
    "#     min_split_gain=0.0,\n",
    "#     min_child_weight=0.001, (GBM의 min_child_leaf와 유사, 과적합 조절에 사용)\n",
    "#     min_child_samples=20,\n",
    "#     subsample=1.0,\n",
    "#     subsample_freq=0,\n",
    "#     colsample_bytree=1.0,\n",
    "#     reg_alpha=0.0,      (L1 regularization 적용 값 , 과적합 감소 효과)\n",
    "#     reg_lambda=0.0,     (L2 regularization 적용 값 , 과적합 감소 효과)\n",
    "#     random_state=None,  (Random number seed)\n",
    "#     n_jobs=-1,           (병렬 CPU의 갯수, -1이면 전체 모든 CPU를 사용)\n",
    "#     silent=True,         (True 로 설정하면 출력 메시지를 보여주지 않는다)\n",
    "#     importance_type='split',\n",
    "#     **kwargs,\n",
    "# )\n",
    "\n",
    "\n",
    "' LGBMClassifier 클래스의 fit함수의 파라 메터 설명 '\n",
    "# lgbm_wrapper.fit(\n",
    "#     X,     ( feature )\n",
    "#     y,     ( label )\n",
    "#     sample_weight=None,   ( 학습 데이터의 가중치 )\n",
    "#     init_score=None,\n",
    "#     eval_set=None,   (Test 데이터 셋, 리스트 형태로 입력)\n",
    "#     eval_names=None,\n",
    "#     eval_sample_weight=None,\n",
    "#     eval_class_weight=None,\n",
    "#     eval_init_score=None,\n",
    "#     eval_metric=None, (검증에 사용되는 함수의 정의, 'rmse':회귀,'logloss':분류,'error':2진 분류)\n",
    "#     early_stopping_rounds=None, ( 조기 중단 반복 횟수)\n",
    "#     verbose=True,          (메세지 출력)\n",
    "#     feature_name='auto',\n",
    "#     categorical_feature='auto',\n",
    "#     callbacks=None\n",
    "# )\n"
   ]
  },
  {
   "cell_type": "code",
   "execution_count": 24,
   "metadata": {},
   "outputs": [
    {
     "name": "stdout",
     "output_type": "stream",
     "text": [
      "정확도: 0.9736842105263158\n",
      "오차행렬:\n",
      " [[45  2]\n",
      " [ 1 66]]\n",
      "정밀도: 0.9705882352941176\n",
      "TP/(FP+TP): 0.9705882352941176\n",
      "재현율: 0.9850746268656716\n",
      "TP/(FN+TP): 0.9850746268656716\n",
      "F1-스코어: 0.9777777777777777\n",
      "0.9777777777777777\n",
      "roc_auc: 0.971260717688155\n"
     ]
    }
   ],
   "source": [
    "from lightgbm import LGBMClassifier\n",
    "\n",
    "# 데이터 가져오기, split하기 : 앞부분에 구현되어 있음\n",
    "\n",
    "evals = [(X_test,y_test)]\n",
    "\n",
    "lgbm_wrapper = LGBMClassifier(n_estimators=400)\n",
    "lgbm_wrapper.fit(X_train,y_train,early_stopping_rounds=100,\n",
    "                eval_metric='logloss', eval_set=evals,verbose=False)\n",
    "preds = lgbm_wrapper.predict(X_test)\n",
    "get_clf_eval(y_test,preds)"
   ]
  },
  {
   "cell_type": "code",
   "execution_count": 25,
   "metadata": {},
   "outputs": [
    {
     "data": {
      "text/plain": [
       "<AxesSubplot:title={'center':'Feature importance'}, xlabel='Feature importance', ylabel='Features'>"
      ]
     },
     "execution_count": 25,
     "metadata": {},
     "output_type": "execute_result"
    },
    {
     "data": {
      "image/png": "[encoded data removed]",
      "text/plain": [
       "<Figure size 720x864 with 1 Axes>"
      ]
     },
     "metadata": {
      "needs_background": "light"
     },
     "output_type": "display_data"
    }
   ],
   "source": [
    "import matplotlib.pyplot as plt\n",
    "from lightgbm import plot_importance\n",
    "\n",
    "fig, ax = plt.subplots(figsize=(10,12))\n",
    "plot_importance(lgbm_wrapper, ax=ax)"
   ]
  },
  {
   "cell_type": "code",
   "execution_count": null,
   "metadata": {},
   "outputs": [],
   "source": []
  }
 ],
 "metadata": {
  "kernelspec": {
   "display_name": "Python [conda env:py37] *",
   "language": "python",
   "name": "conda-env-py37-py"
  },
  "language_info": {
   "codemirror_mode": {
    "name": "ipython",
    "version": 3
   },
   "file_extension": ".py",
   "mimetype": "text/x-python",
   "name": "python",
   "nbconvert_exporter": "python",
   "pygments_lexer": "ipython3",
   "version": "3.6.9"
  }
 },
 "nbformat": 4,
 "nbformat_minor": 2
}
