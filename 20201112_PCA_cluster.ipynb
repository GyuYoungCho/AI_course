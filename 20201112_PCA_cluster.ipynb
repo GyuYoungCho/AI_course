{
 "cells": [
  {
   "cell_type": "markdown",
   "metadata": {},
   "source": [
    "## 차원 축소\n",
    "### PCA(Principal Component Analysis) : 주성분 분석\n",
    "- 차원 축소 알고리즘, 비지도 학습\n",
    "- 이미지 데이터의 차원 축소, 자연언어 텍스트 의미 분석\n",
    "- 과적합을 방지할수 있다"
   ]
  },
  {
   "cell_type": "code",
   "execution_count": 1,
   "metadata": {},
   "outputs": [
    {
     "name": "stderr",
     "output_type": "stream",
     "text": [
      "C:\\Users\\Gyu\\Anaconda3\\envs\\py37\\lib\\site-packages\\numpy\\_distributor_init.py:32: UserWarning: loaded more than 1 DLL from .libs:\n",
      "C:\\Users\\Gyu\\Anaconda3\\envs\\py37\\lib\\site-packages\\numpy\\.libs\\libopenblas.PYQHXLVVQ7VESDPUVUADXEVJOBGHJPAY.gfortran-win_amd64.dll\n",
      "C:\\Users\\Gyu\\Anaconda3\\envs\\py37\\lib\\site-packages\\numpy\\.libs\\libopenblas.TXA6YQSD3GCQQC22GEQ54J2UDCXDXHWN.gfortran-win_amd64.dll\n",
      "  stacklevel=1)\n"
     ]
    }
   ],
   "source": [
    "from sklearn.datasets import load_iris\n",
    "import pandas as pd\n",
    "import matplotlib.pyplot as plt\n",
    "%matplotlib inline\n",
    "\n",
    "# iris 데이터를 가져오기\n",
    "iris = load_iris()\n",
    "type(iris)  # sklearn.utils.Bunch ==> numpy array의 묶음\n",
    "type(iris.data)    # X     numpy array\n",
    "type(iris.target)  # Y     numpy array \n",
    "# numpy array를 DataFrame으로 변환\n",
    "# sepal : 꽃받침    \n",
    "# petal : 꽃잎\n",
    "iris_df = pd.DataFrame(iris.data,columns=iris.feature_names)\n",
    "iris_df  # 원본 컬럼 이름을 출력\n",
    "\n",
    "# 컬럼 이름을 새로 만들어서 데이터 프레임을 생성\n",
    "columns = ['sepal_length','sepal_width','petal_length','petal_width']\n",
    "iris_df = pd.DataFrame(iris.data,columns=columns)\n",
    "\n",
    "# target 은 'setosa' : 0,  'versicolor' : 1   ,'virginica':2\n",
    "# 답이 3개 이상인 multi-classification \n",
    "iris_df['target'] = iris.target"
   ]
  },
  {
   "cell_type": "code",
   "execution_count": 2,
   "metadata": {},
   "outputs": [
    {
     "data": {
      "image/png": "[encoded data removed]",
      "text/plain": [
       "<Figure size 432x288 with 1 Axes>"
      ]
     },
     "metadata": {
      "needs_background": "light"
     },
     "output_type": "display_data"
    }
   ],
   "source": [
    "# 'setosa' : 세모,  'versicolor' : 네모   ,'virginica': 동그라미\n",
    "markers = ['^', 's', 'o']\n",
    "\n",
    "for i , marker in enumerate(markers):\n",
    "    x = iris_df[iris_df['target']==i]['sepal_length']\n",
    "    y = iris_df[iris_df['target']==i]['sepal_width']\n",
    "    plt.scatter(x,y,marker=marker,label=iris.target_names[i])\n",
    "plt.legend()\n",
    "plt.xlabel('sepal_length')\n",
    "plt.ylabel('sepal_width')\n",
    "plt.show()"
   ]
  },
  {
   "cell_type": "code",
   "execution_count": 3,
   "metadata": {},
   "outputs": [
    {
     "name": "stdout",
     "output_type": "stream",
     "text": [
      "(150, 2)\n"
     ]
    }
   ],
   "source": [
    "from sklearn.preprocessing import StandardScaler\n",
    "iris_scaled = StandardScaler().fit_transform(iris_df)\n",
    "# iris_scaled\n",
    "\n",
    "# PCA 변환\n",
    "from sklearn.decomposition import PCA\n",
    "\n",
    "pca = PCA(n_components=2)  # 축소될 차원 설정: 2차원\n",
    "pca.fit(iris_scaled)\n",
    "iris_pca = pca.transform(iris_scaled)\n",
    "print(iris_pca.shape)  #  (150,2)\n",
    "\n",
    "# PCA 변환 데이터를 target을 추가하여 데이터 프레임으로 변경\n",
    "pca_columns = ['pca_component_1','pca_component_2']\n",
    "iris_df_pca = pd.DataFrame(iris_pca,columns=pca_columns)\n",
    "iris_df_pca['target'] = iris.target\n"
   ]
  },
  {
   "cell_type": "code",
   "execution_count": 4,
   "metadata": {},
   "outputs": [
    {
     "data": {
      "image/png": "[encoded data removed]",
      "text/plain": [
       "<Figure size 432x288 with 1 Axes>"
      ]
     },
     "metadata": {
      "needs_background": "light"
     },
     "output_type": "display_data"
    }
   ],
   "source": [
    "# PCA 데이터의 시각화\n",
    "# 'setosa' : 세모,  'versicolor' : 네모   ,'virginica': 동그라미\n",
    "markers = ['^', 's', 'o']\n",
    "\n",
    "for i , marker in enumerate(markers):\n",
    "    x = iris_df_pca[iris_df_pca['target']==i]['pca_component_1']\n",
    "    y = iris_df_pca[iris_df_pca['target']==i]['pca_component_2']\n",
    "    plt.scatter(x,y,marker=marker,label=iris.target_names[i])\n",
    "plt.legend()\n",
    "plt.xlabel('pca_component_1')\n",
    "plt.ylabel('pca_component_2')\n",
    "plt.show()"
   ]
  },
  {
   "cell_type": "code",
   "execution_count": 5,
   "metadata": {},
   "outputs": [
    {
     "name": "stdout",
     "output_type": "stream",
     "text": [
      "[0.76740358 0.18282727]\n"
     ]
    }
   ],
   "source": [
    "print(pca.explained_variance_ratio_)"
   ]
  },
  {
   "cell_type": "code",
   "execution_count": 6,
   "metadata": {},
   "outputs": [
    {
     "name": "stdout",
     "output_type": "stream",
     "text": [
      "[0.98 0.94 0.96]\n"
     ]
    }
   ],
   "source": [
    "from sklearn.ensemble import RandomForestClassifier\n",
    "from sklearn.model_selection import cross_val_score\n",
    "\n",
    "rcf = RandomForestClassifier(random_state=156,n_estimators=100)\n",
    "\n",
    "# 원본 데이터로 교차 검증\n",
    "scores = cross_val_score(rcf,iris.data,iris.target,\n",
    "                         scoring='accuracy', cv=3)\n",
    "print(scores)"
   ]
  },
  {
   "cell_type": "code",
   "execution_count": 7,
   "metadata": {},
   "outputs": [
    {
     "name": "stdout",
     "output_type": "stream",
     "text": [
      "pca score: [0.98 0.98 1.  ]\n"
     ]
    }
   ],
   "source": [
    "pca_x = iris_df_pca.iloc[:,:-1]\n",
    "scores_pca = cross_val_score(rcf,pca_x,iris.target,\n",
    "                         scoring='accuracy', cv=3)\n",
    "print('pca score:',scores_pca)"
   ]
  },
  {
   "cell_type": "markdown",
   "metadata": {},
   "source": [
    "##  군집화(Clustering,클러스터링)\n",
    "\n",
    "- K-means(K-평균) , Mean Shift(평균이동), 친근도전파\n",
    "\n",
    "### K-means(K-평균)\n",
    "- N개의 표본을 K개의 군집으로 나눈다\n",
    "- 군집화중 가장 많이 사용, 쉽고 간결하다\n",
    "- 속성(변수)의 갯수가 너무 많으면 정확도가 떨어져서 PCA로 차원 감소가 필요\n",
    "- 몇개의 군집을 선택해야할지 어렵다"
   ]
  },
  {
   "cell_type": "code",
   "execution_count": 10,
   "metadata": {},
   "outputs": [
    {
     "data": {
      "text/html": [
       "<div>\n",
       "<style scoped>\n",
       "    .dataframe tbody tr th:only-of-type {\n",
       "        vertical-align: middle;\n",
       "    }\n",
       "\n",
       "    .dataframe tbody tr th {\n",
       "        vertical-align: top;\n",
       "    }\n",
       "\n",
       "    .dataframe thead th {\n",
       "        text-align: right;\n",
       "    }\n",
       "</style>\n",
       "<table border=\"1\" class=\"dataframe\">\n",
       "  <thead>\n",
       "    <tr style=\"text-align: right;\">\n",
       "      <th></th>\n",
       "      <th>sepal_length</th>\n",
       "      <th>sepal_width</th>\n",
       "      <th>petal_length</th>\n",
       "      <th>petal_width</th>\n",
       "    </tr>\n",
       "  </thead>\n",
       "  <tbody>\n",
       "    <tr>\n",
       "      <th>0</th>\n",
       "      <td>5.1</td>\n",
       "      <td>3.5</td>\n",
       "      <td>1.4</td>\n",
       "      <td>0.2</td>\n",
       "    </tr>\n",
       "    <tr>\n",
       "      <th>1</th>\n",
       "      <td>4.9</td>\n",
       "      <td>3.0</td>\n",
       "      <td>1.4</td>\n",
       "      <td>0.2</td>\n",
       "    </tr>\n",
       "    <tr>\n",
       "      <th>2</th>\n",
       "      <td>4.7</td>\n",
       "      <td>3.2</td>\n",
       "      <td>1.3</td>\n",
       "      <td>0.2</td>\n",
       "    </tr>\n",
       "  </tbody>\n",
       "</table>\n",
       "</div>"
      ],
      "text/plain": [
       "   sepal_length  sepal_width  petal_length  petal_width\n",
       "0           5.1          3.5           1.4          0.2\n",
       "1           4.9          3.0           1.4          0.2\n",
       "2           4.7          3.2           1.3          0.2"
      ]
     },
     "execution_count": 10,
     "metadata": {},
     "output_type": "execute_result"
    }
   ],
   "source": [
    "from sklearn.preprocessing import scale\n",
    "from sklearn.datasets import load_iris\n",
    "from sklearn.cluster import KMeans\n",
    "import matplotlib.pyplot as plt\n",
    "import numpy as np\n",
    "import pandas as pd\n",
    "%matplotlib inline\n",
    "\n",
    "iris = load_iris()\n",
    "columns = ['sepal_length',\n",
    "           'sepal_width',\n",
    "           'petal_length',\n",
    "           'petal_width']\n",
    "irisDF = pd.DataFrame(iris.data,columns=columns)\n",
    "irisDF.shape # (150, 4)\n",
    "irisDF.head(3)"
   ]
  },
  {
   "cell_type": "code",
   "execution_count": 11,
   "metadata": {},
   "outputs": [
    {
     "name": "stdout",
     "output_type": "stream",
     "text": [
      "[1 1 1 1 1 1 1 1 1 1 1 1 1 1 1 1 1 1 1 1 1 1 1 1 1 1 1 1 1 1 1 1 1 1 1 1 1\n",
      " 1 1 1 1 1 1 1 1 1 1 1 1 1 2 2 0 2 2 2 2 2 2 2 2 2 2 2 2 2 2 2 2 2 2 2 2 2\n",
      " 2 2 2 0 2 2 2 2 2 2 2 2 2 2 2 2 2 2 2 2 2 2 2 2 2 2 0 2 0 0 0 0 2 0 0 0 0\n",
      " 0 0 2 2 0 0 0 0 2 0 2 0 2 0 0 2 2 0 0 0 0 0 2 0 0 0 0 2 0 0 0 2 0 0 0 2 0\n",
      " 0 2]\n",
      "[[6.85       3.07368421 5.74210526 2.07105263]\n",
      " [5.006      3.428      1.462      0.246     ]\n",
      " [5.9016129  2.7483871  4.39354839 1.43387097]]\n"
     ]
    }
   ],
   "source": [
    "kmeans = KMeans(n_clusters=3, init='k-means++',max_iter=300,\n",
    "                random_state=0).fit(irisDF)\n",
    "print(kmeans.labels_)      # 각 데이터트가 속한 군집 중심점의 레이블\n",
    "print(kmeans.cluster_centers_)"
   ]
  },
  {
   "cell_type": "code",
   "execution_count": 12,
   "metadata": {},
   "outputs": [
    {
     "name": "stdout",
     "output_type": "stream",
     "text": [
      "target  cluster\n",
      "0       1          50\n",
      "1       0           2\n",
      "        2          48\n",
      "2       0          36\n",
      "        2          14\n",
      "Name: sepal_length, dtype: int64\n"
     ]
    }
   ],
   "source": [
    "irisDF['cluster'] = kmeans.labels_  # 원본 소스에 누락된 라인!!\n",
    "irisDF['target'] = iris.target\n",
    "irisDF\n",
    "iris_result = irisDF.groupby(['target','cluster'])['sepal_length'].count()\n",
    "print(iris_result)"
   ]
  },
  {
   "cell_type": "code",
   "execution_count": 13,
   "metadata": {},
   "outputs": [],
   "source": [
    "from sklearn.decomposition import PCA\n",
    "\n",
    "pca = PCA(n_components=2)\n",
    "pca_transformed = pca.fit_transform(iris.data)\n",
    "pca_transformed\n",
    "\n",
    "irisDF['pca_x'] = pca_transformed[:,0]\n",
    "irisDF['pca_y'] = pca_transformed[:,1]"
   ]
  },
  {
   "cell_type": "code",
   "execution_count": 14,
   "metadata": {},
   "outputs": [
    {
     "data": {
      "image/png": "[encoded data removed]",
      "text/plain": [
       "<Figure size 432x288 with 1 Axes>"
      ]
     },
     "metadata": {
      "needs_background": "light"
     },
     "output_type": "display_data"
    }
   ],
   "source": [
    "marker0_ind = irisDF[irisDF['cluster'] == 0].index  # 0번 군집의 행번호\n",
    "marker1_ind = irisDF[irisDF['cluster'] == 1].index  # 1번 군집의 행번호\n",
    "marker2_ind = irisDF[irisDF['cluster'] == 2].index  # 2번 군집의 행번호\n",
    "\n",
    "plt.scatter(x=irisDF.loc[marker0_ind,'pca_x'] , \n",
    "            y=irisDF.loc[marker0_ind,'pca_y'], marker='o')\n",
    "\n",
    "plt.scatter(x=irisDF.loc[marker1_ind,'pca_x'] , \n",
    "            y=irisDF.loc[marker1_ind,'pca_y'], marker='s')\n",
    "\n",
    "plt.scatter(x=irisDF.loc[marker2_ind,'pca_x'] , \n",
    "            y=irisDF.loc[marker2_ind,'pca_y'], marker='^')\n",
    "\n",
    "plt.xlabel('PCA_1')\n",
    "plt.ylabel('PCA_2')\n",
    "plt.title('3 Clusters Visualization by 2 PCA')\n",
    "plt.show()"
   ]
  },
  {
   "cell_type": "markdown",
   "metadata": {},
   "source": [
    "## 군집 평가"
   ]
  },
  {
   "cell_type": "code",
   "execution_count": 15,
   "metadata": {},
   "outputs": [
    {
     "name": "stdout",
     "output_type": "stream",
     "text": [
      "iris K-means 평균 실루엣 계수: 0.5528190123564091\n"
     ]
    }
   ],
   "source": [
    "from sklearn.metrics import silhouette_samples,silhouette_score\n",
    "\n",
    "\n",
    "kmeans = KMeans(n_clusters=3, init='k-means++',max_iter=300,\n",
    "                random_state=0).fit(irisDF)\n",
    "irisDF['cluster'] = kmeans.labels_\n",
    "\n",
    "# silhouette_samples() : 모든 개별데이터의 실루엣 계수를 구함\n",
    "score_samples = silhouette_samples(iris.data,irisDF['cluster'])\n",
    "# print(score_samples)   # (150,)\n",
    "\n",
    "irisDF['silhouette_coeff'] = score_samples\n",
    "irisDF\n",
    "\n",
    "# silhouette_score( ): 평균 실루엣 계수를 구함\n",
    "average_score = silhouette_score(iris.data,irisDF['cluster'])\n",
    "print('iris K-means 평균 실루엣 계수:',average_score)"
   ]
  },
  {
   "cell_type": "code",
   "execution_count": 16,
   "metadata": {},
   "outputs": [],
   "source": [
    "### 여러개의 클러스터링 갯수를 List로 입력 받아 각각의 실루엣 계수를 면적으로 시각화한 함수 작성\n",
    "def visualize_silhouette(cluster_lists, X_features): \n",
    "    \n",
    "    from sklearn.datasets import make_blobs\n",
    "    from sklearn.cluster import KMeans\n",
    "    from sklearn.metrics import silhouette_samples, silhouette_score\n",
    "\n",
    "    import matplotlib.pyplot as plt\n",
    "    import matplotlib.cm as cm\n",
    "    import math\n",
    "    \n",
    "    # 입력값으로 클러스터링 갯수들을 리스트로 받아서, 각 갯수별로 클러스터링을 적용하고 실루엣 개수를 구함\n",
    "    n_cols = len(cluster_lists)\n",
    "    \n",
    "    # plt.subplots()으로 리스트에 기재된 클러스터링 수만큼의 sub figures를 가지는 axs 생성 \n",
    "    fig, axs = plt.subplots(figsize=(4*n_cols, 4), nrows=1, ncols=n_cols)\n",
    "    \n",
    "    # 리스트에 기재된 클러스터링 갯수들을 차례로 iteration 수행하면서 실루엣 개수 시각화\n",
    "    for ind, n_cluster in enumerate(cluster_lists):\n",
    "        \n",
    "        # KMeans 클러스터링 수행하고, 실루엣 스코어와 개별 데이터의 실루엣 값 계산. \n",
    "        clusterer = KMeans(n_clusters = n_cluster, max_iter=500, random_state=0)\n",
    "        cluster_labels = clusterer.fit_predict(X_features)\n",
    "        \n",
    "        sil_avg = silhouette_score(X_features, cluster_labels)\n",
    "        sil_values = silhouette_samples(X_features, cluster_labels)\n",
    "        \n",
    "        y_lower = 10\n",
    "        axs[ind].set_title('Number of Cluster : '+ str(n_cluster)+'\\n' \\\n",
    "                          'Silhouette Score :' + str(round(sil_avg,3)) )\n",
    "        axs[ind].set_xlabel(\"The silhouette coefficient values\")\n",
    "        axs[ind].set_ylabel(\"Cluster label\")\n",
    "        axs[ind].set_xlim([-0.1, 1])\n",
    "        axs[ind].set_ylim([0, len(X_features) + (n_cluster + 1) * 10])\n",
    "        axs[ind].set_yticks([])  # Clear the yaxis labels / ticks\n",
    "        axs[ind].set_xticks([0, 0.2, 0.4, 0.6, 0.8, 1])\n",
    "        \n",
    "        # 클러스터링 갯수별로 fill_betweenx( )형태의 막대 그래프 표현. \n",
    "        for i in range(n_cluster):\n",
    "            ith_cluster_sil_values = sil_values[cluster_labels==i]\n",
    "            ith_cluster_sil_values.sort()\n",
    "            \n",
    "            size_cluster_i = ith_cluster_sil_values.shape[0]\n",
    "            y_upper = y_lower + size_cluster_i\n",
    "            \n",
    "            color = cm.nipy_spectral(float(i) / n_cluster)\n",
    "            axs[ind].fill_betweenx(np.arange(y_lower, y_upper), 0, ith_cluster_sil_values, \\\n",
    "                                facecolor=color, edgecolor=color, alpha=0.7)\n",
    "            axs[ind].text(-0.05, y_lower + 0.5 * size_cluster_i, str(i))\n",
    "            y_lower = y_upper + 10\n",
    "            \n",
    "        axs[ind].axvline(x=sil_avg, color=\"red\", linestyle=\"--\")"
   ]
  },
  {
   "cell_type": "code",
   "execution_count": 17,
   "metadata": {},
   "outputs": [
    {
     "data": {
      "image/png": "[encoded data removed]",
      "text/plain": [
       "<Figure size 1152x288 with 4 Axes>"
      ]
     },
     "metadata": {
      "needs_background": "light"
     },
     "output_type": "display_data"
    }
   ],
   "source": [
    "visualize_silhouette([2,3,4,5],iris.data)"
   ]
  },
  {
   "cell_type": "markdown",
   "metadata": {},
   "source": [
    "\n",
    "## 평균이동(Mean Shift)\n",
    "- 대역폭(bandwith)를 사용하여밀도가 높는곳으로 이동하여 중심을 찾는다\n",
    "- cluster(군집)의 갯수를 지정하지 않아도 자동으로 설정된다\n",
    "- 이미지나 영상데이터 처리에 자주 사용된다"
   ]
  },
  {
   "cell_type": "code",
   "execution_count": 1,
   "metadata": {},
   "outputs": [
    {
     "name": "stderr",
     "output_type": "stream",
     "text": [
      "C:\\Users\\Gyu\\Anaconda3\\envs\\py37\\lib\\site-packages\\numpy\\_distributor_init.py:32: UserWarning: loaded more than 1 DLL from .libs:\n",
      "C:\\Users\\Gyu\\Anaconda3\\envs\\py37\\lib\\site-packages\\numpy\\.libs\\libopenblas.PYQHXLVVQ7VESDPUVUADXEVJOBGHJPAY.gfortran-win_amd64.dll\n",
      "C:\\Users\\Gyu\\Anaconda3\\envs\\py37\\lib\\site-packages\\numpy\\.libs\\libopenblas.TXA6YQSD3GCQQC22GEQ54J2UDCXDXHWN.gfortran-win_amd64.dll\n",
      "  stacklevel=1)\n"
     ]
    },
    {
     "name": "stdout",
     "output_type": "stream",
     "text": [
      "x: (200, 2)\n",
      "y: (200,)\n",
      "cluster labels: [0 1 2 3 4 5 6 7]\n",
      "cluster labels: [0 1 2]\n"
     ]
    }
   ],
   "source": [
    "import numpy as np\n",
    "from sklearn.datasets import make_blobs\n",
    "from sklearn.cluster import MeanShift\n",
    "\n",
    "# make_blobs(): 임의의 데이터셋을 생성\n",
    "x, y = make_blobs(n_samples=200,n_features=2, centers=3,\n",
    "                 cluster_std=0.6, random_state=0)  # 원본소스수정 0.8-->0.6\n",
    "print('x:',x.shape)  # (200,2)\n",
    "print('y:',y.shape)  # (200,)\n",
    "\n",
    "# bandwidth=0.62일때  --> 8개 cluster\n",
    "meanshift = MeanShift(bandwidth=0.62)\n",
    "cluster_labels = meanshift.fit_predict(x)\n",
    "print('cluster labels:',np.unique(cluster_labels))  \n",
    "\n",
    "# bandwidth=1.114 일때  --. 3개 cluster\n",
    "meanshift = MeanShift(bandwidth=1.114)\n",
    "cluster_labels = meanshift.fit_predict(x)\n",
    "print('cluster labels:',np.unique(cluster_labels))"
   ]
  },
  {
   "cell_type": "code",
   "execution_count": 3,
   "metadata": {},
   "outputs": [
    {
     "name": "stdout",
     "output_type": "stream",
     "text": [
      "bandwidth: 1.114\n"
     ]
    }
   ],
   "source": [
    "# bandwidth 의 최적값을 구하기\n",
    "from sklearn.cluster import estimate_bandwidth\n",
    "\n",
    "bandwidth = estimate_bandwidth(x, quantile=0.2)\n",
    "print('bandwidth:',round(bandwidth,3) )"
   ]
  },
  {
   "cell_type": "code",
   "execution_count": 6,
   "metadata": {},
   "outputs": [
    {
     "name": "stdout",
     "output_type": "stream",
     "text": [
      "1.113759224777449\n",
      "cluster labels: [0 1 2]\n"
     ]
    }
   ],
   "source": [
    "import pandas as pd\n",
    "import matplotlib.pyplot as plt\n",
    "\n",
    "clusterDF = pd.DataFrame(data=x,columns=['ftr1','ftr2'])\n",
    "clusterDF['target'] = y     # [0,1,2]\n",
    "clusterDF\n",
    "\n",
    "# estimate_bandwidth() 사용하여 최적의 bandwidth계산\n",
    "best_bandwidth = estimate_bandwidth(x,quantile=0.2)\n",
    "print(best_bandwidth)\n",
    "\n",
    "meanshift = MeanShift(bandwidth=best_bandwidth) # 원본소스 오타\n",
    "cluster_labels = meanshift.fit_predict(x)\n",
    "print('cluster labels:',np.unique(cluster_labels))"
   ]
  },
  {
   "cell_type": "code",
   "execution_count": 7,
   "metadata": {},
   "outputs": [
    {
     "data": {
      "image/png": "[encoded data removed]",
      "text/plain": [
       "<Figure size 432x288 with 1 Axes>"
      ]
     },
     "metadata": {
      "needs_background": "light"
     },
     "output_type": "display_data"
    },
    {
     "name": "stdout",
     "output_type": "stream",
     "text": [
      "target  meanshift_label\n",
      "0       2                  67\n",
      "1       0                  67\n",
      "2       1                  66\n",
      "Name: meanshift_label, dtype: int64\n"
     ]
    }
   ],
   "source": [
    "clusterDF['meanshift_label'] = cluster_labels\n",
    "# clusterDF\n",
    "centers = meanshift.cluster_centers_\n",
    "# centers\n",
    "unique_labels = np.unique(cluster_labels)   # [0 1 2]\n",
    "markers = ['o','s','^','x','*']\n",
    "\n",
    "for label in unique_labels :\n",
    "    label_cluster = clusterDF[clusterDF['meanshift_label']==label]\n",
    "    center_x_y = centers[label]\n",
    "    \n",
    "    plt.scatter(x=label_cluster['ftr1'],y=label_cluster['ftr2'],\n",
    "               edgecolor='k',marker=markers[label])\n",
    "    # 중심점(center)을 표시\n",
    "    plt.scatter(x=center_x_y[0],y=center_x_y[1],s=300,color='white',\n",
    "               edgecolor='k',alpha = 0.7, marker=markers[label])\n",
    "\n",
    "    plt.scatter(x=center_x_y[0],y=center_x_y[1],s=100,color='k',\n",
    "               edgecolor='k', marker='$%d$'%label)\n",
    "              \n",
    "    \n",
    "plt.show()\n",
    "print(clusterDF.groupby('target')['meanshift_label'].value_counts())"
   ]
  },
  {
   "cell_type": "code",
   "execution_count": 8,
   "metadata": {},
   "outputs": [
    {
     "name": "stdout",
     "output_type": "stream",
     "text": [
      "Mean Shift 평균 실루엣 계수: 0.6771591392061186\n"
     ]
    }
   ],
   "source": [
    "# 실루엣(silhouette) 분석\n",
    "# 실루엣 계수 : 군집화의 지표, 높을수로 좋음\n",
    "\n",
    "from sklearn.metrics import silhouette_samples,silhouette_score\n",
    "\n",
    "# silhouette_samples() : 모든 개별데이터의 실루엣 계수를 구함\n",
    "score_samples = silhouette_samples(x,clusterDF['meanshift_label'])\n",
    "# print(score_samples)   \n",
    "\n",
    "clusterDF['silhouette_coeff'] = score_samples\n",
    "clusterDF\n",
    "\n",
    "# silhouette_score( ): 평균 실루엣 계수를 구함\n",
    "average_score = silhouette_score(x,clusterDF['meanshift_label'])\n",
    "print('Mean Shift 평균 실루엣 계수:',average_score) # 0.677"
   ]
  },
  {
   "cell_type": "code",
   "execution_count": 9,
   "metadata": {},
   "outputs": [
    {
     "name": "stderr",
     "output_type": "stream",
     "text": [
      "C:\\Users\\Gyu\\AppData\\Roaming\\Python\\Python36\\site-packages\\sklearn\\utils\\deprecation.py:143: FutureWarning: The sklearn.datasets.samples_generator module is  deprecated in version 0.22 and will be removed in version 0.24. The corresponding classes / functions should instead be imported from sklearn.datasets. Anything that cannot be imported from sklearn.datasets is now part of the private API.\n",
      "  warnings.warn(message, FutureWarning)\n"
     ]
    },
    {
     "name": "stdout",
     "output_type": "stream",
     "text": [
      "cluster_centers: [[ 0.93225517 -0.89897855]\n",
      " [-0.93515269 -1.00647367]\n",
      " [ 1.01510296  0.92508451]]\n",
      "number of estimated clusters : 3\n"
     ]
    },
    {
     "data": {
      "image/png": "[encoded data removed]",
      "text/plain": [
       "<Figure size 432x288 with 1 Axes>"
      ]
     },
     "metadata": {
      "needs_background": "light"
     },
     "output_type": "display_data"
    }
   ],
   "source": [
    "import numpy as np\n",
    "from sklearn.cluster import MeanShift, estimate_bandwidth\n",
    "from sklearn.datasets.samples_generator import make_blobs\n",
    "\n",
    "# #############################################################################\n",
    "# Generate sample data\n",
    "centers = [[1, 1], [-1, -1], [1, -1]]\n",
    "X, _ = make_blobs(n_samples=10000, centers=centers, cluster_std=0.6)\n",
    "\n",
    "# #############################################################################\n",
    "# Compute clustering with MeanShift\n",
    "\n",
    "# The following bandwidth can be automatically detected using\n",
    "bandwidth = estimate_bandwidth(X, quantile=0.2, n_samples=500)\n",
    "\n",
    "ms = MeanShift(bandwidth=bandwidth, bin_seeding=True)\n",
    "ms.fit(X)\n",
    "labels = ms.labels_\n",
    "cluster_centers = ms.cluster_centers_\n",
    "print('cluster_centers:',cluster_centers)\n",
    "labels_unique = np.unique(labels)\n",
    "n_clusters_ = len(labels_unique)\n",
    "\n",
    "print(\"number of estimated clusters : %d\" % n_clusters_)\n",
    "\n",
    "# #############################################################################\n",
    "# Plot result\n",
    "import matplotlib.pyplot as plt\n",
    "from itertools import cycle\n",
    "\n",
    "plt.figure(1)\n",
    "plt.clf()\n",
    "\n",
    "colors = cycle('bgrcmykbgrcmykbgrcmykbgrcmyk')\n",
    "for k, col in zip(range(n_clusters_), colors):\n",
    "    my_members = labels == k\n",
    "    cluster_center = cluster_centers[k]\n",
    "    plt.plot(X[my_members, 0], X[my_members, 1], col + '.')\n",
    "    plt.plot(cluster_center[0], cluster_center[1], 'o', markerfacecolor=col,\n",
    "             markeredgecolor='k', markersize=14)\n",
    "plt.title('Estimated number of clusters: %d' % n_clusters_)\n",
    "plt.show()"
   ]
  },
  {
   "cell_type": "code",
   "execution_count": null,
   "metadata": {},
   "outputs": [],
   "source": []
  }
 ],
 "metadata": {
  "kernelspec": {
   "display_name": "Python [conda env:py37] *",
   "language": "python",
   "name": "conda-env-py37-py"
  },
  "language_info": {
   "codemirror_mode": {
    "name": "ipython",
    "version": 3
   },
   "file_extension": ".py",
   "mimetype": "text/x-python",
   "name": "python",
   "nbconvert_exporter": "python",
   "pygments_lexer": "ipython3",
   "version": "3.6.9"
  }
 },
 "nbformat": 4,
 "nbformat_minor": 2
}
