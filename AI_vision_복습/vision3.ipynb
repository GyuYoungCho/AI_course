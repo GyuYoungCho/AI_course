{
 "cells": [
  {
   "cell_type": "markdown",
   "metadata": {},
   "source": [
    "## 생성모델\n",
    "\n",
    "\n",
    "1. AI(Artificial Intelligence) \n",
    "2. ML(Machine Learning) \n",
    "3. **RL(Representation Learning)**\n",
    "4. DL(Deep Learning)\n",
    "\n",
    "\n",
    "### Representation Learning\n",
    "- 추상적인 특징을 추출\n",
    "    - Auto-encoder, Variational Auto-encoder\n",
    "    - GAN\n",
    "- 학습 잘 안되고 느림\n",
    "- 데이터가 없는 경우 생성모델을 이용해서 데이터 확보 실제로는 불가\n",
    "\n",
    "\n",
    "#### AutoEncoder\n",
    "- 학습을 통해서 데이터의 추상적인 특징을 추출해서 다시 복원 \n",
    "    - Encoder: 이미지의 특징을 추상화해서 간략하게 표현\n",
    "    - Decoder: 간략하게 표현한 것을 다시 원본처럼 복원\n",
    "> abstraction(추상화) : 불필요한 것을 제거해서 작게 표현\n",
    "\n",
    "\n",
    "> 시사인 얀르쿤 인터뷰(2008) 참고:https://www.sisain.co.kr/news/articleView.html?idxno=32487\n",
    "\n",
    "\n",
    "#### Autoencoder 3요소 \n",
    "1. loss function\n",
    "    - 비지도학습:자기 자신와 생성된 이미지와 비교\n",
    "2. encoding function\n",
    "    - 원본에 대한 압축된 표현\n",
    "3. decoding function\n",
    "    - 원본에 가깝게압축 해제 복원\n",
    "\n",
    "-  활용\n",
    "    - 고유의 특성을 학습해서 복원하기 때문에 노이즈 제거, 이상치 탐색 가능\n",
    "#### 구조\n",
    "- Deep/stacked Autoencoder: 여러개의 encoder, decoder\n",
    "    - 추상화 단계가 급격하지 않음\n",
    "    \n",
    "- Keras autoencoder(2016): https://keraskorea.github.io/posts/2018-10-23-keras_autoencoder/"
   ]
  },
  {
   "cell_type": "code",
   "execution_count": 1,
   "metadata": {},
   "outputs": [
    {
     "name": "stderr",
     "output_type": "stream",
     "text": [
      "C:\\Users\\Gyu\\Anaconda3\\envs\\py37\\lib\\site-packages\\numpy\\_distributor_init.py:32: UserWarning: loaded more than 1 DLL from .libs:\n",
      "C:\\Users\\Gyu\\Anaconda3\\envs\\py37\\lib\\site-packages\\numpy\\.libs\\libopenblas.PYQHXLVVQ7VESDPUVUADXEVJOBGHJPAY.gfortran-win_amd64.dll\n",
      "C:\\Users\\Gyu\\Anaconda3\\envs\\py37\\lib\\site-packages\\numpy\\.libs\\libopenblas.TXA6YQSD3GCQQC22GEQ54J2UDCXDXHWN.gfortran-win_amd64.dll\n",
      "  stacklevel=1)\n"
     ]
    }
   ],
   "source": [
    "import tensorflow as tf\n",
    "\n",
    "(X_train,_),(X_test,_)=tf.keras.datasets.mnist.load_data() # y값 불필요\n",
    "#scaling\n",
    "X_train=X_train/255\n",
    "X_test=X_test/255\n",
    "#input=784\n",
    "X_train=X_train.reshape(-1,28*28)\n",
    "X_test=X_test.reshape(-1,28*28)\n",
    "\n",
    "##함수형 패러다임 \n",
    "input_img = tf.keras.Input(shape=(784,))\n",
    "encoded = tf.keras.layers.Dense(32, activation='relu')(input_img)\n",
    "decoded = tf.keras.layers.Dense(784, activation='sigmoid')(encoded)\n",
    "\n",
    "#multi-inputs,multi-outputs 지원\n",
    "autoencoder = tf.keras.Model(input_img, decoded)"
   ]
  },
  {
   "cell_type": "code",
   "execution_count": 3,
   "metadata": {},
   "outputs": [
    {
     "name": "stdout",
     "output_type": "stream",
     "text": [
      "Epoch 1/20\n",
      "469/469 [==============================] - 1s 2ms/step - loss: 0.0937\n",
      "Epoch 2/20\n",
      "469/469 [==============================] - 1s 2ms/step - loss: 0.0936\n",
      "Epoch 3/20\n",
      "469/469 [==============================] - 1s 2ms/step - loss: 0.0935\n",
      "Epoch 4/20\n",
      "469/469 [==============================] - 1s 2ms/step - loss: 0.0934\n",
      "Epoch 5/20\n",
      "469/469 [==============================] - 1s 2ms/step - loss: 0.0934\n",
      "Epoch 6/20\n",
      "469/469 [==============================] - 1s 2ms/step - loss: 0.0934\n",
      "Epoch 7/20\n",
      "469/469 [==============================] - 1s 2ms/step - loss: 0.0933\n",
      "Epoch 8/20\n",
      "469/469 [==============================] - 1s 2ms/step - loss: 0.0933\n",
      "Epoch 9/20\n",
      "469/469 [==============================] - 1s 2ms/step - loss: 0.0932\n",
      "Epoch 10/20\n",
      "469/469 [==============================] - 1s 2ms/step - loss: 0.0932\n",
      "Epoch 11/20\n",
      "469/469 [==============================] - 1s 2ms/step - loss: 0.0932\n",
      "Epoch 12/20\n",
      "469/469 [==============================] - 1s 2ms/step - loss: 0.0931\n",
      "Epoch 13/20\n",
      "469/469 [==============================] - 1s 2ms/step - loss: 0.0931\n",
      "Epoch 14/20\n",
      "469/469 [==============================] - 1s 2ms/step - loss: 0.0931\n",
      "Epoch 15/20\n",
      "469/469 [==============================] - 1s 2ms/step - loss: 0.0931\n",
      "Epoch 16/20\n",
      "469/469 [==============================] - 1s 2ms/step - loss: 0.0931\n",
      "Epoch 17/20\n",
      "469/469 [==============================] - 1s 2ms/step - loss: 0.0930\n",
      "Epoch 18/20\n",
      "469/469 [==============================] - 1s 2ms/step - loss: 0.0930\n",
      "Epoch 19/20\n",
      "469/469 [==============================] - 1s 2ms/step - loss: 0.0930\n",
      "Epoch 20/20\n",
      "469/469 [==============================] - 1s 2ms/step - loss: 0.0930\n"
     ]
    },
    {
     "data": {
      "text/plain": [
       "<tensorflow.python.keras.callbacks.History at 0x1aaaa53f588>"
      ]
     },
     "execution_count": 3,
     "metadata": {},
     "output_type": "execute_result"
    }
   ],
   "source": [
    "autoencoder.compile(loss='binary_crossentropy',optimizer='adam') \n",
    "autoencoder.fit(X_train,X_train, epochs=20, batch_size=128)\n",
    "\n",
    "# loss가 변하지 않음(Plateau)"
   ]
  },
  {
   "cell_type": "markdown",
   "metadata": {},
   "source": [
    "원래이미지와 autoencoder 통해 복원된 이미지 비교\n",
    "    \n",
    "- 압축,해제과정에서 손실이 있어서 흐릿함\n",
    "- 실제처럼 표현하기 힘듦"
   ]
  },
  {
   "cell_type": "code",
   "execution_count": 5,
   "metadata": {},
   "outputs": [
    {
     "data": {
      "text/plain": [
       "<matplotlib.image.AxesImage at 0x1aaaa537240>"
      ]
     },
     "execution_count": 5,
     "metadata": {},
     "output_type": "execute_result"
    },
    {
     "data": {
      "image/png": "[encoded data removed]",
      "text/plain": [
       "<Figure size 432x288 with 1 Axes>"
      ]
     },
     "metadata": {
      "needs_background": "light"
     },
     "output_type": "display_data"
    }
   ],
   "source": [
    "import matplotlib.pyplot as plt\n",
    "plt.imshow(X_test[0].reshape(28,28))"
   ]
  },
  {
   "cell_type": "code",
   "execution_count": 6,
   "metadata": {},
   "outputs": [
    {
     "data": {
      "text/plain": [
       "<matplotlib.image.AxesImage at 0x1aaab0cf0f0>"
      ]
     },
     "execution_count": 6,
     "metadata": {},
     "output_type": "execute_result"
    },
    {
     "data": {
      "image/png": "[encoded data removed]",
      "text/plain": [
       "<Figure size 432x288 with 1 Axes>"
      ]
     },
     "metadata": {
      "needs_background": "light"
     },
     "output_type": "display_data"
    }
   ],
   "source": [
    "plt.imshow(autoencoder(X_test[0][tf.newaxis]).numpy().reshape(28,28))"
   ]
  },
  {
   "cell_type": "markdown",
   "metadata": {},
   "source": [
    "#### regularizer\n",
    "- 급격하게 변하는것을 막음\n",
    "    - L1,L2: weight decay \n",
    "    - kernel, bias regularizer  : overfitting 방지\n",
    "    - activity regularizer\n",
    "    \n",
    "#### activity regularizer\n",
    "- 표현을 더 간결하게 제한\n",
    "\n",
    "\n",
    "---\n",
    "\n",
    "- 200번 epoch 해서 더 실제 이미지와 가깝도록 해야함\n",
    "-  overfitting되야 더 실제 같음\n",
    "\n",
    "### Deep Auto-Encoder:\n",
    "- 여러개의 encoder, decoder를 쌓음stacking\n",
    "- 추상화 단계가 급격하지 않음\n",
    "- 딥하면 학습이 잘 안되어 데이터 많이 필요\n",
    "\n",
    "\n",
    "모델을 레이어로 만들면 유지보수 편함\n",
    "- 재활용 가능\n",
    "\n",
    "\n",
    "### Model 상속\n",
    "- call : build, __call__ [closure technique ]\n",
    "- composition: 다른 클래스를 클래스 내부에 정의\n",
    "- 파이썬 객체지향: 접근제한자 없어서 외부에서 접근 가능\n",
    "\n",
    "\n",
    "- TensorFlow autoencoder(2019): https://www.tensorflow.org/tutorials/generative/autoencoder"
   ]
  },
  {
   "cell_type": "code",
   "execution_count": 7,
   "metadata": {},
   "outputs": [],
   "source": [
    "latent_dim = 64 \n",
    "\n",
    "class Autoencoder(tf.keras.Model):\n",
    "  def __init__(self, latent_dim):\n",
    "    super(Autoencoder, self).__init__()\n",
    "    #접근 가능\n",
    "    self.latent_dim = latent_dim   \n",
    "    self.encoder = tf.keras.Sequential([\n",
    "      tf.keras.layers.Flatten(),\n",
    "      tf.keras.layers.Dense(latent_dim, activation='relu'),\n",
    "    ])\n",
    "    self.decoder = tf.keras.Sequential([\n",
    "      tf.keras.layers.Dense(784, activation='sigmoid'),\n",
    "      tf.keras.layers.Reshape((28, 28))\n",
    "    ])\n",
    "\n",
    "  def call(self, x): \n",
    "    #접근 불가\n",
    "    encoded = self.encoder(x)\n",
    "    decoded = self.decoder(encoded)\n",
    "    return decoded #return self.decoder(self.encoder(x))\n",
    "\n",
    "autoencoder = Autoencoder(latent_dim)"
   ]
  },
  {
   "cell_type": "code",
   "execution_count": 8,
   "metadata": {},
   "outputs": [
    {
     "data": {
      "text/plain": [
       "<tensorflow.python.keras.engine.sequential.Sequential at 0x1aae2acba90>"
      ]
     },
     "execution_count": 8,
     "metadata": {},
     "output_type": "execute_result"
    }
   ],
   "source": [
    "autoencoder.encoder  #접근 가능"
   ]
  },
  {
   "cell_type": "code",
   "execution_count": 10,
   "metadata": {},
   "outputs": [
    {
     "name": "stdout",
     "output_type": "stream",
     "text": [
      "Epoch 1/10\n",
      "1875/1875 [==============================] - 2s 1ms/step - loss: 0.0237 - val_loss: 0.0131\n",
      "Epoch 2/10\n",
      "1875/1875 [==============================] - 2s 1ms/step - loss: 0.0116 - val_loss: 0.0109\n",
      "Epoch 3/10\n",
      "1875/1875 [==============================] - 2s 1ms/step - loss: 0.0101 - val_loss: 0.0098\n",
      "Epoch 4/10\n",
      "1875/1875 [==============================] - 2s 1ms/step - loss: 0.0094 - val_loss: 0.0093\n",
      "Epoch 5/10\n",
      "1875/1875 [==============================] - 2s 1ms/step - loss: 0.0091 - val_loss: 0.0091\n",
      "Epoch 6/10\n",
      "1875/1875 [==============================] - 2s 1ms/step - loss: 0.0090 - val_loss: 0.0090\n",
      "Epoch 7/10\n",
      "1875/1875 [==============================] - 2s 949us/step - loss: 0.0089 - val_loss: 0.0089\n",
      "Epoch 8/10\n",
      "1875/1875 [==============================] - 2s 1ms/step - loss: 0.0088 - val_loss: 0.0089\n",
      "Epoch 9/10\n",
      "1875/1875 [==============================] - 2s 1ms/step - loss: 0.0087 - val_loss: 0.0088\n",
      "Epoch 10/10\n",
      "1875/1875 [==============================] - 2s 1ms/step - loss: 0.0087 - val_loss: 0.0088\n"
     ]
    },
    {
     "data": {
      "text/plain": [
       "<tensorflow.python.keras.callbacks.History at 0x1aae4ab6b70>"
      ]
     },
     "execution_count": 10,
     "metadata": {},
     "output_type": "execute_result"
    }
   ],
   "source": [
    "autoencoder.compile(loss='mse',optimizer='adam')\n",
    "\n",
    "(x_train, _), (x_test, _) = tf.keras.datasets.fashion_mnist.load_data()\n",
    "\n",
    "x_train = x_train.astype('float32') / 255.\n",
    "x_test = x_test.astype('float32') / 255.\n",
    "\n",
    "autoencoder.fit(x_train, x_train,\n",
    "                epochs=10,\n",
    "                shuffle=True,\n",
    "                validation_data=(x_test, x_test))"
   ]
  },
  {
   "cell_type": "code",
   "execution_count": 16,
   "metadata": {},
   "outputs": [
    {
     "data": {
      "text/plain": [
       "<tf.Tensor: shape=(10000, 64), dtype=float32, numpy=\n",
       "array([[1.1570117 , 4.314016  , 1.4968195 , ..., 1.3828535 , 1.1419623 ,\n",
       "        0.7940743 ],\n",
       "       [4.0319014 , 0.        , 5.7508836 , ..., 3.829082  , 9.073799  ,\n",
       "        6.2815704 ],\n",
       "       [0.57289726, 3.7839346 , 3.338959  , ..., 0.4978652 , 0.9338678 ,\n",
       "        1.5739368 ],\n",
       "       ...,\n",
       "       [2.689516  , 1.1122463 , 4.3605666 , ..., 6.1248355 , 1.4902534 ,\n",
       "        1.7909719 ],\n",
       "       [3.3613734 , 4.4272966 , 0.        , ..., 0.35856962, 0.6296313 ,\n",
       "        3.1830797 ],\n",
       "       [1.8812144 , 2.131925  , 3.112015  , ..., 1.250097  , 1.0856222 ,\n",
       "        1.4960116 ]], dtype=float32)>"
      ]
     },
     "execution_count": 16,
     "metadata": {},
     "output_type": "execute_result"
    }
   ],
   "source": [
    "autoencoder.encoder(x_test)"
   ]
  },
  {
   "cell_type": "markdown",
   "metadata": {},
   "source": [
    "### 이미지 denoising \n",
    "- 이미지의 noise를 제거"
   ]
  },
  {
   "cell_type": "code",
   "execution_count": 17,
   "metadata": {},
   "outputs": [
    {
     "data": {
      "text/plain": [
       "<matplotlib.image.AxesImage at 0x1aae4daad68>"
      ]
     },
     "execution_count": 17,
     "metadata": {},
     "output_type": "execute_result"
    },
    {
     "data": {
      "image/png": "[encoded data removed]",
      "text/plain": [
       "<Figure size 432x288 with 1 Axes>"
      ]
     },
     "metadata": {
      "needs_background": "light"
     },
     "output_type": "display_data"
    }
   ],
   "source": [
    "x_train_noise=x_train +0.3 *tf.random.normal(shape=x_train.shape)\n",
    "plt.imshow(x_train_noise[0].numpy())"
   ]
  },
  {
   "cell_type": "code",
   "execution_count": 18,
   "metadata": {},
   "outputs": [
    {
     "data": {
      "text/plain": [
       "<matplotlib.image.AxesImage at 0x1aae5589b00>"
      ]
     },
     "execution_count": 18,
     "metadata": {},
     "output_type": "execute_result"
    },
    {
     "data": {
      "image/png": "[encoded data removed]",
      "text/plain": [
       "<Figure size 432x288 with 1 Axes>"
      ]
     },
     "metadata": {
      "needs_background": "light"
     },
     "output_type": "display_data"
    }
   ],
   "source": [
    "t=autoencoder(x_train_noise[0].numpy()[tf.newaxis]).numpy()\n",
    "plt.imshow(t.reshape(28,28))"
   ]
  },
  {
   "cell_type": "markdown",
   "metadata": {},
   "source": [
    "### DCautoencoder\n",
    "- Deep Convolution autoencoder\n",
    "    - Fully connected 를 convolution으로 교체\n",
    "\n",
    "- 성능이 압도적으로 좋음\n",
    "- pooling대신 strides\n",
    "- padding = valid, same\n",
    "- Conv2DTranspose :deconvolution 컨볼루션의 반대"
   ]
  },
  {
   "cell_type": "code",
   "execution_count": 20,
   "metadata": {},
   "outputs": [],
   "source": [
    "from tensorflow.keras import layers\n",
    "\n",
    "class DCAutoencoder(tf.keras.Model):\n",
    "  def __init__(self):\n",
    "    super( ).__init__()\n",
    "    \n",
    "    self.encoder = tf.keras.Sequential([\n",
    "        tf.keras.Input(shape=(28,28,1)), #build 에서 모양 미리 결정\n",
    "        tf.keras.layers.Conv2D(64,3,activation='relu',\n",
    "                              padding='same',strides=2),\n",
    "        tf.keras.layers.Conv2D(32,3,activation='relu',\n",
    "                               padding='same',strides=2)\n",
    "    ])\n",
    "    self.decoder = tf.keras.Sequential([\n",
    "        tf.keras.layers.Conv2DTranspose(32,3, padding='same',strides=2), \n",
    "        tf.keras.layers.Conv2DTranspose(64,6, padding='same',strides=2), \n",
    "        tf.keras.layers.Conv2D(1,3,activation='sigmoid',padding='same')\n",
    "    ])\n",
    "\n",
    "  def call(self, x): \n",
    "     return self.decoder(self.encoder(x))\n",
    "    \n",
    "\n",
    "input_img = tf.keras.Input(shape=(28, 28, 1))\n",
    "\n",
    "x = layers.Conv2D(16, (3, 3), activation='relu', padding='same')(input_img)\n",
    "x = layers.MaxPooling2D((2, 2), padding='same')(x)\n",
    "x = layers.Conv2D(8, (3, 3), activation='relu', padding='same')(x)\n",
    "x = layers.MaxPooling2D((2, 2), padding='same')(x)\n",
    "x = layers.Conv2D(8, (3, 3), activation='relu', padding='same')(x)\n",
    "encoded = layers.MaxPooling2D((2, 2), padding='same')(x)\n",
    "\n",
    "\n",
    "x = layers.Conv2D(8, (3, 3), activation='relu', padding='same')(encoded)\n",
    "x = layers.UpSampling2D((2, 2))(x)\n",
    "x = layers.Conv2D(8, (3, 3), activation='relu', padding='same')(x)\n",
    "x = layers.UpSampling2D((2, 2))(x)\n",
    "x = layers.Conv2D(16, (3, 3), activation='relu')(x)\n",
    "x = layers.UpSampling2D((2, 2))(x)\n",
    "decoded = layers.Conv2D(1, (3, 3), activation='sigmoid', padding='same')(x)\n",
    "\n",
    "autoencoder = tf.keras.Model(input_img, decoded)\n",
    "dcautoencoder=DCAutoencoder()"
   ]
  },
  {
   "cell_type": "code",
   "execution_count": 21,
   "metadata": {},
   "outputs": [
    {
     "name": "stdout",
     "output_type": "stream",
     "text": [
      "Epoch 1/2\n",
      "1875/1875 [==============================] - 165s 88ms/step - loss: 0.0705\n",
      "Epoch 2/2\n",
      "1875/1875 [==============================] - 163s 87ms/step - loss: 0.0610\n"
     ]
    },
    {
     "data": {
      "text/plain": [
       "<tensorflow.python.keras.callbacks.History at 0x1aae5687748>"
      ]
     },
     "execution_count": 21,
     "metadata": {},
     "output_type": "execute_result"
    }
   ],
   "source": [
    "dcautoencoder.compile(loss='binary_crossentropy',optimizer='adam')\n",
    "X_train=X_train.reshape(-1,28,28,1)\n",
    "dcautoencoder.fit(X_train, X_train, epochs=2)"
   ]
  },
  {
   "cell_type": "code",
   "execution_count": 22,
   "metadata": {},
   "outputs": [
    {
     "data": {
      "text/plain": [
       "<matplotlib.image.AxesImage at 0x1aae57fbd68>"
      ]
     },
     "execution_count": 22,
     "metadata": {},
     "output_type": "execute_result"
    },
    {
     "data": {
      "image/png": "[encoded data removed]",
      "text/plain": [
       "<Figure size 432x288 with 1 Axes>"
      ]
     },
     "metadata": {
      "needs_background": "light"
     },
     "output_type": "display_data"
    }
   ],
   "source": [
    "t=dcautoencoder(x_train_noise[0].numpy()[tf.newaxis]).numpy()\n",
    "plt.imshow(t.reshape(28,28))"
   ]
  },
  {
   "cell_type": "markdown",
   "metadata": {},
   "source": [
    "### Convolutional VAE\n",
    "- 참고 : https://www.tensorflow.org/tutorials/generative/cvae\n",
    "    - VAE 추정 기법 사용해서 GAN과 같이 원하는 데이터 파라미터 조작해서 만듦\n",
    "    \n",
    "---\n",
    "\n",
    "## GAN\n",
    "- generative adversarial Network\n",
    "> - 최근 10년간 머신러닝 분야에서 가장 혁신적인 아이디어 -얀르쿤-\n",
    "\n",
    "> - discriminant model vs generative model\n",
    "    - discriminant model: decision boundary 찾음\n",
    "    - generative model : 숨어있는 확률 분포를 찾아서 분포와 설질이 비슷한 데이터 생성\n",
    "    \n",
    "Adversarial\n",
    "- 적대적 경쟁 관계\n",
    "    - 어떻게 하면 진짜 와인과 가짜 와인을 구별해서 안 속을 까\n",
    "    속다가 안속게 되는 경우더 정교하게 속일려고\n",
    "    속이는 애와 탐지하는 애 \n",
    "    경쟁시켜서 가짜를 진짜에 가깝게 만들게됨\n",
    "- 학습이 잘 안되어서 학습테크닉 중요\n",
    "- 임의의 분포 -> generator -> 가짜이미지 생성 -> Discriminator -> 진/가품\n",
    "    - 답에따라서 더 정교하게 학습\n",
    "    - zero-sum: generator 생성 능력 - discrimiantor 구별 능력\n",
    "\n",
    "> 이미지 라이브러리:imageio, skimage,scipy\n",
    "\n",
    "### imageio\n",
    "- 이미지 input,output  \n",
    "\n",
    "---\n",
    "\n",
    "### DCGAN\n",
    "- Deep Convolution generative adversarial Network 심층 합성곱 생성적 적대 신경망\n",
    "\n",
    "\n",
    "- GAN 참고:https://www.tensorflow.org/tutorials/generative/dcgan?hl=ko"
   ]
  },
  {
   "cell_type": "code",
   "execution_count": 23,
   "metadata": {},
   "outputs": [],
   "source": [
    "import time\n",
    "import glob\n",
    "import PIL\n",
    "import imageio\n",
    "import numpy as np\n",
    "import os\n",
    "\n",
    "from IPython import display"
   ]
  },
  {
   "cell_type": "code",
   "execution_count": 24,
   "metadata": {},
   "outputs": [],
   "source": [
    "(train_images, train_labels), (_, _) = tf.keras.datasets.mnist.load_data()\n",
    "train_images = train_images.reshape(train_images.shape[0], 28, 28, 1).astype('float32')\n",
    "train_images = (train_images - 127.5) / 127.5 \n"
   ]
  },
  {
   "cell_type": "markdown",
   "metadata": {},
   "source": [
    "sigmoid ziazag현상 \n",
    "- 0~1사이로 항상 양수값만 나옴\n",
    "\n",
    "- zero-centered, tanh 이용해서 학습이 더 잘되도록 함\n",
    "    - search space 2배"
   ]
  },
  {
   "cell_type": "code",
   "execution_count": 25,
   "metadata": {},
   "outputs": [
    {
     "data": {
      "text/plain": [
       "<tf.Tensor 'up_sampling2d_5/resize/ResizeNearestNeighbor:0' shape=(None, 28, 28, 16) dtype=float32>"
      ]
     },
     "execution_count": 25,
     "metadata": {},
     "output_type": "execute_result"
    }
   ],
   "source": [
    "tf.cast(x,tf.float32) #새로운 타입으로 만듦"
   ]
  },
  {
   "cell_type": "code",
   "execution_count": 51,
   "metadata": {},
   "outputs": [],
   "source": [
    "BUFFER_SIZE = 60000\n",
    "BATCH_SIZE = 256\n",
    "#256 batch\n",
    "train_dataset = tf.data.Dataset.from_tensor_slices(train_images).shuffle(BUFFER_SIZE).batch(BATCH_SIZE)"
   ]
  },
  {
   "cell_type": "code",
   "execution_count": 26,
   "metadata": {},
   "outputs": [],
   "source": [
    "s=tf.data.Dataset.from_tensor_slices(train_images)\n",
    " # 2차원 : 모델에 사용에 편이\n",
    "t=tf.data.Dataset.from_tensors(train_images)\n",
    "# 3차원 #데이터 관리에 편이"
   ]
  },
  {
   "cell_type": "markdown",
   "metadata": {},
   "source": [
    "### generator\n",
    "\n",
    "- bias 사용하지 않아 더 간단한 모델\n",
    "- BatchNormalization 학습이 잘 되기 위해서 activation 이전에 사용\n",
    "    - Resnet(2015) 레이어가 깊어질수록 학습이 안 되는 현상\n",
    "        - batch 나눈거만큼 normalization 해서 152layers 학습\n",
    "- LeakyReLU\n",
    "    - ReLU 값 발산, gradient vanishing문제와 비슷 \n",
    "    - 0 보다 작은 경우 1/100x로 변경\n",
    "    - activity regularizer "
   ]
  },
  {
   "cell_type": "code",
   "execution_count": 27,
   "metadata": {},
   "outputs": [],
   "source": [
    "def make_generator_model():\n",
    "    model = tf.keras.Sequential()\n",
    "    model.add(layers.Dense(7*7*256, use_bias=False, input_shape=(100,)))\n",
    "    model.add(layers.BatchNormalization())\n",
    "    model.add(layers.LeakyReLU())\n",
    "\n",
    "    model.add(layers.Reshape((7, 7, 256)))\n",
    "    assert model.output_shape == (None, 7, 7, 256) # 주목: 배치사이즈로 None이 주어집니다.\n",
    "\n",
    "    model.add(layers.Conv2DTranspose(128, (5, 5), strides=(1, 1), padding='same', use_bias=False))\n",
    "    assert model.output_shape == (None, 7, 7, 128)\n",
    "    model.add(layers.BatchNormalization())\n",
    "    model.add(layers.LeakyReLU())\n",
    "\n",
    "    model.add(layers.Conv2DTranspose(64, (5, 5), strides=(2, 2), padding='same', use_bias=False))\n",
    "    assert model.output_shape == (None, 14, 14, 64)\n",
    "    model.add(layers.BatchNormalization())\n",
    "    model.add(layers.LeakyReLU())\n",
    "\n",
    "    model.add(layers.Conv2DTranspose(1, (5, 5), strides=(2, 2), padding='same', use_bias=False, activation='tanh'))\n",
    "    assert model.output_shape == (None, 28, 28, 1)\n",
    "\n",
    "    return model"
   ]
  },
  {
   "cell_type": "code",
   "execution_count": 28,
   "metadata": {},
   "outputs": [
    {
     "data": {
      "text/plain": [
       "<matplotlib.image.AxesImage at 0x1aae59a0f98>"
      ]
     },
     "execution_count": 28,
     "metadata": {},
     "output_type": "execute_result"
    },
    {
     "data": {
      "image/png": "[encoded data removed]",
      "text/plain": [
       "<Figure size 432x288 with 1 Axes>"
      ]
     },
     "metadata": {
      "needs_background": "light"
     },
     "output_type": "display_data"
    }
   ],
   "source": [
    "# 훈련이 되지않은 generator\n",
    "generator = make_generator_model()\n",
    "\n",
    "noise = tf.random.normal([1, 100])\n",
    "generated_image = generator(noise, training=False)\n",
    "\n",
    "plt.imshow(generated_image[0, :, :, 0], cmap='gray')"
   ]
  },
  {
   "cell_type": "markdown",
   "metadata": {},
   "source": [
    "### discriminator\n",
    "- convolution 기반 분류기\n",
    "\n",
    "훈련이 되지않은 discriminator 이용해 이미지를 진짜 + /가짜 - 감별"
   ]
  },
  {
   "cell_type": "code",
   "execution_count": 29,
   "metadata": {},
   "outputs": [
    {
     "name": "stdout",
     "output_type": "stream",
     "text": [
      "tf.Tensor([[0.00153244]], shape=(1, 1), dtype=float32)\n"
     ]
    }
   ],
   "source": [
    "def make_discriminator_model():\n",
    "    model = tf.keras.Sequential()\n",
    "    model.add(layers.Conv2D(64, (5, 5), strides=(2, 2), padding='same',\n",
    "                                     input_shape=[28, 28, 1]))\n",
    "    model.add(layers.LeakyReLU())\n",
    "    model.add(layers.Dropout(0.3))\n",
    "\n",
    "    model.add(layers.Conv2D(128, (5, 5), strides=(2, 2), padding='same'))\n",
    "    model.add(layers.LeakyReLU())\n",
    "    model.add(layers.Dropout(0.3))\n",
    "\n",
    "    model.add(layers.Flatten())\n",
    "    model.add(layers.Dense(1))\n",
    "\n",
    "    return model\n",
    "\n",
    "discriminator = make_discriminator_model()\n",
    "decision = discriminator(generated_image)\n",
    "print (decision)"
   ]
  },
  {
   "cell_type": "markdown",
   "metadata": {},
   "source": [
    "### 손실함수\n",
    "\n",
    "### discriminator 손실함수\n",
    "- multi-loss 어려움\n",
    "    - 전체 loss에서 trade-off 관계 주의\n",
    "    > Style Transfer에서 다시 다룰 예정!\n",
    "> 컨볼루션은 성질을 공유해서 그나마 성능 좋음\n",
    "\n",
    "\n",
    "### generator 손실함수\n",
    "- 가짜데이터를 얼마나 실제데이터와 비슷한지( discriminator를 얼마나 잘 속였는지) 수치화"
   ]
  },
  {
   "cell_type": "code",
   "execution_count": 30,
   "metadata": {},
   "outputs": [],
   "source": [
    "cross_entropy = tf.keras.losses.BinaryCrossentropy(from_logits=True)\n",
    "\n",
    "def discriminator_loss(real_output, fake_output):\n",
    "    #cross_entropy 함수처럼 사용; 진짜 1 가짜 0으로 이루어진 행렬\n",
    "    real_loss = cross_entropy(tf.ones_like(real_output), real_output)\n",
    "    fake_loss = cross_entropy(tf.zeros_like(fake_output), fake_output)\n",
    "    total_loss = real_loss + fake_loss\n",
    "    return total_loss\n",
    "\n",
    "def generator_loss(fake_output):\n",
    "    return cross_entropy(tf.ones_like(fake_output), fake_output)\n",
    "\n",
    "\n",
    "generator_optimizer = tf.keras.optimizers.Adam(1e-4)\n",
    "discriminator_optimizer = tf.keras.optimizers.Adam(1e-4)"
   ]
  },
  {
   "cell_type": "markdown",
   "metadata": {},
   "source": [
    "### checkpoint\n",
    "- 모든 학습 결과값 저장\n",
    "- keras Tensorboard에 유용"
   ]
  },
  {
   "cell_type": "code",
   "execution_count": 32,
   "metadata": {},
   "outputs": [],
   "source": [
    "checkpoint_dir = './training_checkpoints'\n",
    "checkpoint_prefix = os.path.join(checkpoint_dir, \"ckpt\")\n",
    "checkpoint = tf.train.Checkpoint(generator_optimizer=generator_optimizer,\n",
    "                                 discriminator_optimizer=discriminator_optimizer,\n",
    "                                 generator=generator,\n",
    "                                 discriminator=discriminator)"
   ]
  },
  {
   "cell_type": "markdown",
   "metadata": {},
   "source": [
    "#### callbacks 테크닉\n",
    "-  tf.keras.callbacks 학습 보조"
   ]
  },
  {
   "cell_type": "code",
   "execution_count": 33,
   "metadata": {},
   "outputs": [
    {
     "data": {
      "text/plain": [
       "tensorflow.python.keras.callbacks.TensorBoard"
      ]
     },
     "execution_count": 33,
     "metadata": {},
     "output_type": "execute_result"
    }
   ],
   "source": [
    "tf.keras.callbacks.TensorBoard"
   ]
  },
  {
   "cell_type": "code",
   "execution_count": 34,
   "metadata": {},
   "outputs": [
    {
     "name": "stdout",
     "output_type": "stream",
     "text": [
      "eoch start -------\n",
      "0 ++++++++++\n",
      "Epoch 1/3\n",
      "1875/1875 [==============================] - 1s 552us/step - loss: 1.9994\n",
      "eoch start -------\n",
      "1 ++++++++++\n",
      "Epoch 2/3\n",
      "1875/1875 [==============================] - 1s 534us/step - loss: 1.2393\n",
      "eoch start -------\n",
      "2 ++++++++++\n",
      "Epoch 3/3\n",
      "1875/1875 [==============================] - 1s 549us/step - loss: 1.0924\n"
     ]
    }
   ],
   "source": [
    "class MyCallBack(tf.keras.callbacks.Callback):\n",
    "    def on_epoch_begin(self,epoch,logs=None):\n",
    "        print('eoch start -------')\n",
    "        print(epoch,'++++++++++')\n",
    "        \n",
    "(X_train, y_train), (X_test,y_test) = tf.keras.datasets.mnist.load_data()\n",
    "model=tf.keras.models.Sequential([\n",
    "    tf.keras.layers.Flatten(input_shape=(28,28)),\n",
    "    tf.keras.layers.Dense(16,activation='relu'),\n",
    "    tf.keras.layers.Dense(10,activation='softmax')\n",
    "\n",
    "])\n",
    "model.compile(loss='sparse_categorical_crossentropy')\n",
    "his=model.fit(X_train,y_train,epochs=3,callbacks=[MyCallBack()])"
   ]
  },
  {
   "cell_type": "markdown",
   "metadata": {},
   "source": [
    "### 학습\n",
    "- tf.GradientTape 은 loss 새로 만드는것은 학습 \n",
    "> - fit, fit_generator,train_on_batch, train 기존의 정의된 loss 사용\n",
    "\n",
    "### tf.GradientTape\n",
    "- 자동미분하는 방법 중 하나\n",
    "- 테이프 기록장치에 미분값을 저장\n",
    "\n",
    "- with context manager \n",
    "    - __enter__ , __exit__ 정의됨\n",
    "    - with 중첩 가능\n",
    "    - 기존 프레임워크에서 제공하는 loss 가 아닌경우, 확장 하고 싶은 경우 자동미분 제공\n",
    "\n",
    "> - Automatic Difference in Pytorch\n",
    "    - No tape\n",
    "\n",
    "> - Automatic Difference in ML\n",
    "    - tape\n",
    "\n",
    "\n",
    "- https://www.tensorflow.org/guide/autodiff?hl=ko"
   ]
  },
  {
   "cell_type": "code",
   "execution_count": 38,
   "metadata": {},
   "outputs": [
    {
     "data": {
      "text/plain": [
       "<tf.Tensor: shape=(3,), dtype=float32, numpy=array([2., 4., 6.], dtype=float32)>"
      ]
     },
     "execution_count": 38,
     "metadata": {},
     "output_type": "execute_result"
    }
   ],
   "source": [
    "x = tf.Variable((1., 2, 3))\n",
    "\n",
    "with tf.GradientTape() as tape:\n",
    "    y=x**2\n",
    "    zz=tape.gradient(y,x) \n",
    "    \n",
    "zz\n",
    "\n",
    "# 함수의 미분값을 GradientTape에 저장"
   ]
  },
  {
   "cell_type": "code",
   "execution_count": null,
   "metadata": {},
   "outputs": [],
   "source": [
    "x = tf.Variable((1., 2, 3))\n",
    "\n",
    "with tf.GradientTape() as tape:\n",
    "    y=x**2  # 2x -> 2,4,6\n",
    "z=tape.gradient(y,x) \n",
    "z #2,4,6"
   ]
  },
  {
   "cell_type": "code",
   "execution_count": 44,
   "metadata": {},
   "outputs": [],
   "source": [
    "class X:\n",
    "    def __enter__(self): #실행\n",
    "        print('enter')\n",
    "    def __exit__(self): #구문 벗어날때\n",
    "        print('exit')"
   ]
  },
  {
   "cell_type": "code",
   "execution_count": 45,
   "metadata": {},
   "outputs": [
    {
     "name": "stdout",
     "output_type": "stream",
     "text": [
      "enter\n",
      "a\n"
     ]
    },
    {
     "ename": "TypeError",
     "evalue": "__exit__() takes 1 positional argument but 4 were given",
     "output_type": "error",
     "traceback": [
      "\u001b[1;31m---------------------------------------------------------------------------\u001b[0m",
      "\u001b[1;31mTypeError\u001b[0m                                 Traceback (most recent call last)",
      "\u001b[1;32m<ipython-input-45-533d731f2223>\u001b[0m in \u001b[0;36m<module>\u001b[1;34m\u001b[0m\n\u001b[0;32m      3\u001b[0m \u001b[1;33m\u001b[0m\u001b[0m\n\u001b[0;32m      4\u001b[0m \u001b[1;32mwith\u001b[0m \u001b[0mX\u001b[0m\u001b[1;33m(\u001b[0m\u001b[1;33m)\u001b[0m \u001b[1;32mas\u001b[0m \u001b[0mf\u001b[0m\u001b[1;33m:\u001b[0m \u001b[1;31m#인스턴스\u001b[0m\u001b[1;33m\u001b[0m\u001b[1;33m\u001b[0m\u001b[0m\n\u001b[1;32m----> 5\u001b[1;33m     \u001b[0mprint\u001b[0m\u001b[1;33m(\u001b[0m\u001b[1;34m'a'\u001b[0m\u001b[1;33m)\u001b[0m\u001b[1;33m\u001b[0m\u001b[1;33m\u001b[0m\u001b[0m\n\u001b[0m",
      "\u001b[1;31mTypeError\u001b[0m: __exit__() takes 1 positional argument but 4 were given"
     ]
    }
   ],
   "source": [
    "# with int():\n",
    "#     print('a') #__enter__ 가 클래스에 정의되지않아 사용 못함\n",
    "    \n",
    "with X() as f: #인스턴스\n",
    "    print('a') "
   ]
  },
  {
   "cell_type": "markdown",
   "metadata": {},
   "source": [
    "model.trainable=False\n",
    "\n",
    "- 전체 파라미터 그대로 \n",
    "- 학습 가능한 파라미터 0\n",
    "    - weight, bias 업데이트 못 함\n",
    "    \n",
    "    \n",
    "---\n",
    "\n",
    "위조범과 판별사가 두개를 동시에 학습하면 잘 안됨\n",
    "\n",
    "1. 판별사 학습통해 능력 향상 \n",
    "2. 위조범 학습시켜서 판별사 속일 수 있을 만큼 학습시킴\n",
    "3. 번갈아가면서 학습하기위해서 trainable/training  변경\n",
    "\n",
    "\n",
    "### @tf.function\n",
    "- JIT(Just in Time) 내부적으로 속도 향상 시켜줌\n",
    "  - script 언어를 미리 컴파일(인터프리터보다 속도향상)\n",
    "- 항상 좋지 않고 작은 연산에 최적화"
   ]
  },
  {
   "cell_type": "code",
   "execution_count": 54,
   "metadata": {},
   "outputs": [],
   "source": [
    "EPOCHS = 50\n",
    "noise_dim = 100\n",
    "num_examples_to_generate = 16\n",
    "\n",
    "# (GIF 애니메이션에서 진전 내용을 시각화하는데 쉽기 때문입니다.) \n",
    "seed = tf.random.normal([num_examples_to_generate, noise_dim])"
   ]
  },
  {
   "cell_type": "code",
   "execution_count": 55,
   "metadata": {},
   "outputs": [],
   "source": [
    "@tf.function\n",
    "def train_step(images):\n",
    "    noise = tf.random.normal([BATCH_SIZE, noise_dim])\n",
    "    \n",
    "  #disc_tape -> gen_tape 순서로 학습 \n",
    "    with tf.GradientTape() as gen_tape, tf.GradientTape() as disc_tape:\n",
    "      generated_images = generator(noise, training=True)\n",
    "\n",
    "      real_output = discriminator(images, training=True)\n",
    "      fake_output = discriminator(generated_images, training=True)\n",
    "#loss함수를 w,b로 편미분\n",
    "      gen_loss = generator_loss(fake_output)\n",
    "      disc_loss = discriminator_loss(real_output, fake_output)\n",
    "\n",
    "    gradients_of_generator = gen_tape.gradient(gen_loss, generator.trainable_variables)\n",
    "    gradients_of_discriminator = disc_tape.gradient(disc_loss, discriminator.trainable_variables)\n",
    "#optimizer 적용 : zip으로 묶어줌  \n",
    "    generator_optimizer.apply_gradients(zip(gradients_of_generator, generator.trainable_variables))\n",
    "    discriminator_optimizer.apply_gradients(zip(gradients_of_discriminator, discriminator.trainable_variables))"
   ]
  },
  {
   "cell_type": "code",
   "execution_count": 47,
   "metadata": {},
   "outputs": [
    {
     "data": {
      "text/plain": [
       "[(1, 4), (2, 5), (3, 6)]"
      ]
     },
     "execution_count": 47,
     "metadata": {},
     "output_type": "execute_result"
    }
   ],
   "source": [
    "from itertools import zip_longest\n",
    "a=zip([1,2,3,4],[4,5,6])\n",
    "b=zip_longest([1,2,3,4],[4,5,6])\n",
    "list(a) #짧은 리스트 기준 원소 묶음"
   ]
  },
  {
   "cell_type": "code",
   "execution_count": 48,
   "metadata": {},
   "outputs": [
    {
     "data": {
      "text/plain": [
       "[(1, 4), (2, 5), (3, 6), (4, None)]"
      ]
     },
     "execution_count": 48,
     "metadata": {},
     "output_type": "execute_result"
    }
   ],
   "source": [
    "list(b) #가장 긴 리스트 기준 원소 묶음"
   ]
  },
  {
   "cell_type": "code",
   "execution_count": 56,
   "metadata": {},
   "outputs": [],
   "source": [
    "def train(dataset, epochs):\n",
    "  for epoch in range(epochs):\n",
    "    start = time.time()\n",
    "\n",
    "    for image_batch in dataset:\n",
    "      train_step(image_batch)\n",
    "\n",
    "    # GIF를 위한 이미지를 바로 생성합니다.\n",
    "    display.clear_output(wait=True)\n",
    "    generate_and_save_images(generator,\n",
    "                             epoch + 1,\n",
    "                             seed)\n",
    "\n",
    "    # 15 에포크 마다 모델을 저장\n",
    "    if (epoch + 1) % 15 == 0:\n",
    "      checkpoint.save(file_prefix = checkpoint_prefix)\n",
    "\n",
    "    # 에포크마다 얼마나 걸렸는지\n",
    "    print ('Time for epoch {} is {} sec'.format(epoch + 1, time.time()-start))\n",
    "\n",
    "  # 마지막 에포크가 끝난 후 생성\n",
    "  display.clear_output(wait=True)\n",
    "  generate_and_save_images(generator,\n",
    "                           epochs,\n",
    "                           seed)\n",
    "\n",
    "def generate_and_save_images(model, epoch, test_input):\n",
    "  predictions = model(test_input, training=False) #추론\n",
    "\n",
    "  fig = plt.figure(figsize=(4,4))\n",
    "\n",
    "  for i in range(predictions.shape[0]):\n",
    "      plt.subplot(4, 4, i+1)\n",
    "      plt.imshow(predictions[i, :, :, 0] * 127.5 + 127.5, cmap='gray')\n",
    "      plt.axis('off')\n",
    "\n",
    "  plt.savefig('image_at_epoch_{:04d}.png'.format(epoch))\n",
    "  plt.show()"
   ]
  },
  {
   "cell_type": "code",
   "execution_count": 58,
   "metadata": {},
   "outputs": [
    {
     "data": {
      "image/png": "[encoded data removed]",
      "text/plain": [
       "<Figure size 288x288 with 16 Axes>"
      ]
     },
     "metadata": {
      "needs_background": "light"
     },
     "output_type": "display_data"
    }
   ],
   "source": [
    "train(train_dataset, 20)"
   ]
  },
  {
   "cell_type": "code",
   "execution_count": 59,
   "metadata": {},
   "outputs": [
    {
     "data": {
      "text/plain": [
       "<tensorflow.python.training.tracking.util.CheckpointLoadStatus at 0x1aaad754320>"
      ]
     },
     "execution_count": 59,
     "metadata": {},
     "output_type": "execute_result"
    }
   ],
   "source": [
    "checkpoint.restore(tf.train.latest_checkpoint(checkpoint_dir)) #체크포인트 복구"
   ]
  },
  {
   "cell_type": "code",
   "execution_count": 61,
   "metadata": {},
   "outputs": [
    {
     "data": {
      "image/png": "[encoded data removed]",
      "text/plain": [
       "<PIL.PngImagePlugin.PngImageFile image mode=RGBA size=288x288 at 0x1AAE4B9C320>"
      ]
     },
     "execution_count": 61,
     "metadata": {},
     "output_type": "execute_result"
    }
   ],
   "source": [
    "def display_image(epoch_no):\n",
    "  return PIL.Image.open('image_at_epoch_{:04d}.png'.format(epoch_no))\n",
    "\n",
    "display_image(20)"
   ]
  }
 ],
 "metadata": {
  "kernelspec": {
   "display_name": "Python [conda env:py37] *",
   "language": "python",
   "name": "conda-env-py37-py"
  },
  "language_info": {
   "codemirror_mode": {
    "name": "ipython",
    "version": 3
   },
   "file_extension": ".py",
   "mimetype": "text/x-python",
   "name": "python",
   "nbconvert_exporter": "python",
   "pygments_lexer": "ipython3",
   "version": "3.6.9"
  }
 },
 "nbformat": 4,
 "nbformat_minor": 2
}
