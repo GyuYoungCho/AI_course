{
 "cells": [
  {
   "cell_type": "markdown",
   "metadata": {},
   "source": [
    "## mnist\n",
    "\n",
    "#### batch : 큰 데이터를 쪼개어 1회에 작은 단위로 가져다가 학습, next_batch()\n",
    "#### epoch : batch를 반복하여 전체 데이터가 모두 소진되었을 때를 1 epoch\n",
    "#### Vanishing Gradient  : 신경망이 깊어 질수록 입력신호가 사라진다(줄어든다), sigmoid 사용시\n",
    "#### Relu  : Rectified Linear Unit, DNN(deep neural net) 구현시 sigmoid 대신 사용됨\n",
    "#### dropout : 전체 신경망의 일부를 사용하지 않고 학습, 예측시는 전체를 사용\n"
   ]
  },
  {
   "cell_type": "code",
   "execution_count": 1,
   "metadata": {},
   "outputs": [
    {
     "name": "stderr",
     "output_type": "stream",
     "text": [
      "C:\\Users\\Gyu\\Anaconda3\\envs\\py37\\lib\\site-packages\\numpy\\_distributor_init.py:32: UserWarning: loaded more than 1 DLL from .libs:\n",
      "C:\\Users\\Gyu\\Anaconda3\\envs\\py37\\lib\\site-packages\\numpy\\.libs\\libopenblas.PYQHXLVVQ7VESDPUVUADXEVJOBGHJPAY.gfortran-win_amd64.dll\n",
      "C:\\Users\\Gyu\\Anaconda3\\envs\\py37\\lib\\site-packages\\numpy\\.libs\\libopenblas.TXA6YQSD3GCQQC22GEQ54J2UDCXDXHWN.gfortran-win_amd64.dll\n",
      "  stacklevel=1)\n"
     ]
    }
   ],
   "source": [
    "import tensorflow as tf\n",
    "import numpy as np\n",
    "import matplotlib.pyplot as plt\n",
    "tf.random.set_seed(5)"
   ]
  },
  {
   "cell_type": "code",
   "execution_count": 2,
   "metadata": {},
   "outputs": [
    {
     "name": "stdout",
     "output_type": "stream",
     "text": [
      "(60000, 28, 28)\n"
     ]
    }
   ],
   "source": [
    "mnist = tf.keras.datasets.mnist\n",
    "(x_train,y_train),(x_test,y_test) = mnist.load_data()\n",
    "print(x_train.shape)"
   ]
  },
  {
   "cell_type": "code",
   "execution_count": 3,
   "metadata": {},
   "outputs": [
    {
     "name": "stdout",
     "output_type": "stream",
     "text": [
      "<class 'numpy.ndarray'> (60000, 28, 28)\n",
      "<class 'numpy.ndarray'> (60000,)\n",
      "<class 'numpy.ndarray'> (10000, 28, 28)\n",
      "<class 'numpy.ndarray'> (10000,)\n",
      "5\n"
     ]
    },
    {
     "data": {
      "image/png": "[encoded data removed]",
      "text/plain": [
       "<Figure size 432x288 with 1 Axes>"
      ]
     },
     "metadata": {
      "needs_background": "light"
     },
     "output_type": "display_data"
    }
   ],
   "source": [
    "def show_one_image(n):\n",
    "    print(type(x_train),x_train.shape) # (60000, 28, 28)\n",
    "    print(type(y_train),y_train.shape) # (60000,)\n",
    "    print(type(x_test),x_test.shape)   # (10000, 28, 28)\n",
    "    print(type(y_test),y_test.shape)   # (10000,)\n",
    "    \n",
    "    image = x_train[n]\n",
    "    print(y_train[n])\n",
    "    \n",
    "    plt.imshow(image,cmap='Greys')\n",
    "    plt.show()\n",
    "\n",
    "show_one_image(0)  \n"
   ]
  },
  {
   "cell_type": "code",
   "execution_count": 4,
   "metadata": {},
   "outputs": [
    {
     "name": "stdout",
     "output_type": "stream",
     "text": [
      "(60000, 10)\n",
      "(60000, 784) <dtype: 'float32'>\n",
      "(10000, 784) <dtype: 'float32'>\n"
     ]
    }
   ],
   "source": [
    "# one-hot 인코딩\n",
    "nb_classes = 10   # 분류 class의 갯수(0~9)\n",
    "\n",
    "Y_one_hot = tf.one_hot(y_train,nb_classes)  # (60000,10)\n",
    "print(Y_one_hot.shape)\n",
    "\n",
    "# X값의 shape을 2차원으로 변환\n",
    "x_train = x_train.reshape(-1,28*28)\n",
    "x_test = x_test.reshape(-1,28*28)\n",
    "\n",
    "# X값의 타입을 float형으로 변환\n",
    "x_train = tf.cast(x_train,dtype=tf.float32)\n",
    "print(x_train.shape,x_train.dtype)\n",
    "\n",
    "x_test = tf.cast(x_test,dtype=tf.float32)\n",
    "print(x_test.shape,x_test.dtype)"
   ]
  },
  {
   "cell_type": "code",
   "execution_count": 5,
   "metadata": {},
   "outputs": [],
   "source": [
    "W = tf.Variable(tf.random.normal([784,nb_classes]), name = 'weight')\n",
    "b = tf.Variable(tf.random.normal([nb_classes]), name = 'bias')\n",
    "def logits(X):\n",
    "    return tf.matmul(X,W) + b\n",
    "\n",
    "def hypothesis(X):\n",
    "    return tf.nn.softmax(logits(X))"
   ]
  },
  {
   "cell_type": "code",
   "execution_count": 6,
   "metadata": {},
   "outputs": [
    {
     "name": "stdout",
     "output_type": "stream",
     "text": [
      "****** Start Learning!!\n",
      "Epoch: 0001 cost: 679.831341553\n",
      "Epoch: 0002 cost: 204.013199692\n",
      "Epoch: 0003 cost: 148.471338272\n",
      "Epoch: 0004 cost: 121.014010620\n",
      "Epoch: 0005 cost: 104.027983322\n",
      "Epoch: 0006 cost: 91.899360466\n",
      "Epoch: 0007 cost: 82.785516434\n",
      "Epoch: 0008 cost: 75.502935886\n",
      "Epoch: 0009 cost: 69.220791283\n",
      "Epoch: 0010 cost: 63.866671429\n",
      "Epoch: 0011 cost: 59.300388031\n",
      "Epoch: 0012 cost: 55.258858452\n",
      "Epoch: 0013 cost: 51.781316242\n",
      "Epoch: 0014 cost: 48.511157818\n",
      "Epoch: 0015 cost: 45.778686104\n",
      "Epoch: 0016 cost: 43.458511868\n",
      "Epoch: 0017 cost: 41.204132786\n",
      "Epoch: 0018 cost: 39.416348896\n",
      "Epoch: 0019 cost: 37.413616943\n",
      "Epoch: 0020 cost: 35.620225658\n",
      "Epoch: 0021 cost: 34.091718893\n",
      "Epoch: 0022 cost: 32.919920883\n",
      "Epoch: 0023 cost: 31.858166885\n",
      "Epoch: 0024 cost: 30.287328644\n",
      "Epoch: 0025 cost: 28.749511623\n",
      "****** Learning Finished!!\n"
     ]
    }
   ],
   "source": [
    "# batch 사이즈로 나누어 학습, 효율적 이며 학습 시간 단축  , 미니배치\n",
    "\n",
    "training_epoch = 25\n",
    "batch_size = 600\n",
    "\n",
    "# 경사 하강법\n",
    "# learning_rate(학습율)을 0.01 로 설정하여 optimizer객체를 생성\n",
    "optimizer = tf.keras.optimizers.Adam(lr=0.01)\n",
    "\n",
    "Y_one_hot = tf.one_hot(y_train,nb_classes)  # (60000,10)\n",
    "\n",
    "print('****** Start Learning!!')\n",
    "for epoch in range(training_epoch): # 25회\n",
    "    \n",
    "    avg_cost = 0\n",
    "    \n",
    "    # 100 = 60000/600\n",
    "    total_batch = int(x_train.shape[0]/batch_size)\n",
    "    for k in range(total_batch):  # 100회\n",
    "        batch_xs = x_train[0 + k*batch_size:batch_size + k*batch_size]   # 600개의 X 데이터\n",
    "        batch_ys = Y_one_hot[0 + k*batch_size:batch_size + k*batch_size] # 600개의 Y 데이터\n",
    "        \n",
    "        # 비용함수        \n",
    "        def cost_func_batch():\n",
    "            cost_i = tf.nn.softmax_cross_entropy_with_logits(logits = logits(batch_xs),\n",
    "                                             labels = batch_ys)\n",
    "            cost =  tf.reduce_mean(cost_i)\n",
    "            return cost\n",
    "        \n",
    "        # cost를 minimize 한다\n",
    "        optimizer.minimize(cost_func_batch,var_list=[W,b])\n",
    "        avg_cost += cost_func_batch().numpy()/total_batch\n",
    "            \n",
    "    print('Epoch:','%04d'%(epoch + 1),'cost:','{:.9f}'.format(avg_cost))\n",
    "             \n",
    "print('****** Learning Finished!!')"
   ]
  },
  {
   "cell_type": "code",
   "execution_count": 7,
   "metadata": {},
   "outputs": [
    {
     "name": "stdout",
     "output_type": "stream",
     "text": [
      "(10000, 10)\n",
      "Accuracy: 0.8886\n",
      "***** Predict\n",
      "[7 2 1 ... 4 5 6] [7 2 1 ... 4 5 6]\n"
     ]
    }
   ],
   "source": [
    "Y_one_hot = tf.one_hot(y_test,nb_classes)  # (10000,10)\n",
    "print(Y_one_hot.shape)\n",
    "\n",
    "# tf.argmax() : 값이 가장 큰 요소의 인덱스 값을 반환\n",
    "def predict(X):\n",
    "    return tf.argmax(hypothesis(X),axis=1)\n",
    "\n",
    "correct_predict = tf.equal(predict(x_test),tf.argmax(Y_one_hot,1))\n",
    "accuracy = tf.reduce_mean(tf.cast(correct_predict, dtype = tf.float32))\n",
    "print(\"Accuracy:\",accuracy.numpy()) # Accuracy: 0.8871\n",
    "\n",
    "#예측\n",
    "print('***** Predict')\n",
    "pred = predict(x_test).numpy()\n",
    "print(pred,y_test)"
   ]
  },
  {
   "cell_type": "code",
   "execution_count": 8,
   "metadata": {},
   "outputs": [
    {
     "name": "stdout",
     "output_type": "stream",
     "text": [
      "random =  4775 Label: 2\n",
      "Prediction :  [2]\n"
     ]
    },
    {
     "data": {
      "image/png": "[encoded data removed]",
      "text/plain": [
       "<Figure size 432x288 with 1 Axes>"
      ]
     },
     "metadata": {
      "needs_background": "light"
     },
     "output_type": "display_data"
    }
   ],
   "source": [
    "r = np.random.randint(0,x_test.shape[0] - 1) # 0 to 9999 random int number\n",
    "# r = 1411   # Label: 0, Prediction :  [9]\n",
    "\n",
    "print('random = ',r, 'Label:',y_test[r])\n",
    "\n",
    "print('Prediction : ',predict(x_test[r:r+1]).numpy())\n",
    "\n",
    "image = tf.reshape(x_test[r],(28,28))\n",
    "plt.imshow(image,cmap='Greys')\n",
    "plt.show()"
   ]
  },
  {
   "cell_type": "markdown",
   "metadata": {},
   "source": [
    "## multi layer"
   ]
  },
  {
   "cell_type": "code",
   "execution_count": 18,
   "metadata": {},
   "outputs": [],
   "source": [
    "W1 = tf.Variable(tf.random.normal([784,256]), name = 'weight1')\n",
    "b1 = tf.Variable(tf.random.normal([256]), name = 'bias1')\n",
    "W2 = tf.Variable(tf.random.normal([256,128]), name = 'weigh2')\n",
    "b2 = tf.Variable(tf.random.normal([128]), name = 'bias2')\n",
    "W3 = tf.Variable(tf.random.normal([128,64]), name = 'weight3')\n",
    "b3 = tf.Variable(tf.random.normal([64]), name = 'bias3')\n",
    "W4 = tf.Variable(tf.random.normal([64,nb_classes]), name = 'weight4')\n",
    "b4 = tf.Variable(tf.random.normal([nb_classes]), name = 'bias4')\n",
    "\n",
    "def layer1(X):\n",
    "    # return  tf.sigmoid(tf.matmul(X,W1) + b1)  \n",
    "    return  tf.nn.relu(tf.matmul(X,W1) + b1)\n",
    "def layer2(X):  \n",
    "    return  tf.nn.relu(tf.matmul(layer1(X),W2) + b2)\n",
    "def layer3(X):  \n",
    "    return  tf.nn.relu(tf.matmul(layer2(X),W3) + b3)\n",
    "\n",
    "def logits(X):\n",
    "    return tf.matmul(layer3(X),W4) + b4\n",
    "\n",
    "def hypothesis(X):\n",
    "    return tf.nn.softmax(logits(X))"
   ]
  },
  {
   "cell_type": "code",
   "execution_count": 19,
   "metadata": {},
   "outputs": [
    {
     "name": "stdout",
     "output_type": "stream",
     "text": [
      "****** Start Learning!!\n",
      "Epoch: 0001 cost: 119502.580312500\n",
      "Epoch: 0002 cost: 16150.860361328\n",
      "Epoch: 0003 cost: 9282.477192383\n",
      "Epoch: 0004 cost: 6165.985930176\n",
      "Epoch: 0005 cost: 4322.239316406\n",
      "Epoch: 0006 cost: 3118.563673706\n",
      "Epoch: 0007 cost: 2308.672020874\n",
      "Epoch: 0008 cost: 1772.304414062\n",
      "Epoch: 0009 cost: 1384.609462280\n",
      "Epoch: 0010 cost: 1113.523960876\n",
      "Epoch: 0011 cost: 858.923336487\n",
      "Epoch: 0012 cost: 684.452433624\n",
      "Epoch: 0013 cost: 584.258270111\n",
      "Epoch: 0014 cost: 485.024843979\n",
      "Epoch: 0015 cost: 410.554129486\n",
      "Epoch: 0016 cost: 337.701938858\n",
      "Epoch: 0017 cost: 299.743330078\n",
      "Epoch: 0018 cost: 245.470464897\n",
      "Epoch: 0019 cost: 210.194263048\n",
      "Epoch: 0020 cost: 194.404066677\n",
      "Epoch: 0021 cost: 154.470020313\n",
      "Epoch: 0022 cost: 155.330385792\n",
      "Epoch: 0023 cost: 124.495004232\n",
      "Epoch: 0024 cost: 109.857149169\n",
      "Epoch: 0025 cost: 102.557226403\n",
      "****** Learning Finished!!\n"
     ]
    }
   ],
   "source": [
    "training_epoch = 25\n",
    "batch_size = 600\n",
    "\n",
    "# 경사 하강법\n",
    "# learning_rate(학습율)을 0.01 로 설정하여 optimizer객체를 생성\n",
    "optimizer = tf.keras.optimizers.Adam(lr=0.01)\n",
    "\n",
    "Y_one_hot = tf.one_hot(y_train,nb_classes)  # (60000,10)\n",
    "\n",
    "print('****** Start Learning!!')\n",
    "for epoch in range(training_epoch): # 25회\n",
    "    \n",
    "    avg_cost = 0\n",
    "    \n",
    "    # 100 = 60000/600\n",
    "    total_batch = int(x_train.shape[0]/batch_size)\n",
    "    for k in range(total_batch):  # 100회\n",
    "        batch_xs = x_train[0 + k*batch_size:batch_size + k*batch_size]   # 600개의 X 데이터\n",
    "        batch_ys = Y_one_hot[0 + k*batch_size:batch_size + k*batch_size] # 600개의 Y 데이터\n",
    "        \n",
    "        # 비용함수        \n",
    "        def cost_func_batch():\n",
    "            cost_i = tf.nn.softmax_cross_entropy_with_logits(logits = logits(batch_xs),\n",
    "                                             labels = batch_ys)\n",
    "            cost =  tf.reduce_mean(cost_i)\n",
    "            return cost\n",
    "        \n",
    "        # cost를 minimize 한다\n",
    "        optimizer.minimize(cost_func_batch,var_list=[W1,b1,W2,b2,W3,b3,W4,b4])\n",
    "        avg_cost += cost_func_batch().numpy()/total_batch\n",
    "            \n",
    "    print('Epoch:','%04d'%(epoch + 1),'cost:','{:.9f}'.format(avg_cost))\n",
    "             \n",
    "print('****** Learning Finished!!')"
   ]
  },
  {
   "cell_type": "code",
   "execution_count": 20,
   "metadata": {},
   "outputs": [
    {
     "name": "stdout",
     "output_type": "stream",
     "text": [
      "(10000, 10)\n",
      "Accuracy: 0.9345\n",
      "***** Predict\n",
      "[7 2 1 ... 4 5 6] [7 2 1 ... 4 5 6]\n"
     ]
    }
   ],
   "source": [
    "Y_one_hot = tf.one_hot(y_test,nb_classes)  # (10000,10)\n",
    "print(Y_one_hot.shape)\n",
    "\n",
    "# tf.argmax() : 값이 가장 큰 요소의 인덱스 값을 반환\n",
    "def predict(X):\n",
    "    return tf.argmax(hypothesis(X),axis=1)\n",
    "\n",
    "correct_predict = tf.equal(predict(x_test),tf.argmax(Y_one_hot,1))\n",
    "accuracy = tf.reduce_mean(tf.cast(correct_predict, dtype = tf.float32))\n",
    "print(\"Accuracy:\",accuracy.numpy()) # Accuracy: 0.9534\n",
    "\n",
    "#예측\n",
    "print('***** Predict')\n",
    "pred = predict(x_test).numpy()\n",
    "print(pred,y_test)"
   ]
  },
  {
   "cell_type": "code",
   "execution_count": 21,
   "metadata": {},
   "outputs": [
    {
     "name": "stdout",
     "output_type": "stream",
     "text": [
      "random =  6909 Label: 5\n",
      "Prediction :  [5]\n"
     ]
    },
    {
     "data": {
      "image/png": "[encoded data removed]",
      "text/plain": [
       "<Figure size 432x288 with 1 Axes>"
      ]
     },
     "metadata": {
      "needs_background": "light"
     },
     "output_type": "display_data"
    }
   ],
   "source": [
    "r = np.random.randint(0,x_test.shape[0] - 1) # 0 to 9999 random int number\n",
    "# r = 1411   # Label: 0, Prediction :  [9]\n",
    "\n",
    "print('random = ',r, 'Label:',y_test[r])\n",
    "\n",
    "print('Prediction : ',predict(x_test[r:r+1]).numpy())\n",
    "\n",
    "image = tf.reshape(x_test[r],(28,28))\n",
    "plt.imshow(image,cmap='Greys')\n",
    "plt.show()"
   ]
  },
  {
   "cell_type": "markdown",
   "metadata": {},
   "source": [
    "## CNN"
   ]
  },
  {
   "cell_type": "code",
   "execution_count": 24,
   "metadata": {},
   "outputs": [
    {
     "name": "stdout",
     "output_type": "stream",
     "text": [
      "[[[[1.]]\n",
      "\n",
      "  [[1.]]]\n",
      "\n",
      "\n",
      " [[[1.]]\n",
      "\n",
      "  [[1.]]]]\n",
      "[[[[12.]\n",
      "   [16.]]\n",
      "\n",
      "  [[24.]\n",
      "   [28.]]]]\n",
      "(1, 2, 2, 1)\n"
     ]
    },
    {
     "data": {
      "image/png": "[encoded data removed]",
      "text/plain": [
       "<Figure size 432x288 with 1 Axes>"
      ]
     },
     "metadata": {
      "needs_background": "light"
     },
     "output_type": "display_data"
    }
   ],
   "source": [
    "image = np.array([[[[1],[2],[3]],\n",
    "                   [[4],[5],[6]],\n",
    "                   [[7],[8],[9]]]] , dtype=np.float32)\n",
    "\n",
    "\n",
    "# 입력 이미지 : (1,3,3,1)\n",
    "# 1 : 이미지의 갯수\n",
    "# 3 : 가로 크기\n",
    "# 3 : 세로 크기\n",
    "# 1 : color, Grey scale ==> 1, RGB ==> 3\n",
    "\n",
    "# filter : (2,2,1,1)\n",
    "# 2 : 가로 크기\n",
    "# 2 : 세로 크기\n",
    "# 1 : color, Grey scale ==> 1, RGB ==> 3\n",
    "# 1 : filter 의 갯수\n",
    "\n",
    "# (N - F)/strides + 1\n",
    "# 출력 이미지 : (3 - 2)/1 + 1 = 2, zero padding을 안했을 때 (padding='VALID')\n",
    "# (1,3,3,1) ---> (1,2,2,1)\n",
    "weight = tf.constant([[[[1.]],[[1.]]],   \n",
    "                      [[[1.]],[[1.]]]])\n",
    "print(weight.numpy())\n",
    "\n",
    "# conv2d layer\n",
    "conv2d = tf.nn.conv2d(image,weight,strides=[1,1,1,1],padding='VALID')\n",
    "\n",
    "conv2d_image = conv2d.numpy()\n",
    "print(conv2d_image)\n",
    "print(conv2d_image.shape) # (1, 2, 2, 1)\n",
    "\n",
    "# 시각화\n",
    "plt.imshow(conv2d_image.reshape(2,2),cmap='Greys')\n",
    "plt.show()"
   ]
  },
  {
   "cell_type": "code",
   "execution_count": 25,
   "metadata": {},
   "outputs": [
    {
     "name": "stdout",
     "output_type": "stream",
     "text": [
      "[[[[1.]]\n",
      "\n",
      "  [[1.]]]\n",
      "\n",
      "\n",
      " [[[1.]]\n",
      "\n",
      "  [[1.]]]]\n",
      "[[[[12.]\n",
      "   [16.]\n",
      "   [ 9.]]\n",
      "\n",
      "  [[24.]\n",
      "   [28.]\n",
      "   [15.]]\n",
      "\n",
      "  [[15.]\n",
      "   [17.]\n",
      "   [ 9.]]]]\n",
      "(1, 3, 3, 1)\n"
     ]
    },
    {
     "data": {
      "image/png": "[encoded data removed]",
      "text/plain": [
       "<Figure size 432x288 with 1 Axes>"
      ]
     },
     "metadata": {
      "needs_background": "light"
     },
     "output_type": "display_data"
    }
   ],
   "source": [
    "#  filter : (2,2,1,1), strides : 1\n",
    "# (1,3,3,1) --> (1,3,3,1)\n",
    "\n",
    "weight = tf.constant([[[[1.]],[[1.]]],   \n",
    "                      [[[1.]],[[1.]]]])\n",
    "print(weight.numpy())\n",
    "\n",
    "# conv2d layer\n",
    "conv2d = tf.nn.conv2d(image,weight,strides=[1,1,1,1],padding='SAME')\n",
    "\n",
    "conv2d_image = conv2d.numpy()\n",
    "print(conv2d_image)\n",
    "print(conv2d_image.shape) # (1, 3, 3, 1)\n",
    "\n",
    "# 시각화\n",
    "plt.imshow(conv2d_image.reshape(3,3),cmap='Greys')\n",
    "plt.show()"
   ]
  },
  {
   "cell_type": "code",
   "execution_count": 28,
   "metadata": {},
   "outputs": [
    {
     "name": "stdout",
     "output_type": "stream",
     "text": [
      "(2, 2, 1, 3)\n",
      "(1, 3, 3, 3)\n",
      "(3, 3, 3, 1)\n"
     ]
    },
    {
     "data": {
      "image/png": "[encoded data removed]",
      "text/plain": [
       "<Figure size 432x288 with 3 Axes>"
      ]
     },
     "metadata": {
      "needs_background": "light"
     },
     "output_type": "display_data"
    }
   ],
   "source": [
    "weight = tf.constant([[[[1.,10.,-1.]],[[1.,10.,-1.]]],     \n",
    "                      [[[1.,10.,-1.]],[[1.,10.,-1.]]]])\n",
    "print(weight.shape) # (2, 2, 1, 3)\n",
    "\n",
    "# conv2d layer\n",
    "conv2d = tf.nn.conv2d(image,weight,strides=[1,1,1,1],padding='SAME')\n",
    "\n",
    "conv2d_image = conv2d.numpy()\n",
    "print(conv2d_image.shape) # (1, 3, 3, 3)\n",
    "\n",
    "# 시각화\n",
    "conv2d_image = np.swapaxes(conv2d_image,0,3) # 0번 축과 3번 축이 서로 맞바꾸어짐\n",
    "print(conv2d_image.shape) # (3, 3, 3, 1)\n",
    "\n",
    "for i,one_image in enumerate(conv2d_image):\n",
    "    plt.subplot(1,3,i + 1)\n",
    "    plt.imshow(one_image.reshape(3,3),cmap='Greys')\n",
    "plt.show()"
   ]
  },
  {
   "cell_type": "code",
   "execution_count": 32,
   "metadata": {},
   "outputs": [],
   "source": [
    "mnist = tf.keras.datasets.mnist\n",
    "(x_train,y_train),(x_test,y_test) = mnist.load_data()"
   ]
  },
  {
   "cell_type": "code",
   "execution_count": 33,
   "metadata": {},
   "outputs": [
    {
     "name": "stdout",
     "output_type": "stream",
     "text": [
      "(1, 28, 28, 1)\n",
      "(1, 14, 14, 5)\n",
      "(5, 14, 14, 1)\n"
     ]
    },
    {
     "data": {
      "image/png": "[encoded data removed]",
      "text/plain": [
       "<Figure size 1080x1080 with 5 Axes>"
      ]
     },
     "metadata": {
      "needs_background": "light"
     },
     "output_type": "display_data"
    }
   ],
   "source": [
    "image = x_train[5]\n",
    "\n",
    "\n",
    "#### MNIST conv2d layer\n",
    "# image : (1,28,28,1)\n",
    "# filter : (3,3,1,5) , 필터 5개\n",
    "# stride : (1,2,2,1) , padding = 'SAME'\n",
    "# 출력 이미지 : (28+1 - 3)/2 + 1 = 14\n",
    "# (1,28,28,1) --> (1,14,14,5)\n",
    "\n",
    "img = image.reshape(-1,28,28,1)\n",
    "print(img.shape) # (1, 28, 28, 1)\n",
    "\n",
    "W = tf.Variable(tf.random.normal([3,3,1,5]),name='weight') # filter = weight\n",
    "conv2d = tf.nn.conv2d(img,W,strides=[1,2,2,1],padding='SAME')\n",
    "\n",
    "conv2d_image = conv2d.numpy()\n",
    "print(conv2d_image.shape)     # (1, 14, 14, 5)\n",
    "\n",
    "# 시각화\n",
    "conv2d_image = np.swapaxes(conv2d_image,0,3) # 0번 축과 3번 축이 서로 맞바꾸어짐\n",
    "# print(conv2d_image)\n",
    "print(conv2d_image.shape) # (5,14,14,1)\n",
    "\n",
    "plt.figure(figsize=(15,15))\n",
    "for i,one_image in enumerate(conv2d_image):\n",
    "    #print(one_image)\n",
    "    plt.subplot(1,5,i + 1)\n",
    "    plt.imshow(one_image.reshape(14,14),cmap='Greys')\n",
    "plt.show()"
   ]
  },
  {
   "cell_type": "code",
   "execution_count": 34,
   "metadata": {},
   "outputs": [
    {
     "name": "stdout",
     "output_type": "stream",
     "text": [
      "(60000, 10)\n",
      "(60000, 28, 28) <dtype: 'float32'>\n",
      "(10000, 28, 28) <dtype: 'float32'>\n"
     ]
    }
   ],
   "source": [
    "nb_classes = 10  # 분류 class의 갯수(0~9)\n",
    "\n",
    "Y_one_hot = tf.one_hot(y_train,nb_classes)   # (60000, 10)\n",
    "print(Y_one_hot.shape)                       # (60000, 10) , (2차원)\n",
    "\n",
    "# X값의 타입을 float형으로 변환\n",
    "x_train = tf.cast(x_train,dtype=tf.float32)\n",
    "print(x_train.shape,x_train.dtype)\n",
    "\n",
    "x_test = tf.cast(x_test,dtype=tf.float32)\n",
    "print(x_test.shape,x_test.dtype)\n",
    "\n",
    "# X값의 shape을 4차원으로 변환\n",
    "X_img = tf.reshape(x_train,[-1,28,28,1])"
   ]
  },
  {
   "cell_type": "code",
   "execution_count": 35,
   "metadata": {},
   "outputs": [],
   "source": [
    "# (?, 28, 28, 1) --> (?, 14, 14, 32)\n",
    "\n",
    "# <1> conv2d\n",
    "# L1 input image shape : (?, 28, 28, 1)\n",
    "# filter : (3,3,1,32), 필터 32개\n",
    "# strides : (1,1,1,1), padding='SAME'\n",
    "# 출력 이미지 : (28+2 - 3)/1 + 1 = 28\n",
    "# (?, 28, 28, 1) --> (?, 28, 28, 32)\n",
    "W1 = tf.Variable(tf.random.normal([3,3,1,32]),name='weight1')\n",
    "def L1_conv2d(X):\n",
    "    return tf.nn.conv2d(X,W1,strides=[1,1,1,1],padding='SAME')\n",
    "\n",
    "# <2> relu\n",
    "def L1_relu(X):\n",
    "    return tf.nn.relu(L1_conv2d(X))  # shape 변화가 없다\n",
    "\n",
    "# <3> max_pool\n",
    "# input image : (?, 28, 28, 32)\n",
    "# ksize : (1,2,2,1), strides : (1,2,2,1), padding='SAME'\n",
    "# 출력 이미지 : (28+1 - 2)/2 + 1 = 14\n",
    "#  (?, 28, 28, 32) -->  (?, 14, 14, 32)\n",
    "def L1_MaxPool(X):\n",
    "    return tf.nn.max_pool(L1_relu(X),ksize=[1,2,2,1],strides=[1,2,2,1],padding='SAME')\n",
    "\n",
    "\n",
    "# Layer 2 : conv2d - relu - max_pool\n",
    "# (?, 14, 14, 32) --> (?,7,7,64)\n",
    "\n",
    "# <1> conv2d\n",
    "# L1 input image shape : (?, 14, 14, 32)\n",
    "# filter : (3,3,32,64), 필터 64개\n",
    "# strides : (1,1,1,1), padding='SAME'\n",
    "# 출력 이미지 : (14+2 - 3)/1 + 1 = 14\n",
    "# (?, 14, 14, 32) --> (?, 14,14,64)\n",
    "W2 = tf.Variable(tf.random.normal([3,3,32,64]),name='weight2') # filter\n",
    "def L2_conv2d(X):\n",
    "    return tf.nn.conv2d(L1_MaxPool(X),W2,strides=[1,1,1,1],padding='SAME')\n",
    "\n",
    "# <2> relu\n",
    "def L2_relu(X):\n",
    "    return tf.nn.relu(L2_conv2d(X))  # shape 변화가 없다\n",
    "\n",
    "# <3> max_pool\n",
    "# input image : (?, 14,14,64)\n",
    "# ksize : (1,2,2,1), strides : (1,2,2,1), padding='SAME'\n",
    "# 출력 이미지 : (14+1 - 2)/2 + 1 = 7\n",
    "#  (?, 14,14,64) -->  (?,7,7,64)\n",
    "def L2_MaxPool(X):\n",
    "    return tf.nn.max_pool(L2_relu(X),ksize=[1,2,2,1],strides=[1,2,2,1],padding='SAME')\n",
    "\n",
    "\n",
    "# Layer 3 : conv2d - relu - max_pool\n",
    "# (?,7,7,64) --> \n",
    "\n",
    "# <1> conv2d\n",
    "# L1 input image shape : (?,7,7,64)\n",
    "# filter : (3,3,64,128), 필터 128개\n",
    "# strides : (1,1,1,1), padding='SAME'\n",
    "# 출력 이미지 : (7+2 - 3)/1 + 1 = 7\n",
    "# (?,7,7,64) --> (?,7,7,128)\n",
    "W3 = tf.Variable(tf.random.normal([3,3,64,128]),name='weight3') # filter\n",
    "def L3_conv2d(X):\n",
    "    return tf.nn.conv2d(L2_MaxPool(X),W3,strides=[1,1,1,1],padding='SAME')\n",
    "\n",
    "# <2> relu\n",
    "def L3_relu(X):\n",
    "    return tf.nn.relu(L3_conv2d(X))  # shape 변화가 없다\n",
    "\n",
    "# <3> max_pool\n",
    "# input image : (?,7,7,128)\n",
    "# ksize : (1,2,2,1), strides : (1,2,2,1), padding='SAME'\n",
    "# 출력 이미지 : (7+1 - 2)/2 + 1 = 4\n",
    "#  (?,7,7,128) -->  (?,4,4,128)\n",
    "def L3_MaxPool(X):\n",
    "    return tf.nn.max_pool(L3_relu(X),ksize=[1,2,2,1],strides=[1,2,2,1],padding='SAME') \n",
    "\n",
    "# <4> flatten layer : 다차원 배열을 2차원으로 변환하여 FC layer에 전달한다\n",
    "def L3_flat(X):\n",
    "    return tf.reshape(L3_MaxPool(X),[-1,4*4*128])\n",
    "\n",
    "\n",
    "# Layer 4 : FC(Fully Connected Layer)\n",
    "# (?,4*4*128) * (4*4*128,512) = (?, 512)\n",
    "# nb_classes = 10\n",
    "W4 = tf.Variable(tf.random.normal([4*4*128,512]), name='weight4')\n",
    "b4 = tf.Variable(tf.random.normal([512]), name='bias4')\n",
    "def L4_relu(X):\n",
    "    return  tf.nn.relu(tf.matmul(L3_flat(X),W4) + b4)\n",
    "\n",
    "\n",
    "# Layer 5 : FC(Fully Connected Layer), Final Output layer\n",
    "# (?, 512) * (512,10) = (?,10)\n",
    "nb_classes = 10\n",
    "W5 = tf.Variable(tf.random.normal([512,nb_classes]), name='weight5')\n",
    "b5 = tf.Variable(tf.random.normal([nb_classes]), name='bias5')\n",
    "\n",
    "# 예측 함수(hypothesis) : H(X) = softmax(W*X + b)\n",
    "def logits(X):\n",
    "    return tf.matmul(L4_relu(X),W5) + b5\n",
    "\n",
    "def hypothesis(X):\n",
    "    return tf.nn.softmax(logits(X))"
   ]
  },
  {
   "cell_type": "code",
   "execution_count": 37,
   "metadata": {},
   "outputs": [
    {
     "name": "stdout",
     "output_type": "stream",
     "text": [
      "***** Start Learning!!\n",
      "Epoch: 0001 cost: 312606.064785156\n",
      "Epoch: 0002 cost: 51414.374111328\n",
      "Epoch: 0003 cost: 26053.613532715\n",
      "Epoch: 0004 cost: 12570.024640503\n",
      "Epoch: 0005 cost: 7753.242632217\n",
      "Epoch: 0006 cost: 4480.575723877\n",
      "Epoch: 0007 cost: 3291.807254333\n",
      "Epoch: 0008 cost: 2263.349541569\n",
      "Epoch: 0009 cost: 1752.223042288\n",
      "Epoch: 0010 cost: 1472.119443817\n",
      "Epoch: 0011 cost: 653.724023132\n",
      "Epoch: 0012 cost: 440.382363777\n",
      "Epoch: 0013 cost: 539.083477802\n",
      "Epoch: 0014 cost: 641.891404209\n",
      "Epoch: 0015 cost: 464.275226765\n",
      "***** Learning Finished!!\n"
     ]
    }
   ],
   "source": [
    "training_epoch = 15\n",
    "batch_size = 600\n",
    "\n",
    "# 경사 하강법\n",
    "# learning_rate(학습율)을 0.01 로 설정하여 optimizer객체를 생성\n",
    "optimizer = tf.keras.optimizers.Adam(lr=0.01)\n",
    "\n",
    "Y_one_hot = tf.one_hot(y_train,nb_classes)   # (60000, 10)\n",
    "\n",
    "print('***** Start Learning!!')\n",
    "for epoch in range(training_epoch): # 100회\n",
    "    \n",
    "    avg_cost = 0\n",
    "    \n",
    "    # 100 = 60000/600\n",
    "    total_batch = int(x_train.shape[0]/batch_size)\n",
    "    for k in range(total_batch):  # 100회\n",
    "        batch_xs = x_train[0 + k*batch_size:batch_size + k*batch_size]   # 600개의 X 데이터\n",
    "        batch_ys = Y_one_hot[0 + k*batch_size:batch_size + k*batch_size] # 600개의 Y 데이터\n",
    "        \n",
    "        # X값의 shape을 4차원으로 변환\n",
    "        X_img = tf.reshape(batch_xs,[-1,28,28,1])\n",
    "\n",
    "        # 비용함수        \n",
    "        def cost_func_batch():\n",
    "            cost_i = tf.nn.softmax_cross_entropy_with_logits(logits = logits(X_img),\n",
    "                                             labels = batch_ys)\n",
    "            cost =  tf.reduce_mean(cost_i)\n",
    "            return cost\n",
    "        \n",
    "        # cost를 minimize 한다\n",
    "        optimizer.minimize(cost_func_batch,var_list=[W1,W2,W3,W4,b4,W5,b5])\n",
    "        avg_cost += cost_func_batch().numpy()/total_batch\n",
    "            \n",
    "    print('Epoch:','%04d'%(epoch + 1),'cost:','{:.9f}'.format(avg_cost))\n",
    "             \n",
    "print('***** Learning Finished!!')"
   ]
  },
  {
   "cell_type": "code",
   "execution_count": 38,
   "metadata": {},
   "outputs": [
    {
     "name": "stdout",
     "output_type": "stream",
     "text": [
      "Accuracy: 0.9796\n",
      "***** Predict\n",
      "[7 2 1 ... 4 5 6] [7 2 1 ... 4 5 6]\n"
     ]
    }
   ],
   "source": [
    "Y_one_hot = tf.one_hot(y_test,nb_classes)    # (10000,10)\n",
    "# print(Y_one_hot.shape)                       # (10000,10)  , (2차원)\n",
    "\n",
    "# tf.argmax() : 값이 가장 큰 요소의 인덱스 값을 반환\n",
    "def predict(X):\n",
    "    return tf.argmax(hypothesis(X),axis=1)\n",
    "\n",
    "# X값의 shape을 4차원으로 변환\n",
    "X_img = tf.reshape(x_test,[-1,28,28,1])\n",
    "        \n",
    "correct_predict = tf.equal(predict(X_img),tf.argmax(Y_one_hot,1))\n",
    "accuracy = tf.reduce_mean(tf.cast(correct_predict, dtype = tf.float32))\n",
    "print(\"Accuracy:\",accuracy.numpy()) # Accuracy: 0.9534\n",
    "\n",
    "#예측\n",
    "print('***** Predict')\n",
    "pred = predict(X_img).numpy()\n",
    "print(pred,y_test)"
   ]
  },
  {
   "cell_type": "code",
   "execution_count": null,
   "metadata": {},
   "outputs": [],
   "source": [
    "# [1] softmax 사용\n",
    "# 1 layers              -------> Accuracy  : 0.8871\n",
    "# 4 layers  sigmoid     -------> Accuracy  : 0.9033\n",
    "# 4 layers  relu        -------> Accuracy  : 0.9534  \n",
    "\n",
    "# [2] CNN 사용\n",
    "# 3 layers              -------> Accuracy  : 0.9721  (epoch=15)\n",
    "# 3 layers              -------> Accuracy  : 0.9831  (epoch=50)\n",
    "# 5 layers              -------> Accuracy  : 0.9824  (epoch=50)\n",
    "# 5 layers              -------> Accuracy  : 0.9876  (epoch=100)"
   ]
  }
 ],
 "metadata": {
  "kernelspec": {
   "display_name": "Python [conda env:py37] *",
   "language": "python",
   "name": "conda-env-py37-py"
  },
  "language_info": {
   "codemirror_mode": {
    "name": "ipython",
    "version": 3
   },
   "file_extension": ".py",
   "mimetype": "text/x-python",
   "name": "python",
   "nbconvert_exporter": "python",
   "pygments_lexer": "ipython3",
   "version": "3.6.9"
  }
 },
 "nbformat": 4,
 "nbformat_minor": 2
}
