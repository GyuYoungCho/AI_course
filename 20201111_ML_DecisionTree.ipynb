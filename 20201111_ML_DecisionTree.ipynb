{
 "cells": [
  {
   "cell_type": "markdown",
   "metadata": {},
   "source": [
    "## 결정 트리(Decision Tree)\n",
    "\n",
    "의사 결정 트리, 의사 결정 나무라고도함, 대표적인 분류 학습 모델, 회귀도 가능, 스무고개와 유사\n",
    "\n",
    "나무를 거꾸로 뒤 짚어 놓은 모양 : 루트 노드 --> 규칙 노드(중간 노드) --> 리프노드(끝노드)\n",
    "\n",
    "#### [1] 불순도(Impurity) : 해당 범주안에 서로 다른 데이터가 얼마나 섞여 있는지를 말한다, 불확실성, 무질서도\n",
    "#### [2] 엔트로피(Entropy) : 불순도를 수치적으로 나타낸 척도, 엔트로피가 높다는 것은 불순도가 높다, 1 이면 불순도가 최대\n",
    "#### [3] 정보이득(Information Gain) : 1 - 엔트로피\n",
    "- 결정트리는 분류(구분)한 뒤 각 영역의 순도가 증가, 불순도가 감소하는 방향으로 학습을 진행, 정보이론에서는 정보이득이라고함\n",
    "\n",
    "#### [4] 지니계수(Gini Coefficient) : 1 - (각 범주별 데이터의 비율의 제곱의 함), 0 이면 최소(끝노드), 1이면 최대"
   ]
  },
  {
   "cell_type": "code",
   "execution_count": 1,
   "metadata": {},
   "outputs": [
    {
     "name": "stderr",
     "output_type": "stream",
     "text": [
      "C:\\Users\\Gyu\\Anaconda3\\envs\\py37\\lib\\site-packages\\numpy\\_distributor_init.py:32: UserWarning: loaded more than 1 DLL from .libs:\n",
      "C:\\Users\\Gyu\\Anaconda3\\envs\\py37\\lib\\site-packages\\numpy\\.libs\\libopenblas.PYQHXLVVQ7VESDPUVUADXEVJOBGHJPAY.gfortran-win_amd64.dll\n",
      "C:\\Users\\Gyu\\Anaconda3\\envs\\py37\\lib\\site-packages\\numpy\\.libs\\libopenblas.TXA6YQSD3GCQQC22GEQ54J2UDCXDXHWN.gfortran-win_amd64.dll\n",
      "  stacklevel=1)\n"
     ]
    }
   ],
   "source": [
    "from sklearn.datasets import load_iris\n",
    "from sklearn.tree import DecisionTreeClassifier\n",
    "from sklearn.model_selection import train_test_split\n",
    "\n",
    "import pandas as pd\n",
    "import numpy as np\n",
    "import matplotlib.pyplot as plt\n",
    "\n",
    "iris = load_iris()\n",
    "\n",
    "# x 피쳐만 추출\n",
    "iris_data =  iris.data\n",
    "\n",
    "# y 답(label)만 추출\n",
    "iris_label = iris.target\n",
    "\n",
    "iris_df = pd.DataFrame(data=iris_data,columns=iris.feature_names)\n",
    "iris_df['label'] = iris_label"
   ]
  },
  {
   "cell_type": "code",
   "execution_count": 2,
   "metadata": {},
   "outputs": [],
   "source": [
    "X_train,X_test, y_train,y_test = train_test_split(iris_data,iris_label, test_size=0.2, random_state=11)  "
   ]
  },
  {
   "cell_type": "code",
   "execution_count": 3,
   "metadata": {},
   "outputs": [
    {
     "data": {
      "text/plain": [
       "DecisionTreeClassifier(random_state=11)"
      ]
     },
     "execution_count": 3,
     "metadata": {},
     "output_type": "execute_result"
    }
   ],
   "source": [
    "dt_clf = DecisionTreeClassifier(random_state=11) # random seed 고정\n",
    "\n",
    "dt_clf.fit(X_train,y_train)"
   ]
  },
  {
   "cell_type": "code",
   "execution_count": 4,
   "metadata": {},
   "outputs": [
    {
     "data": {
      "text/plain": [
       "(array([2, 2, 1, 1, 2, 0, 1, 0, 0, 1, 1, 1, 1, 2, 2, 0, 2, 1, 2, 2, 1, 0,\n",
       "        0, 1, 0, 0, 2, 1, 0, 1]),\n",
       " array([2, 2, 2, 1, 2, 0, 1, 0, 0, 1, 2, 1, 1, 2, 2, 0, 2, 1, 2, 2, 1, 0,\n",
       "        0, 1, 0, 0, 2, 1, 0, 1]))"
      ]
     },
     "execution_count": 4,
     "metadata": {},
     "output_type": "execute_result"
    }
   ],
   "source": [
    "pred = dt_clf.predict(X_test)\n",
    "pred,y_test"
   ]
  },
  {
   "cell_type": "code",
   "execution_count": 5,
   "metadata": {},
   "outputs": [
    {
     "name": "stdout",
     "output_type": "stream",
     "text": [
      "정확도: 0.9333\n"
     ]
    }
   ],
   "source": [
    "from sklearn.metrics import accuracy_score, classification_report \n",
    "\n",
    "print('정확도: {0:.4f}'.format(accuracy_score(y_test,pred)))"
   ]
  },
  {
   "cell_type": "code",
   "execution_count": 11,
   "metadata": {},
   "outputs": [
    {
     "name": "stdout",
     "output_type": "stream",
     "text": [
      "0.667\n",
      "0.5\n"
     ]
    }
   ],
   "source": [
    "# 지니계수 : 1 -(각 범주별 데이터의 비율의 제곱의 함), 0 이면 leaf node(끝노드)\n",
    "# gini = 0.667\n",
    "# samples = 120\n",
    "# value = [41, 40, 39]\n",
    "# class = setosa\n",
    "\n",
    "gini = 1 - ((41/120)**2 + (40/120)**2 + (39/120)**2)\n",
    "print(round(gini,3))  # 0.667\n",
    "\n",
    "# gini = 0.5\n",
    "# samples = 79\n",
    "# value = [0, 40, 39]\n",
    "# class = versicolor\n",
    "gini = 1 - ((0/79)**2 + (40/79)**2 + (39/79)**2)\n",
    "print(round(gini,3))  # 0.5"
   ]
  },
  {
   "cell_type": "code",
   "execution_count": 12,
   "metadata": {},
   "outputs": [
    {
     "name": "stdout",
     "output_type": "stream",
     "text": [
      "feature importance:\n",
      "[0.025 0.    0.049 0.926]\n",
      "sepal length (cm) : 0.025\n",
      "sepal width (cm) : 0.000\n",
      "petal length (cm) : 0.049\n",
      "petal width (cm) : 0.926\n"
     ]
    },
    {
     "data": {
      "text/plain": [
       "<AxesSubplot:>"
      ]
     },
     "execution_count": 12,
     "metadata": {},
     "output_type": "execute_result"
    },
    {
     "data": {
      "image/png": "[encoded data removed]",
      "text/plain": [
       "<Figure size 432x288 with 1 Axes>"
      ]
     },
     "metadata": {
      "needs_background": "light"
     },
     "output_type": "display_data"
    }
   ],
   "source": [
    "# feauture importance : 결정트리의 규칙노드가 분기 조건으로 사용할 피쳐의 우선 순위\n",
    "print('feature importance:\\n{0}'.format(np.round(dt_clf.feature_importances_,3)))\n",
    "for name, value in zip(iris.feature_names,dt_clf.feature_importances_):\n",
    "    print('{0} : {1:.3f}'.format(name,value))\n",
    "    \n",
    "import seaborn as sns\n",
    "sns.barplot(x = dt_clf.feature_importances_, y = iris.feature_names)\n"
   ]
  },
  {
   "cell_type": "code",
   "execution_count": 13,
   "metadata": {},
   "outputs": [
    {
     "name": "stdout",
     "output_type": "stream",
     "text": [
      "0.667\n",
      "0.136\n",
      "0.0\n"
     ]
    }
   ],
   "source": [
    "### GINI 계수 함수 구현\n",
    "\n",
    "def gini(value):\n",
    "    array_of_values = np.array(value)\n",
    "    array_of_sum = array_of_values.sum() # 전체 데이터 수\n",
    "    squared_sum = 0\n",
    "    for value in array_of_values:\n",
    "        squared_sum += (value/array_of_sum)**2\n",
    "    return round(1 - squared_sum,3)\n",
    "            \n",
    "print(gini([41, 40, 39])) # 0.667\n",
    "print(gini([0, 3, 38]))   # 0.136\n",
    "print(gini([0, 0, 10])) "
   ]
  },
  {
   "cell_type": "code",
   "execution_count": 14,
   "metadata": {},
   "outputs": [
    {
     "name": "stdout",
     "output_type": "stream",
     "text": [
      "0    41\n",
      "1    40\n",
      "2    39\n",
      "Name: label, dtype: int64\n",
      "0.667\n"
     ]
    },
    {
     "data": {
      "text/plain": [
       "(79, 5)"
      ]
     },
     "execution_count": 14,
     "metadata": {},
     "output_type": "execute_result"
    }
   ],
   "source": [
    "first_df = pd.DataFrame(data=X_train,columns = iris.feature_names)\n",
    "first_df['label'] = y_train\n",
    "first_df.shape  # (120, 5)\n",
    "\n",
    "print(first_df['label'].value_counts())\n",
    "value = [41,40,39]\n",
    "print(gini(value)) # gini = 0.667, 지니 계수가 크므로 자식노드(1번과 2번) 브랜치하기로 결정\n",
    "\n",
    "# 자식 노드 생성\n",
    "second_node = first_df[first_df['petal width (cm)'] <= 0.8]  # 자식 노드(1번 노드) 생성\n",
    "third_node = first_df[first_df['petal width (cm)'] > 0.8]    # 자식 노드(2번 노드) 생성\n",
    "second_node.shape  # (41,5)\n",
    "third_node.shape"
   ]
  },
  {
   "cell_type": "code",
   "execution_count": 16,
   "metadata": {},
   "outputs": [
    {
     "name": "stdout",
     "output_type": "stream",
     "text": [
      "0    41\n",
      "Name: label, dtype: int64\n",
      "gini: 0.0\n",
      "class: setosa\n"
     ]
    },
    {
     "data": {
      "text/html": [
       "<div>\n",
       "<style scoped>\n",
       "    .dataframe tbody tr th:only-of-type {\n",
       "        vertical-align: middle;\n",
       "    }\n",
       "\n",
       "    .dataframe tbody tr th {\n",
       "        vertical-align: top;\n",
       "    }\n",
       "\n",
       "    .dataframe thead th {\n",
       "        text-align: right;\n",
       "    }\n",
       "</style>\n",
       "<table border=\"1\" class=\"dataframe\">\n",
       "  <thead>\n",
       "    <tr style=\"text-align: right;\">\n",
       "      <th></th>\n",
       "      <th>sepal length (cm)</th>\n",
       "      <th>sepal width (cm)</th>\n",
       "      <th>petal length (cm)</th>\n",
       "      <th>petal width (cm)</th>\n",
       "      <th>label</th>\n",
       "    </tr>\n",
       "  </thead>\n",
       "  <tbody>\n",
       "    <tr>\n",
       "      <th>0</th>\n",
       "      <td>5.1</td>\n",
       "      <td>3.5</td>\n",
       "      <td>1.4</td>\n",
       "      <td>0.2</td>\n",
       "      <td>0</td>\n",
       "    </tr>\n",
       "    <tr>\n",
       "      <th>3</th>\n",
       "      <td>5.0</td>\n",
       "      <td>3.3</td>\n",
       "      <td>1.4</td>\n",
       "      <td>0.2</td>\n",
       "      <td>0</td>\n",
       "    </tr>\n",
       "    <tr>\n",
       "      <th>4</th>\n",
       "      <td>4.7</td>\n",
       "      <td>3.2</td>\n",
       "      <td>1.6</td>\n",
       "      <td>0.2</td>\n",
       "      <td>0</td>\n",
       "    </tr>\n",
       "    <tr>\n",
       "      <th>8</th>\n",
       "      <td>5.5</td>\n",
       "      <td>3.5</td>\n",
       "      <td>1.3</td>\n",
       "      <td>0.2</td>\n",
       "      <td>0</td>\n",
       "    </tr>\n",
       "    <tr>\n",
       "      <th>12</th>\n",
       "      <td>4.6</td>\n",
       "      <td>3.4</td>\n",
       "      <td>1.4</td>\n",
       "      <td>0.3</td>\n",
       "      <td>0</td>\n",
       "    </tr>\n",
       "  </tbody>\n",
       "</table>\n",
       "</div>"
      ],
      "text/plain": [
       "    sepal length (cm)  sepal width (cm)  petal length (cm)  petal width (cm)  \\\n",
       "0                 5.1               3.5                1.4               0.2   \n",
       "3                 5.0               3.3                1.4               0.2   \n",
       "4                 4.7               3.2                1.6               0.2   \n",
       "8                 5.5               3.5                1.3               0.2   \n",
       "12                4.6               3.4                1.4               0.3   \n",
       "\n",
       "    label  \n",
       "0       0  \n",
       "3       0  \n",
       "4       0  \n",
       "8       0  \n",
       "12      0  "
      ]
     },
     "execution_count": 16,
     "metadata": {},
     "output_type": "execute_result"
    }
   ],
   "source": [
    "\n",
    "# 1번(두번째) 노드 : 첫번째 터미널 노드,리프 노드\n",
    "# gini = 0.0\n",
    "# samples = 41\n",
    "# value = [41, 0, 0]\n",
    "# class = setosa\n",
    "\n",
    "print(second_node['label'].value_counts())\n",
    "value =[41,0,0]\n",
    "print('gini:',gini(value))  # gini : 0.0, 지니계수가 0이므로 leaf노드가 됨, 더이상 브랜치 하지 않음\n",
    "print('class:',iris.target_names[0]) # class: setosa\n",
    "\n",
    "# leaf node인 경우 \n",
    "setosa_result = second_node.copy()\n",
    "setosa_result.head()"
   ]
  },
  {
   "cell_type": "code",
   "execution_count": 17,
   "metadata": {},
   "outputs": [
    {
     "name": "stdout",
     "output_type": "stream",
     "text": [
      "1    40\n",
      "2    39\n",
      "Name: label, dtype: int64\n",
      "gini: 0.5\n"
     ]
    },
    {
     "data": {
      "text/plain": [
       "(41, 5)"
      ]
     },
     "execution_count": 17,
     "metadata": {},
     "output_type": "execute_result"
    }
   ],
   "source": [
    "# 2번(세번째) 노드 : 규칙 노드\n",
    "# petal width (cm) <= 1.55\n",
    "# gini = 0.5\n",
    "# samples = 79\n",
    "# value = [0, 40, 39]\n",
    "# class = versicolor\n",
    "print(third_node['label'].value_counts())\n",
    "value = [0, 40, 39]\n",
    "print('gini:',gini(value))  # gini: 0.5, 지니 계수가 크므로 자식노드(3번과 5번) 브랜치하기로 결정\n",
    "\n",
    "# 자식 노드 생성\n",
    "fourth_node = third_node[third_node['petal width (cm)'] <= 1.55] # 자식노드 (3번) 생성\n",
    "fifth_node = third_node[third_node['petal width (cm)'] > 1.55]   # 자식노드 (5번) 생성\n",
    "fourth_node.shape # (38, 5)\n",
    "fifth_node.shape  # "
   ]
  },
  {
   "cell_type": "code",
   "execution_count": 18,
   "metadata": {},
   "outputs": [
    {
     "name": "stdout",
     "output_type": "stream",
     "text": [
      "1    37\n",
      "2     1\n",
      "Name: label, dtype: int64\n",
      "gini: 0.051\n"
     ]
    },
    {
     "data": {
      "text/plain": [
       "(1, 5)"
      ]
     },
     "execution_count": 18,
     "metadata": {},
     "output_type": "execute_result"
    }
   ],
   "source": [
    "# 3번(네번째) 노드 : 규칙 노드\n",
    "# petal length (cm) <= 5.25\n",
    "# gini = 0.051\n",
    "# samples = 38\n",
    "# value = [0, 37, 1]\n",
    "# class = versicolor\n",
    "print(fourth_node['label'].value_counts())\n",
    "value = [0, 37, 1]\n",
    "print('gini:',gini(value))  # gini: 0.051, 지니 계수가 작지만 자식노드(4번과 5번) 브랜치하기로 결정\n",
    "\n",
    "# 자식 노드 생성\n",
    "sixth_node = fourth_node[fourth_node['petal length (cm)'] <= 5.25]     # 자식노드 (4번) 생성\n",
    "seventh_node = fourth_node[fourth_node['petal length (cm)'] > 5.25]    # 자식노드 (5번) 생성\n",
    "sixth_node.shape    # (37, 5)\n",
    "seventh_node.shape  # (1, 5)"
   ]
  },
  {
   "cell_type": "code",
   "execution_count": 21,
   "metadata": {},
   "outputs": [
    {
     "name": "stdout",
     "output_type": "stream",
     "text": [
      "1    37\n",
      "Name: label, dtype: int64\n",
      "gini: 0.0\n",
      "class: versicolor\n"
     ]
    },
    {
     "data": {
      "text/html": [
       "<div>\n",
       "<style scoped>\n",
       "    .dataframe tbody tr th:only-of-type {\n",
       "        vertical-align: middle;\n",
       "    }\n",
       "\n",
       "    .dataframe tbody tr th {\n",
       "        vertical-align: top;\n",
       "    }\n",
       "\n",
       "    .dataframe thead th {\n",
       "        text-align: right;\n",
       "    }\n",
       "</style>\n",
       "<table border=\"1\" class=\"dataframe\">\n",
       "  <thead>\n",
       "    <tr style=\"text-align: right;\">\n",
       "      <th></th>\n",
       "      <th>sepal length (cm)</th>\n",
       "      <th>sepal width (cm)</th>\n",
       "      <th>petal length (cm)</th>\n",
       "      <th>petal width (cm)</th>\n",
       "      <th>label</th>\n",
       "    </tr>\n",
       "  </thead>\n",
       "  <tbody>\n",
       "    <tr>\n",
       "      <th>10</th>\n",
       "      <td>5.0</td>\n",
       "      <td>2.0</td>\n",
       "      <td>3.5</td>\n",
       "      <td>1.0</td>\n",
       "      <td>1</td>\n",
       "    </tr>\n",
       "    <tr>\n",
       "      <th>13</th>\n",
       "      <td>6.9</td>\n",
       "      <td>3.1</td>\n",
       "      <td>4.9</td>\n",
       "      <td>1.5</td>\n",
       "      <td>1</td>\n",
       "    </tr>\n",
       "    <tr>\n",
       "      <th>15</th>\n",
       "      <td>5.1</td>\n",
       "      <td>2.5</td>\n",
       "      <td>3.0</td>\n",
       "      <td>1.1</td>\n",
       "      <td>1</td>\n",
       "    </tr>\n",
       "    <tr>\n",
       "      <th>16</th>\n",
       "      <td>6.6</td>\n",
       "      <td>2.9</td>\n",
       "      <td>4.6</td>\n",
       "      <td>1.3</td>\n",
       "      <td>1</td>\n",
       "    </tr>\n",
       "    <tr>\n",
       "      <th>22</th>\n",
       "      <td>5.9</td>\n",
       "      <td>3.0</td>\n",
       "      <td>4.2</td>\n",
       "      <td>1.5</td>\n",
       "      <td>1</td>\n",
       "    </tr>\n",
       "  </tbody>\n",
       "</table>\n",
       "</div>"
      ],
      "text/plain": [
       "    sepal length (cm)  sepal width (cm)  petal length (cm)  petal width (cm)  \\\n",
       "10                5.0               2.0                3.5               1.0   \n",
       "13                6.9               3.1                4.9               1.5   \n",
       "15                5.1               2.5                3.0               1.1   \n",
       "16                6.6               2.9                4.6               1.3   \n",
       "22                5.9               3.0                4.2               1.5   \n",
       "\n",
       "    label  \n",
       "10      1  \n",
       "13      1  \n",
       "15      1  \n",
       "16      1  \n",
       "22      1  "
      ]
     },
     "execution_count": 21,
     "metadata": {},
     "output_type": "execute_result"
    }
   ],
   "source": [
    "\n",
    "# 4번 노드 : 두 번째 터미널 노드, leaf node\n",
    "# gini = 0.0\n",
    "# samples = 37\n",
    "# value = [0, 37, 0]\n",
    "# class = versicolor\n",
    "\n",
    "print(sixth_node['label'].value_counts())\n",
    "value = [0, 37, 0]\n",
    "print('gini:',gini(value)) # gini: 0.0\n",
    "print('class:',iris.target_names[1]) # class: versicolor\n",
    "\n",
    "versicolor_result = sixth_node.copy()\n",
    "versicolor_result.head()"
   ]
  },
  {
   "cell_type": "code",
   "execution_count": 22,
   "metadata": {},
   "outputs": [
    {
     "name": "stdout",
     "output_type": "stream",
     "text": [
      "2    1\n",
      "Name: label, dtype: int64\n",
      "gini: 0.0\n",
      "class: virginica\n"
     ]
    },
    {
     "data": {
      "text/html": [
       "<div>\n",
       "<style scoped>\n",
       "    .dataframe tbody tr th:only-of-type {\n",
       "        vertical-align: middle;\n",
       "    }\n",
       "\n",
       "    .dataframe tbody tr th {\n",
       "        vertical-align: top;\n",
       "    }\n",
       "\n",
       "    .dataframe thead th {\n",
       "        text-align: right;\n",
       "    }\n",
       "</style>\n",
       "<table border=\"1\" class=\"dataframe\">\n",
       "  <thead>\n",
       "    <tr style=\"text-align: right;\">\n",
       "      <th></th>\n",
       "      <th>sepal length (cm)</th>\n",
       "      <th>sepal width (cm)</th>\n",
       "      <th>petal length (cm)</th>\n",
       "      <th>petal width (cm)</th>\n",
       "      <th>label</th>\n",
       "    </tr>\n",
       "  </thead>\n",
       "  <tbody>\n",
       "    <tr>\n",
       "      <th>30</th>\n",
       "      <td>6.1</td>\n",
       "      <td>2.6</td>\n",
       "      <td>5.6</td>\n",
       "      <td>1.4</td>\n",
       "      <td>2</td>\n",
       "    </tr>\n",
       "  </tbody>\n",
       "</table>\n",
       "</div>"
      ],
      "text/plain": [
       "    sepal length (cm)  sepal width (cm)  petal length (cm)  petal width (cm)  \\\n",
       "30                6.1               2.6                5.6               1.4   \n",
       "\n",
       "    label  \n",
       "30      2  "
      ]
     },
     "execution_count": 22,
     "metadata": {},
     "output_type": "execute_result"
    }
   ],
   "source": [
    "# 5번 노드 : 세 번째 터미널 노드, leaf node\n",
    "# gini = 0.0\n",
    "# samples = 1\n",
    "# value = [0, 0, 1]\n",
    "# class = virginica\n",
    "print(seventh_node['label'].value_counts())\n",
    "value = [0, 0, 1]\n",
    "print('gini:',gini(value)) # gini: 0.0 , leaf node\n",
    "print('class:',iris.target_names[2]) # class: virginica\n",
    "\n",
    "virginica_result = seventh_node.copy()\n",
    "virginica_result"
   ]
  },
  {
   "cell_type": "code",
   "execution_count": 23,
   "metadata": {},
   "outputs": [
    {
     "name": "stdout",
     "output_type": "stream",
     "text": [
      "2    38\n",
      "1     3\n",
      "Name: label, dtype: int64\n",
      "gini: 0.136\n"
     ]
    },
    {
     "data": {
      "text/plain": [
       "(37, 5)"
      ]
     },
     "execution_count": 23,
     "metadata": {},
     "output_type": "execute_result"
    }
   ],
   "source": [
    "\n",
    "# 6번 노드 : 규칙 노드\n",
    "# petal width (cm) <= 1.75\n",
    "# gini = 0.136\n",
    "# samples = 41\n",
    "# value = [0, 3, 38]\n",
    "# class = virginica\n",
    "print(fifth_node['label'].value_counts())\n",
    "value = [0, 3, 38]\n",
    "print('gini:',gini(value)) # gini: 0.136 지니계수가 작지만 두가지가 혼합 되어 자식 노드(7번과 12번) 생성\n",
    "\n",
    "# 자식 노드 생성\n",
    "eight_node = fifth_node[fifth_node['petal width (cm)'] <= 1.75]  # 자식 노드(7번) 생성\n",
    "ninth_node = fifth_node[fifth_node['petal width (cm)'] > 1.75]  # 자식 노드(12번) 생성\n",
    "eight_node.shape  # (4, 5)\n",
    "ninth_node.shape"
   ]
  },
  {
   "cell_type": "code",
   "execution_count": 24,
   "metadata": {},
   "outputs": [],
   "source": [
    "# 중간 생략  : 7번 ~ 16번 노드(숙제)"
   ]
  },
  {
   "cell_type": "code",
   "execution_count": 25,
   "metadata": {},
   "outputs": [
    {
     "name": "stdout",
     "output_type": "stream",
     "text": [
      "(79, 5)\n",
      "0    41\n",
      "1    37\n",
      "2     1\n",
      "Name: label, dtype: int64\n"
     ]
    }
   ],
   "source": [
    "fit_result = pd.concat([setosa_result,versicolor_result,virginica_result],axis = 0)\n",
    "print(fit_result.shape)\n",
    "print(fit_result['label'].value_counts())"
   ]
  },
  {
   "cell_type": "markdown",
   "metadata": {},
   "source": [
    "## 결정 트리의 파라메터 튜닝 : 학습 시간 및 과적합 제어\n",
    "\n",
    "### 과적합(Overfitting)\n",
    "- 학습 데이터에서는 예측 정확도가 높이 나오는데 학습에서 사용되지 않은 다른 데이터 셋을 사용하여 예측하면 예측 정확도가 떨어지는 경우, 피쳐가 지나치게 많을때도 발생\n",
    "\n",
    "\n",
    "### parameter\n",
    "- max_depth : 트리의 최대 깊이,None, 깊이가 너무 깊으면 과적합\n",
    "- max_features : 최대 피처 갯수, None , 모든 피처를 사용\n",
    "- max_leaf_nodes : 리프노드의 최대 갯수, None\n",
    "- min_samples_leaf : 리프 노드가 되기 위한 최소의 샘플데이터 수, 1\n",
    "- min_samples_split : 노드를 분할하기 위한 최소의 샘플 데이터 수, 2, 과적합을 제어하는 데 사용\n",
    "\n",
    "\n",
    "#### 1. max_depth 값 조정 : 트리의 최대 깊이, 깊이가 너무 깊으면 과적합, 정확도에도 영향"
   ]
  },
  {
   "cell_type": "code",
   "execution_count": 26,
   "metadata": {},
   "outputs": [
    {
     "name": "stdout",
     "output_type": "stream",
     "text": [
      "정확도: 0.9333\n"
     ]
    }
   ],
   "source": [
    "# dt_clf = DecisionTreeClassifier(random_state=11, max_depth = None) #  정확도: 0.9333\n",
    "# dt_clf = DecisionTreeClassifier(random_state=11, max_depth = 1)    #  정확도: 0.6333, 정확도 감소\n",
    "# dt_clf = DecisionTreeClassifier(random_state=11, max_depth = 2)    #  정확도: 0.8667, 정확도 감소\n",
    "dt_clf = DecisionTreeClassifier(random_state=11, max_depth = 3)      #  정확도: 0.9333\n",
    "# dt_clf = DecisionTreeClassifier(random_state=11, max_depth = 4)    #  정확도: 0.9333\n",
    "\n",
    "dt_clf.fit(X_train,y_train)\n",
    "\n",
    "# 예측(predict) 수행\n",
    "pred = dt_clf.predict(X_test)\n",
    "pred,y_test\n",
    "\n",
    "# 정확도 측정 : accuracy\n",
    "from sklearn.metrics import accuracy_score, classification_report \n",
    "\n",
    "print('정확도: {0:.4f}'.format(accuracy_score(y_test,pred)))"
   ]
  },
  {
   "cell_type": "markdown",
   "metadata": {},
   "source": [
    "#### 2. min_samples_split : 노드를 분할하기 위한 최소의 샘플 데이터 수, 2, 과적합을 제어하는 데 사용 , 정확도에도 영향"
   ]
  },
  {
   "cell_type": "code",
   "execution_count": 27,
   "metadata": {},
   "outputs": [
    {
     "name": "stdout",
     "output_type": "stream",
     "text": [
      "정확도: 0.9333\n"
     ]
    }
   ],
   "source": [
    "# dt_clf = DecisionTreeClassifier(random_state=11, min_samples_split = 2)      #  정확도: 0.9333\n",
    "# dt_clf = DecisionTreeClassifier(random_state=11, min_samples_split = 4)      #  정확도: 0.9333\n",
    "dt_clf = DecisionTreeClassifier(random_state=11, min_samples_split = 41)       #  정확도: 0.9333\n",
    "# dt_clf = DecisionTreeClassifier(random_state=11, min_samples_split = 42)     #  정확도: 0.866, 정확도 감소\n",
    "\n",
    "dt_clf.fit(X_train,y_train)\n",
    "\n",
    "# 예측(predict) 수행\n",
    "pred = dt_clf.predict(X_test)\n",
    "pred,y_test\n",
    "\n",
    "# 정확도 측정 : accuracy\n",
    "from sklearn.metrics import accuracy_score, classification_report \n",
    "\n",
    "print('정확도: {0:.4f}'.format(accuracy_score(y_test,pred)))"
   ]
  },
  {
   "cell_type": "markdown",
   "metadata": {},
   "source": [
    "#### 3. min_samples_leaf : 리프 노드가 되기 위한 최소한의 샘플데이터 수, 1"
   ]
  },
  {
   "cell_type": "code",
   "execution_count": 28,
   "metadata": {},
   "outputs": [
    {
     "name": "stdout",
     "output_type": "stream",
     "text": [
      "정확도: 0.9333\n"
     ]
    }
   ],
   "source": [
    "# dt_clf = DecisionTreeClassifier(random_state=11, min_samples_leaf = 1)       #  정확도: 0.9333\n",
    "# dt_clf = DecisionTreeClassifier(random_state=11, min_samples_leaf = 4)       #  정확도: 0.9333 , 적정값\n",
    "# dt_clf = DecisionTreeClassifier(random_state=11, min_samples_leaf = 5)       #  정확도: 0.8667 , 정확도가 감소\n",
    "dt_clf = DecisionTreeClassifier(random_state=11, min_samples_leaf = 39)        #  정확도:  0.9333 , 적정값\n",
    "# dt_clf = DecisionTreeClassifier(random_state=11, min_samples_leaf = 40)      #  정확도:  0.6333, 정확도가 감소\n",
    "\n",
    "dt_clf.fit(X_train,y_train)\n",
    "\n",
    "# 예측(predict) 수행\n",
    "pred = dt_clf.predict(X_test)\n",
    "pred,y_test\n",
    "\n",
    "# 정확도 측정 : accuracy\n",
    "from sklearn.metrics import accuracy_score, classification_report \n",
    "\n",
    "print('정확도: {0:.4f}'.format(accuracy_score(y_test,pred)))"
   ]
  },
  {
   "cell_type": "markdown",
   "metadata": {},
   "source": [
    "### 교차 검증"
   ]
  },
  {
   "cell_type": "code",
   "execution_count": 29,
   "metadata": {},
   "outputs": [
    {
     "name": "stdout",
     "output_type": "stream",
     "text": [
      "정확도: 0.9333\n",
      "교차 검증 정확도: [0.98 0.92 0.98]\n",
      "교차 검증 평균 정확도: 0.96\n"
     ]
    }
   ],
   "source": [
    "from sklearn.model_selection import cross_val_score\n",
    "\n",
    "iris_data = load_iris()\n",
    "\n",
    "X_train,X_test,y_train,y_test = train_test_split(iris_data.data , iris_data.target,\n",
    "                                                test_size = 0.2 , random_state = 11)\n",
    "\n",
    "dt_clf = DecisionTreeClassifier(random_state=11)\n",
    "\n",
    "# 학습\n",
    "dt_clf.fit(X_train,y_train)\n",
    "\n",
    "# 예측\n",
    "pred = dt_clf.predict(X_test)\n",
    "\n",
    "# 정확도  : 1회만 예측한 결과의 정확도\n",
    "print('정확도: {0:.4f}'.format(accuracy_score(y_test,pred)))\n",
    "\n",
    "# 교차 검증(cross validation)\n",
    "cv_score = cross_val_score(dt_clf,iris_data.data,iris_data.target,  # Estimator,X,Y값\n",
    "                           scoring='accuracy', cv = 3) # cv = 3, 3개로 쪼개어 검증(predict를 3회 수행)\n",
    "\n",
    "# 내부적으로 Stratified K-Fold 사용됨, 평가지표를 한개만 구할 수 있어서 StatifiedKFold사용 권장\n",
    "\n",
    "print('교차 검증 정확도:',cv_score) # [0.98039216 0.92156863 0.97916667]\n",
    "print('교차 검증 평균 정확도:',np.round(np.mean(cv_score),4)) # 0.9604 "
   ]
  },
  {
   "cell_type": "markdown",
   "metadata": {},
   "source": [
    "### K-fold"
   ]
  },
  {
   "cell_type": "code",
   "execution_count": 31,
   "metadata": {},
   "outputs": [],
   "source": [
    "from sklearn.model_selection import KFold\n",
    "iris = load_iris()\n",
    "features = iris.data\n",
    "label = iris.target\n",
    "\n",
    "features.shape  # (150, 4)\n",
    "label.shape     # (150,)\n",
    "\n",
    "dt_clf = DecisionTreeClassifier(random_state=11)"
   ]
  },
  {
   "cell_type": "code",
   "execution_count": 33,
   "metadata": {},
   "outputs": [
    {
     "name": "stdout",
     "output_type": "stream",
     "text": [
      "K폴드 교차 검증 평균 정확도: 0.92\n"
     ]
    }
   ],
   "source": [
    "kfold = KFold(n_splits = 5)\n",
    "cv_accuracy = []\n",
    "n_iter = 0\n",
    "\n",
    "for train_index,test_index in kfold.split(features):\n",
    "    # kfold.split()함수 : X데이터 features를 분리하여 학습/검증용 데이터의 인덱스를 반환\n",
    "    \n",
    "    # 150개 데이터\n",
    "    # k 값(n_splits) : 폴드세트 갯수, 학습:검증  검증 데이터의 비율\n",
    "    #     2          :   2            75:75      1/2(50%)\n",
    "    #     3          :   3            100:50     1/3(33%)\n",
    "    #     4          :   4            112:38     1/4(25%)\n",
    "    #     5          :   5            120:30     1/5(20%)\n",
    "    #     6          :   6            125:25     1/6(16.7%)\n",
    "    \n",
    "    X_train = features[train_index]\n",
    "    X_test = features[test_index]\n",
    "    \n",
    "    y_train = label[train_index]\n",
    "    y_test = label[test_index]\n",
    "    \n",
    "    # 학습 및 예측\n",
    "    dt_clf.fit(X_train,y_train)\n",
    "    pred = dt_clf.predict(X_test)\n",
    "    \n",
    "    n_iter += 1\n",
    "\n",
    "    # 반복시 마다 정확도 측정\n",
    "    accuracy = round(accuracy_score(y_test,pred),4)\n",
    "    cv_accuracy.append(accuracy)\n",
    "\n",
    "# K폴드로 반복된 정확도를 합하여 평균 정확도 계산\n",
    "print('K폴드 교차 검증 평균 정확도:', round(np.mean(cv_accuracy),3))"
   ]
  },
  {
   "cell_type": "markdown",
   "metadata": {},
   "source": [
    "## Stratified K-Fold : 분류에서 필수 사용!!\n",
    "- label 이 지나치게 불균형 분포를 이룰 때 레이블의 분포를 균일하게 폴드시키는 방식\n",
    "- 분류모델에서만 가능(회귀는 지원되지 않음)"
   ]
  },
  {
   "cell_type": "code",
   "execution_count": 34,
   "metadata": {},
   "outputs": [
    {
     "name": "stdout",
     "output_type": "stream",
     "text": [
      "\n",
      "[ 1 번 폴드 세트]\n",
      "0    41\n",
      "2    40\n",
      "1    39\n",
      "Name: label, dtype: int64\n",
      "1    11\n",
      "2    10\n",
      "0     9\n",
      "Name: label, dtype: int64\n",
      "\n",
      "[ 2 번 폴드 세트]\n",
      "2    42\n",
      "0    41\n",
      "1    37\n",
      "Name: label, dtype: int64\n",
      "1    13\n",
      "0     9\n",
      "2     8\n",
      "Name: label, dtype: int64\n",
      "\n",
      "[ 3 번 폴드 세트]\n",
      "1    44\n",
      "2    38\n",
      "0    38\n",
      "Name: label, dtype: int64\n",
      "2    12\n",
      "0    12\n",
      "1     6\n",
      "Name: label, dtype: int64\n",
      "\n",
      "[ 4 번 폴드 세트]\n",
      "0    43\n",
      "2    39\n",
      "1    38\n",
      "Name: label, dtype: int64\n",
      "1    12\n",
      "2    11\n",
      "0     7\n",
      "Name: label, dtype: int64\n",
      "\n",
      "[ 5 번 폴드 세트]\n",
      "1    42\n",
      "2    41\n",
      "0    37\n",
      "Name: label, dtype: int64\n",
      "0    13\n",
      "2     9\n",
      "1     8\n",
      "Name: label, dtype: int64\n"
     ]
    }
   ],
   "source": [
    "iris = load_iris()\n",
    "iris_df = pd.DataFrame(data=iris.data,columns=iris.feature_names)\n",
    "iris_df['label'] = iris.target\n",
    "iris_df['label'].value_counts()\n",
    "\n",
    "kfold = KFold(n_splits = 5, shuffle=True)  # shuffle과 Stratified는 성능이 다름\n",
    "n_iter = 0\n",
    "for train_index,test_index in kfold.split(features):\n",
    "    n_iter += 1\n",
    "    label_train = iris_df['label'].iloc[train_index]\n",
    "    label_test = iris_df['label'].iloc[test_index]\n",
    "    print('\\n[',n_iter,'번 폴드 세트]')\n",
    "    print(label_train.value_counts())  # 120개\n",
    "    print(label_test.value_counts())   # 30개  , 레이블이 불균형 분포를 이룬다"
   ]
  },
  {
   "cell_type": "code",
   "execution_count": 35,
   "metadata": {},
   "outputs": [
    {
     "name": "stdout",
     "output_type": "stream",
     "text": [
      "\n",
      "[ 1 번 폴드 세트]\n",
      "2    40\n",
      "1    40\n",
      "0    40\n",
      "Name: label, dtype: int64\n",
      "2    10\n",
      "1    10\n",
      "0    10\n",
      "Name: label, dtype: int64\n",
      "\n",
      "[ 2 번 폴드 세트]\n",
      "2    40\n",
      "1    40\n",
      "0    40\n",
      "Name: label, dtype: int64\n",
      "2    10\n",
      "1    10\n",
      "0    10\n",
      "Name: label, dtype: int64\n",
      "\n",
      "[ 3 번 폴드 세트]\n",
      "2    40\n",
      "1    40\n",
      "0    40\n",
      "Name: label, dtype: int64\n",
      "2    10\n",
      "1    10\n",
      "0    10\n",
      "Name: label, dtype: int64\n",
      "\n",
      "[ 4 번 폴드 세트]\n",
      "2    40\n",
      "1    40\n",
      "0    40\n",
      "Name: label, dtype: int64\n",
      "2    10\n",
      "1    10\n",
      "0    10\n",
      "Name: label, dtype: int64\n",
      "\n",
      "[ 5 번 폴드 세트]\n",
      "2    40\n",
      "1    40\n",
      "0    40\n",
      "Name: label, dtype: int64\n",
      "2    10\n",
      "1    10\n",
      "0    10\n",
      "Name: label, dtype: int64\n"
     ]
    }
   ],
   "source": [
    "from sklearn.model_selection import StratifiedKFold\n",
    "\n",
    "skf = StratifiedKFold(n_splits=5)\n",
    "n_iter =0\n",
    "\n",
    "for train_index,test_index in skf.split(iris_df,iris_df['label']):\n",
    "    n_iter += 1\n",
    "    label_train = iris_df['label'].iloc[train_index]\n",
    "    label_test = iris_df['label'].iloc[test_index]\n",
    "    print('\\n[',n_iter,'번 폴드 세트]')\n",
    "    print(label_train.value_counts())  # 120개\n",
    "    print(label_test.value_counts())"
   ]
  },
  {
   "cell_type": "code",
   "execution_count": 36,
   "metadata": {},
   "outputs": [
    {
     "name": "stdout",
     "output_type": "stream",
     "text": [
      "StratifiedKFold 교차 검증 평균 정확도: 0.96\n"
     ]
    }
   ],
   "source": [
    "skf = StratifiedKFold(n_splits=5)\n",
    "cv_accuracy = []\n",
    "n_iter =0\n",
    "\n",
    "for train_index,test_index in skf.split(iris_df,iris_df['label']): # Y 레이블을 반드시 인자로 사용\n",
    "    X_train = features[train_index]\n",
    "    X_test = features[test_index]\n",
    "    \n",
    "    y_train = label[train_index]\n",
    "    y_test = label[test_index]\n",
    "    \n",
    "    # 학습 및 예측\n",
    "    dt_clf.fit(X_train,y_train)\n",
    "    pred = dt_clf.predict(X_test)\n",
    "    \n",
    "    n_iter += 1\n",
    "    \n",
    "    # 반복시 마다 정확도 측정\n",
    "    accuracy = round(accuracy_score(y_test,pred),4)\n",
    "    cv_accuracy.append(accuracy)\n",
    "\n",
    "# StratifiedKFold로 반복된 정확도를 합하여 평균 정확도 계산\n",
    "print('StratifiedKFold 교차 검증 평균 정확도:', round(np.mean(cv_accuracy),4)) #  0.96\n",
    "\n",
    "# StratifiedKFold로 레이블의 분포를 균일하게 폴드를 생성하여 학습시키므로 정확도가 향상됨 : 0.92-->0.96"
   ]
  },
  {
   "cell_type": "markdown",
   "metadata": {},
   "source": [
    "## GridSearchCV\n",
    "\n",
    "- 교차 검증과 파라메터 집합을 만들어 주면 최적의 파라메터 값을 구해줌¶"
   ]
  },
  {
   "cell_type": "code",
   "execution_count": 38,
   "metadata": {},
   "outputs": [],
   "source": [
    "from sklearn.model_selection import GridSearchCV\n",
    "\n",
    "X_train,X_test,y_train,y_test = train_test_split(iris.data,iris.target,test_size=0.2,\n",
    "                                                random_state=11)\n",
    "dt_clf = DecisionTreeClassifier(random_state=11)  # Estimator\n",
    "\n",
    "# 파라메터들을 dict 형태로 설정\n",
    "parameters = {'max_depth':[1,2,3], 'min_samples_split':[2,3]}"
   ]
  },
  {
   "cell_type": "code",
   "execution_count": 39,
   "metadata": {},
   "outputs": [
    {
     "data": {
      "text/html": [
       "<div>\n",
       "<style scoped>\n",
       "    .dataframe tbody tr th:only-of-type {\n",
       "        vertical-align: middle;\n",
       "    }\n",
       "\n",
       "    .dataframe tbody tr th {\n",
       "        vertical-align: top;\n",
       "    }\n",
       "\n",
       "    .dataframe thead th {\n",
       "        text-align: right;\n",
       "    }\n",
       "</style>\n",
       "<table border=\"1\" class=\"dataframe\">\n",
       "  <thead>\n",
       "    <tr style=\"text-align: right;\">\n",
       "      <th></th>\n",
       "      <th>params</th>\n",
       "      <th>mean_test_score</th>\n",
       "      <th>rank_test_score</th>\n",
       "      <th>split0_train_score</th>\n",
       "      <th>split1_train_score</th>\n",
       "      <th>split2_train_score</th>\n",
       "    </tr>\n",
       "  </thead>\n",
       "  <tbody>\n",
       "    <tr>\n",
       "      <th>0</th>\n",
       "      <td>{'max_depth': 1, 'min_samples_split': 2}</td>\n",
       "      <td>0.675000</td>\n",
       "      <td>5</td>\n",
       "      <td>0.6750</td>\n",
       "      <td>0.6750</td>\n",
       "      <td>0.6750</td>\n",
       "    </tr>\n",
       "    <tr>\n",
       "      <th>1</th>\n",
       "      <td>{'max_depth': 1, 'min_samples_split': 3}</td>\n",
       "      <td>0.675000</td>\n",
       "      <td>5</td>\n",
       "      <td>0.6750</td>\n",
       "      <td>0.6750</td>\n",
       "      <td>0.6750</td>\n",
       "    </tr>\n",
       "    <tr>\n",
       "      <th>2</th>\n",
       "      <td>{'max_depth': 2, 'min_samples_split': 2}</td>\n",
       "      <td>0.958333</td>\n",
       "      <td>3</td>\n",
       "      <td>0.9875</td>\n",
       "      <td>0.9500</td>\n",
       "      <td>0.9750</td>\n",
       "    </tr>\n",
       "    <tr>\n",
       "      <th>3</th>\n",
       "      <td>{'max_depth': 2, 'min_samples_split': 3}</td>\n",
       "      <td>0.958333</td>\n",
       "      <td>3</td>\n",
       "      <td>0.9875</td>\n",
       "      <td>0.9500</td>\n",
       "      <td>0.9750</td>\n",
       "    </tr>\n",
       "    <tr>\n",
       "      <th>4</th>\n",
       "      <td>{'max_depth': 3, 'min_samples_split': 2}</td>\n",
       "      <td>0.966667</td>\n",
       "      <td>1</td>\n",
       "      <td>0.9875</td>\n",
       "      <td>0.9625</td>\n",
       "      <td>0.9875</td>\n",
       "    </tr>\n",
       "    <tr>\n",
       "      <th>5</th>\n",
       "      <td>{'max_depth': 3, 'min_samples_split': 3}</td>\n",
       "      <td>0.966667</td>\n",
       "      <td>1</td>\n",
       "      <td>0.9875</td>\n",
       "      <td>0.9625</td>\n",
       "      <td>0.9875</td>\n",
       "    </tr>\n",
       "  </tbody>\n",
       "</table>\n",
       "</div>"
      ],
      "text/plain": [
       "                                     params  mean_test_score  rank_test_score  \\\n",
       "0  {'max_depth': 1, 'min_samples_split': 2}         0.675000                5   \n",
       "1  {'max_depth': 1, 'min_samples_split': 3}         0.675000                5   \n",
       "2  {'max_depth': 2, 'min_samples_split': 2}         0.958333                3   \n",
       "3  {'max_depth': 2, 'min_samples_split': 3}         0.958333                3   \n",
       "4  {'max_depth': 3, 'min_samples_split': 2}         0.966667                1   \n",
       "5  {'max_depth': 3, 'min_samples_split': 3}         0.966667                1   \n",
       "\n",
       "   split0_train_score  split1_train_score  split2_train_score  \n",
       "0              0.6750              0.6750              0.6750  \n",
       "1              0.6750              0.6750              0.6750  \n",
       "2              0.9875              0.9500              0.9750  \n",
       "3              0.9875              0.9500              0.9750  \n",
       "4              0.9875              0.9625              0.9875  \n",
       "5              0.9875              0.9625              0.9875  "
      ]
     },
     "execution_count": 39,
     "metadata": {},
     "output_type": "execute_result"
    }
   ],
   "source": [
    "grid_tree = GridSearchCV(dt_clf, param_grid=parameters,cv=3, refit=True,return_train_score=True)\n",
    "grid_tree.fit(X_train,y_train)\n",
    "\n",
    "scores_df = pd.DataFrame(grid_tree.cv_results_)\n",
    "scores_df[['params','mean_test_score','rank_test_score',\n",
    "          'split0_train_score','split1_train_score','split2_train_score']]"
   ]
  },
  {
   "cell_type": "code",
   "execution_count": 40,
   "metadata": {},
   "outputs": [
    {
     "name": "stdout",
     "output_type": "stream",
     "text": [
      "GridSearchCV 최적 파라메터: {'max_depth': 3, 'min_samples_split': 2}\n",
      "GridSearchCV 최고 정확도: 0.9666666666666667\n"
     ]
    }
   ],
   "source": [
    "print('GridSearchCV 최적 파라메터:',grid_tree.best_params_)\n",
    "print('GridSearchCV 최고 정확도:',grid_tree.best_score_)"
   ]
  },
  {
   "cell_type": "code",
   "execution_count": 41,
   "metadata": {},
   "outputs": [
    {
     "name": "stdout",
     "output_type": "stream",
     "text": [
      "0.9333333333333333\n"
     ]
    }
   ],
   "source": [
    "pred = grid_tree.predict(X_test)\n",
    "print(accuracy_score(y_test,pred))"
   ]
  },
  {
   "cell_type": "code",
   "execution_count": 42,
   "metadata": {},
   "outputs": [
    {
     "name": "stdout",
     "output_type": "stream",
     "text": [
      "0.9333333333333333\n"
     ]
    }
   ],
   "source": [
    "esimator = grid_tree.best_estimator_  # estimator : DecisionTreeClassifier\n",
    "pred = esimator.predict(X_test)\n",
    "print(accuracy_score(y_test,pred))"
   ]
  },
  {
   "cell_type": "code",
   "execution_count": null,
   "metadata": {},
   "outputs": [],
   "source": []
  }
 ],
 "metadata": {
  "kernelspec": {
   "display_name": "Python [conda env:py37] *",
   "language": "python",
   "name": "conda-env-py37-py"
  },
  "language_info": {
   "codemirror_mode": {
    "name": "ipython",
    "version": 3
   },
   "file_extension": ".py",
   "mimetype": "text/x-python",
   "name": "python",
   "nbconvert_exporter": "python",
   "pygments_lexer": "ipython3",
   "version": "3.6.9"
  }
 },
 "nbformat": 4,
 "nbformat_minor": 2
}
