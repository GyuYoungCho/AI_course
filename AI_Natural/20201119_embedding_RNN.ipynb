{
 "cells": [
  {
   "cell_type": "markdown",
   "metadata": {},
   "source": [
    "## 단어임베딩\n",
    "http://doc.mindscale.kr/km/unstructured/11.html\n",
    "\n",
    "\n",
    "- one hot 방식이 아닌 index 방식"
   ]
  },
  {
   "cell_type": "code",
   "execution_count": 1,
   "metadata": {},
   "outputs": [
    {
     "name": "stderr",
     "output_type": "stream",
     "text": [
      "C:\\Users\\Gyu\\Anaconda3\\envs\\py37\\lib\\site-packages\\numpy\\_distributor_init.py:32: UserWarning: loaded more than 1 DLL from .libs:\n",
      "C:\\Users\\Gyu\\Anaconda3\\envs\\py37\\lib\\site-packages\\numpy\\.libs\\libopenblas.PYQHXLVVQ7VESDPUVUADXEVJOBGHJPAY.gfortran-win_amd64.dll\n",
      "C:\\Users\\Gyu\\Anaconda3\\envs\\py37\\lib\\site-packages\\numpy\\.libs\\libopenblas.TXA6YQSD3GCQQC22GEQ54J2UDCXDXHWN.gfortran-win_amd64.dll\n",
      "  stacklevel=1)\n"
     ]
    },
    {
     "data": {
      "text/plain": [
       "array([6, 7, 8])"
      ]
     },
     "execution_count": 1,
     "metadata": {},
     "output_type": "execute_result"
    }
   ],
   "source": [
    "import numpy as np\n",
    "\n",
    "W = np.arange(21).reshape(7,3)\n",
    "W[2]"
   ]
  },
  {
   "cell_type": "code",
   "execution_count": 2,
   "metadata": {},
   "outputs": [
    {
     "data": {
      "text/plain": [
       "array([[ 3,  4,  5],\n",
       "       [ 0,  1,  2],\n",
       "       [ 9, 10, 11],\n",
       "       [ 0,  1,  2]])"
      ]
     },
     "execution_count": 2,
     "metadata": {},
     "output_type": "execute_result"
    }
   ],
   "source": [
    "idx = np.array([1,0,3,0])\n",
    "W[idx] # word embedding 방식"
   ]
  },
  {
   "cell_type": "code",
   "execution_count": 4,
   "metadata": {},
   "outputs": [],
   "source": [
    "class Embedding:\n",
    "    def __init__(self,W):\n",
    "        self.params = [W]\n",
    "        self.grads = [np.zeros_like(W)]\n",
    "        self.idx = None\n",
    "        \n",
    "    def forward(self,idx):\n",
    "        W, = self.params\n",
    "        self.idx = idx\n",
    "        out = W[idx]\n",
    "        return out\n",
    "    \n",
    "    def backward(self,dout): # 먼저 쓰여진 값 덮어쓴다. 중복 문제 발생으로 좋지 않음\n",
    "        dW, = self.grads\n",
    "        dW[...] = 0\n",
    "        dW[self.idx] = dout\n",
    "        return None\n",
    "    \n",
    "    def backward2(self,dout): # 중복 index 있어도 잘 처리, for문 사용으로 느림\n",
    "        dW, = self.grads\n",
    "        dW[...] = 0\n",
    "        for i, word_id in enumerate(self.idx):\n",
    "            dW[word_id] += dout[i]\n",
    "        return None\n",
    "    \n",
    "    def backward3(self,dout): # 가장 최적화\n",
    "        dW, = self.grads\n",
    "        dW[...] = 0\n",
    "        np.add.at(dW, self.idx, dout)\n",
    "        return None"
   ]
  },
  {
   "cell_type": "markdown",
   "metadata": {},
   "source": [
    "#### np.add.at(A,idx,B) \n",
    "\n",
    "A배열의 idx 위치에 B배열의 원소 순서대로 더하기, A값 변함\n",
    "\n",
    "https://rfriend.tistory.com/m/545"
   ]
  },
  {
   "cell_type": "code",
   "execution_count": 3,
   "metadata": {},
   "outputs": [
    {
     "name": "stdout",
     "output_type": "stream",
     "text": [
      "A:\n",
      " [[ 0  1  2]\n",
      " [ 3  4  5]\n",
      " [ 6  7  8]\n",
      " [ 9 10 11]\n",
      " [12 13 14]\n",
      " [15 16 17]]\n",
      "B:\n",
      " [[ 0  1  2]\n",
      " [ 3  4  5]\n",
      " [ 6  7  8]\n",
      " [ 9 10 11]]\n",
      "result:\n",
      " [[ 3  6  9]\n",
      " [ 3  4  5]\n",
      " [ 6  7  8]\n",
      " [15 17 19]\n",
      " [12 13 14]\n",
      " [24 26 28]]\n"
     ]
    }
   ],
   "source": [
    "A = np.arange(18).reshape(6, 3)\n",
    "print('A:\\n',A)\n",
    "B = np.arange(12).reshape(4, 3)\n",
    "print('B:\\n',B)\n",
    "idx = np.array([0, 0, 3, 5])\n",
    "np.add.at(A, idx, B)\n",
    "\n",
    "print('result:\\n',A)"
   ]
  },
  {
   "cell_type": "code",
   "execution_count": 5,
   "metadata": {},
   "outputs": [
    {
     "name": "stdout",
     "output_type": "stream",
     "text": [
      "W:\n",
      " [[ 0  1  2]\n",
      " [ 3  4  5]\n",
      " [ 6  7  8]\n",
      " [ 9 10 11]\n",
      " [12 13 14]]\n",
      "out:\n",
      " [[ 0  1  2]\n",
      " [ 6  7  8]\n",
      " [ 0  1  2]\n",
      " [12 13 14]]\n"
     ]
    }
   ],
   "source": [
    "W = np.arange(15).reshape(5,3)\n",
    "print('W:\\n',W)\n",
    "\n",
    "e = Embedding(W)\n",
    "\n",
    "idx = [0,2,0,4]\n",
    "\n",
    "# 순전파 호출 : 순전파에서는 index가 중복되어도 문제 없음\n",
    "out = e.forward(idx)  \n",
    "print('out:\\n',out)"
   ]
  },
  {
   "cell_type": "code",
   "execution_count": 6,
   "metadata": {},
   "outputs": [
    {
     "name": "stdout",
     "output_type": "stream",
     "text": [
      "dout:\n",
      " [[ 0  1  2]\n",
      " [ 3  4  5]\n",
      " [ 6  7  8]\n",
      " [ 9 10 11]]\n",
      "grads:\n",
      " [array([[0, 0, 0],\n",
      "       [0, 0, 0],\n",
      "       [0, 0, 0],\n",
      "       [0, 0, 0],\n",
      "       [0, 0, 0]])]\n",
      "grads:\n",
      " [array([[ 6,  7,  8],\n",
      "       [ 0,  0,  0],\n",
      "       [ 3,  4,  5],\n",
      "       [ 0,  0,  0],\n",
      "       [ 9, 10, 11]])]\n"
     ]
    }
   ],
   "source": [
    "# 역전파 호출 : backward\n",
    "e.grads = [np.zeros_like(W)]\n",
    "dout = np.arange(12).reshape(4,3)  # 3 : W.shape[1] 과 같다\n",
    "print('dout:\\n',dout)\n",
    "print('grads:\\n',e.grads)\n",
    "\n",
    "# idx : [0,2,0,4]\n",
    "e.backward(dout)   # 중복 인덱스가 있어도 올바르게 처리 , 속도가 빠름\n",
    "print('grads:\\n',e.grads)"
   ]
  },
  {
   "cell_type": "markdown",
   "metadata": {},
   "source": [
    "## RNN(Recurrent Neural Network) : 순환 신경망\n",
    "\n",
    "#### 순서가 있는 시퀀스 데이터, time series data(시계열 데이터)를 입력하여 예측\n"
   ]
  },
  {
   "cell_type": "code",
   "execution_count": 9,
   "metadata": {},
   "outputs": [],
   "source": [
    "import numpy as np\n",
    "\n",
    "class RNN:\n",
    "    def __init__(self, Wx,Wh,b):\n",
    "        self.params = [Wx,Wh,b]\n",
    "        self.grads = [np.zeros_like(Wx), np.zeros_like(Wh),np.zeros_like(b)]\n",
    "        self.cache = None\n",
    "        \n",
    "    def forward(self, x, h_prev):\n",
    "        Wx, Wh, b = self.params\n",
    "        t = np.dot(h_prev, Wh) + np.dot(x,Wx) + b\n",
    "        h_next = np.tanh(t)\n",
    "        \n",
    "        self.cache = (x, h_prev,h_next)\n",
    "        return h_next\n",
    "    \n",
    "    def backward(self, dh_next):\n",
    "        Wx, Wh, b = self.params\n",
    "        x, h_prev, h_next = self.cache\n",
    "        \n",
    "        dt = dh_next *(1 - h_next**2)  # tanh 미분\n",
    "        db = np.sum(dt, axis=0) # repeat node 역전파\n",
    "        \n",
    "        dWh = np.dot(h_prev.T, dt)\n",
    "        dh_prev = np.dot(dt,Wh.T)\n",
    "        \n",
    "        dWx = np.dot(x.T, dt)\n",
    "        dx = np.dot(dt, Wx.T)\n",
    "        \n",
    "        self.grad[0][...] = dWx\n",
    "        self.grad[1][...] = dWh\n",
    "        self.grad[2][...] = db\n",
    "        \n",
    "        return dx, dh_prev"
   ]
  },
  {
   "cell_type": "markdown",
   "metadata": {},
   "source": [
    "## Time RNN 계층 구현 : T개의 RNN 계층으로 구성\n",
    "\n",
    "<img src=\"https://cloud.githubusercontent.com/assets/901975/23348727/cc981856-fce7-11e6-83ea-4b187473466b.png\" width=\"700\">\n",
    "<img src=\"https://cloud.githubusercontent.com/assets/901975/23383681/9943a9fc-fd82-11e6-8121-bd187994e249.png\" width=\"700\">\n"
   ]
  },
  {
   "cell_type": "code",
   "execution_count": null,
   "metadata": {},
   "outputs": [],
   "source": [
    "class TimeRNN:\n",
    "    def __init__(self, Wx, Wh, b, stateful=False):\n",
    "        self.params = [Wx, Wh, b]\n",
    "        self.grads = [np.zeros_like(Wx), np.zeros_like(Wh),np.zeros_like(b)]\n",
    "        self.layers = None         #   RNN층을 리스트로 저장\n",
    "        \n",
    "        self.h, self.dh = None, None \n",
    "        # h는 forwward() 호출 시 은닉상태를 저장,\n",
    "        # dh는 backward() 호출 시 앞 블럭의 은닉 상태의 기울기를 저장\n",
    "        \n",
    "        self.stateful = stateful   # RNN 계층 사이에서 은닉 상태를 인계한다\n",
    "    \n",
    "    def set_state(self, h):\n",
    "        self.h = h\n",
    "\n",
    "    def reset_state(self):\n",
    "        self.h = None\n",
    "        \n",
    "    # 순전파\n",
    "    def forward(self, xs):\n",
    "        Wx, Wh, b = self.params\n",
    "        N, T, D = xs.shape # N : batch size T : sequence length D : input size\n",
    "        D, H = Wx.shape # D  : input size  H : hidden size\n",
    "        \n",
    "        self.layers = []\n",
    "        hs = np.empty((N,T,D),dtype='f')\n",
    "        \n",
    "        if not self.stateful or self.h is None:\n",
    "            self.h = np.zeros((N,H),dtype('f'))\n",
    "            \n",
    "        for t in range(T):\n",
    "            layer = RNN(*self.params)\n",
    "            self.h = layer.forward(xs[:,t,:],self.h)\n",
    "            \n",
    "            hs[:,t,:] = self.h\n",
    "            self.layers.append(layer)\n",
    "            \n",
    "        return hs\n",
    "        \n",
    "    def backward(self,dhs):\n",
    "        Wx, Wh, b = self.params\n",
    "        N, T, H = dhs.shape \n",
    "        D, H = Wx.shape \n",
    "        \n",
    "        dxs = np.empty((N,T,D),dtype = 'f')\n",
    "        dh = 0\n",
    "        grads = [0,0,0]\n",
    "        \n",
    "        for t in reversed(range(T)):\n",
    "            layer = self.layers[t]\n",
    "            dx,dh = layers.backward(dhs[:,t,:] + dh)  # RNN dx, dh_prev 호출\n",
    "            dxs[:,t,:] = dx\n",
    "            \n",
    "        for i, grad in enumerate(grads):\n",
    "            self.grads[i][...] = grad\n",
    "        self.dh = dh\n",
    "        \n",
    "        return dxs"
   ]
  },
  {
   "cell_type": "code",
   "execution_count": 10,
   "metadata": {},
   "outputs": [
    {
     "name": "stdout",
     "output_type": "stream",
     "text": [
      "10 20 30\n",
      "100 200 300\n"
     ]
    }
   ],
   "source": [
    "\n",
    "def func(Wx, Wh, b):\n",
    "    print(Wx, Wh, b)\n",
    "    \n",
    "params =[10,20,30]    \n",
    "func(*params)  # 튜플인수 : * 사용\n",
    "\n",
    "params ={'Wx':100,'Wh':200,'b':300}    \n",
    "func(**params) # 사전인수 : ** 사용"
   ]
  },
  {
   "cell_type": "code",
   "execution_count": null,
   "metadata": {},
   "outputs": [],
   "source": []
  }
 ],
 "metadata": {
  "kernelspec": {
   "display_name": "Python [conda env:py37] *",
   "language": "python",
   "name": "conda-env-py37-py"
  },
  "language_info": {
   "codemirror_mode": {
    "name": "ipython",
    "version": 3
   },
   "file_extension": ".py",
   "mimetype": "text/x-python",
   "name": "python",
   "nbconvert_exporter": "python",
   "pygments_lexer": "ipython3",
   "version": "3.6.9"
  }
 },
 "nbformat": 4,
 "nbformat_minor": 2
}
