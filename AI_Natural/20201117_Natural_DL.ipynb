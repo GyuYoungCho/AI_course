{
 "cells": [
  {
   "cell_type": "code",
   "execution_count": 9,
   "metadata": {},
   "outputs": [],
   "source": [
    "import numpy as np\n",
    "import matplotlib.pyplot as plt\n",
    "\n",
    "X = np.random.rand(10,2)\n",
    "W1 = np.random.rand(2,4)\n",
    "b1 = np.random.rand(4)\n",
    "\n",
    "W2 = np.random.rand(4,3)\n",
    "b2 = np.random.rand(3)"
   ]
  },
  {
   "cell_type": "code",
   "execution_count": 7,
   "metadata": {},
   "outputs": [],
   "source": [
    "def sigmoid(x):\n",
    "    return 1 / (1+np.exp(-x))"
   ]
  },
  {
   "cell_type": "code",
   "execution_count": 8,
   "metadata": {},
   "outputs": [
    {
     "data": {
      "text/plain": [
       "array([[0.73439805, 0.65750176, 0.65823342, 0.68960211],\n",
       "       [0.67970069, 0.60173965, 0.65272309, 0.62309711],\n",
       "       [0.65535595, 0.57416554, 0.64997908, 0.58507263],\n",
       "       [0.65911276, 0.60701023, 0.65402752, 0.66045439],\n",
       "       [0.72927558, 0.65445314, 0.65799891, 0.68879019],\n",
       "       [0.73016033, 0.63871677, 0.65587364, 0.64942578],\n",
       "       [0.73533783, 0.62013699, 0.6532634 , 0.59535845],\n",
       "       [0.70957018, 0.61961557, 0.65406681, 0.62922228],\n",
       "       [0.77203404, 0.67614308, 0.65941556, 0.68459209],\n",
       "       [0.65551697, 0.58102628, 0.65083724, 0.6018924 ]])"
      ]
     },
     "execution_count": 8,
     "metadata": {},
     "output_type": "execute_result"
    }
   ],
   "source": [
    "a = np.matmul(X,W1) + b1\n",
    "sigmoid(a)"
   ]
  },
  {
   "cell_type": "code",
   "execution_count": null,
   "metadata": {},
   "outputs": [],
   "source": [
    "a1 = np.matmul(X,W1) + b1\n",
    "s1 = sigmoid(a1)\n",
    "\n",
    "a2 = np.matmul(s1,W2) + b2\n",
    "h = sigmoid(a2) # (10,3)"
   ]
  },
  {
   "cell_type": "markdown",
   "metadata": {},
   "source": [
    "## feed forward"
   ]
  },
  {
   "cell_type": "code",
   "execution_count": 15,
   "metadata": {},
   "outputs": [],
   "source": [
    "class Sigmoid:\n",
    "    def __init__(self):\n",
    "        self.params = []\n",
    "        \n",
    "    def forward(self,x):\n",
    "        return 1 / (1 + np.exp(-x))\n",
    "        \n",
    "class Affine :  # 행렬의 내적을 아핀(Affine) 변환이라고 한다\n",
    "    def __init__(self,W,b):\n",
    "        self.params = [W,b]\n",
    "        \n",
    "    def forward(self,x):\n",
    "        W,b = self.params\n",
    "        out = np.dot(x,W) + b\n",
    "        return out"
   ]
  },
  {
   "cell_type": "code",
   "execution_count": 16,
   "metadata": {},
   "outputs": [
    {
     "data": {
      "text/plain": [
       "[array([[0.94093887, 0.67807348, 0.60012405, 0.24679263],\n",
       "        [0.70001928, 0.24367734, 0.51742417, 0.84666649]]),\n",
       " array([0.04402444, 0.79086087, 0.54807195, 0.06910951]),\n",
       " array([[0.16358678, 0.01941964, 0.42830718],\n",
       "        [0.92364039, 0.1478812 , 0.88044678],\n",
       "        [0.10981361, 0.50739027, 0.22497256],\n",
       "        [0.60022914, 0.7728105 , 0.04815289]]),\n",
       " array([0.37940066, 0.58443772, 0.114699  ])]"
      ]
     },
     "execution_count": 16,
     "metadata": {},
     "output_type": "execute_result"
    }
   ],
   "source": [
    "class TwoLayerNet:\n",
    "    def __init__(self, input_size, hidden_size,output_size):\n",
    "        I,H,O =  input_size, hidden_size,output_size\n",
    "        \n",
    "        W1 = np.random.rand(I,H)\n",
    "        b1 = np.random.rand(H)\n",
    "\n",
    "        W2 = np.random.rand(H,O)\n",
    "        b2 = np.random.rand(O)\n",
    "        \n",
    "        self.layers = [\n",
    "            Affine(W1,b1),\n",
    "            Sigmoid(),\n",
    "            Affine(W2,b2),\n",
    "            Sigmoid(),\n",
    "        ]\n",
    "        \n",
    "        self.params = []\n",
    "        #  # 모든 가중치를 리스트에 모은다.\n",
    "        for layer in self.layers:\n",
    "            self.params += layer.params\n",
    "            \n",
    "    def predict(self,x):\n",
    "        for layer in self.layers:\n",
    "            x = layer.forward(x)\n",
    "        return x\n",
    "    \n",
    "t = TwoLayerNet(2,4,3)\n",
    "t.params"
   ]
  },
  {
   "cell_type": "code",
   "execution_count": 17,
   "metadata": {},
   "outputs": [
    {
     "name": "stdout",
     "output_type": "stream",
     "text": [
      "[[0.85937387 0.84644905 0.75399417]\n",
      " [0.88266492 0.8589321  0.77202912]\n",
      " [0.88117103 0.85955559 0.76972501]\n",
      " [0.89024274 0.86405475 0.77702459]\n",
      " [0.86384938 0.84924518 0.75705603]\n",
      " [0.87028177 0.85323608 0.76156485]\n",
      " [0.87229913 0.85395712 0.76348263]\n",
      " [0.89265717 0.86522424 0.7789244 ]\n",
      " [0.88951179 0.86403333 0.77620981]\n",
      " [0.88815736 0.86202798 0.77608774]] (10, 3)\n"
     ]
    }
   ],
   "source": [
    "X= np.random.rand(10,2)\n",
    "model = TwoLayerNet(2,4,3)\n",
    "\n",
    "s= model.predict(X)\n",
    "print(s,s.shape)"
   ]
  },
  {
   "cell_type": "code",
   "execution_count": 18,
   "metadata": {},
   "outputs": [
    {
     "name": "stdout",
     "output_type": "stream",
     "text": [
      "[4 5 6]\n",
      "True\n",
      "[4 5 6]\n",
      "False\n"
     ]
    }
   ],
   "source": [
    "a = np.array([1, 2, 3])\n",
    "b = np.array([4, 5, 6])\n",
    "a = b\n",
    "print(a)\n",
    "print(id(a) == id(b))\n",
    "a = np.array([1, 2, 3])\n",
    "b = np.array([4, 5, 6])\n",
    "a[...] = b\n",
    "print(a)\n",
    "print(id(a) == id(b))"
   ]
  },
  {
   "cell_type": "markdown",
   "metadata": {},
   "source": [
    "\n",
    "스파이럴 데이터셋으로 학습"
   ]
  },
  {
   "cell_type": "code",
   "execution_count": 22,
   "metadata": {},
   "outputs": [],
   "source": [
    "import matplotlib as mpl\n",
    "import pandas as pd\n",
    "mpl.rcParams['axes.unicode_minus'] = False\n",
    "\n",
    "def load_data(seed=1984):\n",
    "    np.random.seed(seed)\n",
    "    N = 100  # 클래스당 샘플 수\n",
    "    DIM = 2  # 데이터 요소 수\n",
    "    CLS_NUM = 3  # 클래스 수\n",
    "\n",
    "    x = np.zeros((N*CLS_NUM, DIM))  # (300,2)\n",
    "    t = np.zeros((N*CLS_NUM, CLS_NUM), dtype=np.int)  #(300,3)\n",
    "\n",
    "    for j in range(CLS_NUM): # 3회 반복\n",
    "        for i in range(N): # N*j, N*(j+1)):\n",
    "            rate = i / N\n",
    "            radius = 1.0*rate\n",
    "            theta = j*4.0 + 4.0*rate + np.random.randn()*0.2\n",
    "\n",
    "            ix = N*j + i\n",
    "            x[ix] = np.array([radius*np.sin(theta),\n",
    "                              radius*np.cos(theta)]).flatten()\n",
    "            t[ix, j] = 1\n",
    "\n",
    "    return x, t"
   ]
  },
  {
   "cell_type": "code",
   "execution_count": 23,
   "metadata": {},
   "outputs": [
    {
     "name": "stdout",
     "output_type": "stream",
     "text": [
      "2    100\n",
      "1    100\n",
      "0    100\n",
      "Name: label, dtype: int64\n"
     ]
    },
    {
     "data": {
      "text/html": [
       "<div>\n",
       "<style scoped>\n",
       "    .dataframe tbody tr th:only-of-type {\n",
       "        vertical-align: middle;\n",
       "    }\n",
       "\n",
       "    .dataframe tbody tr th {\n",
       "        vertical-align: top;\n",
       "    }\n",
       "\n",
       "    .dataframe thead th {\n",
       "        text-align: right;\n",
       "    }\n",
       "</style>\n",
       "<table border=\"1\" class=\"dataframe\">\n",
       "  <thead>\n",
       "    <tr style=\"text-align: right;\">\n",
       "      <th></th>\n",
       "      <th>0</th>\n",
       "      <th>1</th>\n",
       "      <th>label</th>\n",
       "    </tr>\n",
       "  </thead>\n",
       "  <tbody>\n",
       "    <tr>\n",
       "      <th>0</th>\n",
       "      <td>-0.000000</td>\n",
       "      <td>0.000000</td>\n",
       "      <td>0</td>\n",
       "    </tr>\n",
       "    <tr>\n",
       "      <th>1</th>\n",
       "      <td>-0.000977</td>\n",
       "      <td>0.009952</td>\n",
       "      <td>0</td>\n",
       "    </tr>\n",
       "    <tr>\n",
       "      <th>2</th>\n",
       "      <td>0.005127</td>\n",
       "      <td>0.019332</td>\n",
       "      <td>0</td>\n",
       "    </tr>\n",
       "    <tr>\n",
       "      <th>3</th>\n",
       "      <td>-0.000386</td>\n",
       "      <td>0.029998</td>\n",
       "      <td>0</td>\n",
       "    </tr>\n",
       "    <tr>\n",
       "      <th>4</th>\n",
       "      <td>0.014251</td>\n",
       "      <td>0.037375</td>\n",
       "      <td>0</td>\n",
       "    </tr>\n",
       "    <tr>\n",
       "      <th>...</th>\n",
       "      <td>...</td>\n",
       "      <td>...</td>\n",
       "      <td>...</td>\n",
       "    </tr>\n",
       "    <tr>\n",
       "      <th>295</th>\n",
       "      <td>-0.456406</td>\n",
       "      <td>0.833183</td>\n",
       "      <td>2</td>\n",
       "    </tr>\n",
       "    <tr>\n",
       "      <th>296</th>\n",
       "      <td>-0.630263</td>\n",
       "      <td>0.724133</td>\n",
       "      <td>2</td>\n",
       "    </tr>\n",
       "    <tr>\n",
       "      <th>297</th>\n",
       "      <td>-0.575706</td>\n",
       "      <td>0.780681</td>\n",
       "      <td>2</td>\n",
       "    </tr>\n",
       "    <tr>\n",
       "      <th>298</th>\n",
       "      <td>-0.206075</td>\n",
       "      <td>0.958088</td>\n",
       "      <td>2</td>\n",
       "    </tr>\n",
       "    <tr>\n",
       "      <th>299</th>\n",
       "      <td>-0.597431</td>\n",
       "      <td>0.789415</td>\n",
       "      <td>2</td>\n",
       "    </tr>\n",
       "  </tbody>\n",
       "</table>\n",
       "<p>300 rows × 3 columns</p>\n",
       "</div>"
      ],
      "text/plain": [
       "            0         1  label\n",
       "0   -0.000000  0.000000      0\n",
       "1   -0.000977  0.009952      0\n",
       "2    0.005127  0.019332      0\n",
       "3   -0.000386  0.029998      0\n",
       "4    0.014251  0.037375      0\n",
       "..        ...       ...    ...\n",
       "295 -0.456406  0.833183      2\n",
       "296 -0.630263  0.724133      2\n",
       "297 -0.575706  0.780681      2\n",
       "298 -0.206075  0.958088      2\n",
       "299 -0.597431  0.789415      2\n",
       "\n",
       "[300 rows x 3 columns]"
      ]
     },
     "execution_count": 23,
     "metadata": {},
     "output_type": "execute_result"
    }
   ],
   "source": [
    "x, t = load_data()\n",
    "\n",
    "df = pd.DataFrame(x)\n",
    "df['label'] = np.argmax(t,1)  # axis=1 (수평방향)\n",
    "print(df['label'].value_counts())\n",
    "df"
   ]
  },
  {
   "cell_type": "code",
   "execution_count": 24,
   "metadata": {},
   "outputs": [
    {
     "data": {
      "image/png": "[encoded data removed]",
      "text/plain": [
       "<Figure size 432x288 with 1 Axes>"
      ]
     },
     "metadata": {
      "needs_background": "light"
     },
     "output_type": "display_data"
    }
   ],
   "source": [
    "N = 100\n",
    "CLS_NUM = 3\n",
    "markers = ['o', 'x', '^']\n",
    "# plt.rc('font', family='Malgun Gothic')\n",
    "for i in range(3):\n",
    "    plt.scatter(x[i*N:(i+1)*N, 0], x[i*N:(i+1)*N, 1], s=40, marker=markers[i])\n",
    "plt.show()"
   ]
  },
  {
   "cell_type": "code",
   "execution_count": 26,
   "metadata": {},
   "outputs": [],
   "source": [
    "from nn_layers import Sigmoid, Affine, SoftmaxWithLoss, SGD\n",
    "\n",
    "class TwoLayerNet:\n",
    "    def __init__(self,input_size,hidden_size,output_size) :\n",
    "        I,H,O = input_size,hidden_size,output_size\n",
    "        \n",
    "        # 가중치와 편향 초기화\n",
    "        W1 = 0.01 * np.random.randn(I,H)\n",
    "        b1 = np.zeros(H)\n",
    "        W2 = 0.01 * np.random.randn(H,O)\n",
    "        b2 = np.zeros(O)        \n",
    "        \n",
    "        # 계층 생성\n",
    "        self.layers = [\n",
    "            Affine(W1,b1),\n",
    "            Sigmoid(),\n",
    "            Affine(W2,b2)\n",
    "        ]\n",
    "        \n",
    "        self.loss_layer = SoftmaxWithLoss()\n",
    "        \n",
    "        # 모든 가중치와 기울기(미분)를 리스트에 모은다\n",
    "        self.params, self.grads = [],[]\n",
    "        for layer in self.layers:\n",
    "            self.params += layer.params\n",
    "            self.grads += layer.grads\n",
    "            \n",
    "    # 예측        \n",
    "    def predict(self,x):\n",
    "        for layer in self.layers:\n",
    "            x = layer.forward(x)\n",
    "        return x\n",
    "\n",
    "    # 순전파 학습\n",
    "    def forward(self,x,t):\n",
    "        score = self.predict(x)\n",
    "        loss = self.loss_layer.forward(score,t)\n",
    "        return loss\n",
    "                \n",
    "    # 역전파 학습\n",
    "    def backward(self,dout=1):\n",
    "        dout = self.loss_layer.backward(dout)\n",
    "        for layer in reversed(self.layers):\n",
    "            dout = layer.backward(dout)\n",
    "        return dout"
   ]
  },
  {
   "cell_type": "code",
   "execution_count": 27,
   "metadata": {},
   "outputs": [
    {
     "name": "stdout",
     "output_type": "stream",
     "text": [
      "| epoch: 10 |  반복 10 / 10 | loss: 1.13\n",
      "| epoch: 20 |  반복 10 / 10 | loss: 0.87\n",
      "| epoch: 30 |  반복 10 / 10 | loss: 0.75\n",
      "| epoch: 40 |  반복 10 / 10 | loss: 0.75\n",
      "| epoch: 50 |  반복 10 / 10 | loss: 0.72\n",
      "| epoch: 60 |  반복 10 / 10 | loss: 0.70\n",
      "| epoch: 70 |  반복 10 / 10 | loss: 0.71\n",
      "| epoch: 80 |  반복 10 / 10 | loss: 0.64\n",
      "| epoch: 90 |  반복 10 / 10 | loss: 0.58\n",
      "| epoch: 100 |  반복 10 / 10 | loss: 0.48\n",
      "| epoch: 110 |  반복 10 / 10 | loss: 0.40\n",
      "| epoch: 120 |  반복 10 / 10 | loss: 0.34\n",
      "| epoch: 130 |  반복 10 / 10 | loss: 0.28\n",
      "| epoch: 140 |  반복 10 / 10 | loss: 0.24\n",
      "| epoch: 150 |  반복 10 / 10 | loss: 0.22\n",
      "| epoch: 160 |  반복 10 / 10 | loss: 0.20\n",
      "| epoch: 170 |  반복 10 / 10 | loss: 0.19\n",
      "| epoch: 180 |  반복 10 / 10 | loss: 0.17\n",
      "| epoch: 190 |  반복 10 / 10 | loss: 0.17\n",
      "| epoch: 200 |  반복 10 / 10 | loss: 0.16\n",
      "| epoch: 210 |  반복 10 / 10 | loss: 0.15\n",
      "| epoch: 220 |  반복 10 / 10 | loss: 0.14\n",
      "| epoch: 230 |  반복 10 / 10 | loss: 0.14\n",
      "| epoch: 240 |  반복 10 / 10 | loss: 0.14\n",
      "| epoch: 250 |  반복 10 / 10 | loss: 0.13\n",
      "| epoch: 260 |  반복 10 / 10 | loss: 0.12\n",
      "| epoch: 270 |  반복 10 / 10 | loss: 0.12\n",
      "| epoch: 280 |  반복 10 / 10 | loss: 0.11\n",
      "| epoch: 290 |  반복 10 / 10 | loss: 0.11\n",
      "| epoch: 300 |  반복 10 / 10 | loss: 0.11\n"
     ]
    }
   ],
   "source": [
    "max_epoch = 300\n",
    "batch_size = 30\n",
    "hidden_size = 10\n",
    "learning_rate = 1.0\n",
    "\n",
    "# 데이터  읽기\n",
    "x, t = load_data()\n",
    "\n",
    "# 모델 객체 생성\n",
    "model = TwoLayerNet(input_size=2,hidden_size=hidden_size,output_size=3)\n",
    "\n",
    "# 옵티마이저 생성\n",
    "optimizer = SGD(lr=learning_rate)\n",
    "# optimizer = Adam(lr=learning_rate)\n",
    "\n",
    "# 학습에 사용하는 변수\n",
    "data_size = len(x)  # 300개\n",
    "max_iters = data_size // batch_size # 10, 정수 몫, for문에서 사용\n",
    "total_loss = 0\n",
    "loss_count = 0\n",
    "loss_list = []\n",
    "\n",
    "for epoch in range(max_epoch): # 300회\n",
    "    \n",
    "    # 데이터 뒤섞기\n",
    "    idx = np.random.permutation(data_size)   \n",
    "    x = x[idx]\n",
    "    t = t[idx]\n",
    "    \n",
    "    for iters in range(max_iters): # 10회\n",
    "        batch_x = x[iters*batch_size:(iters+1)*batch_size]  # 30개 씩 추출\n",
    "        batch_t = t[iters*batch_size:(iters+1)*batch_size]\n",
    "        \n",
    "        # 순전파와 역전파를 수행 매개변수를 갱신\n",
    "        loss = model.forward(batch_x,batch_t)\n",
    "        model.backward()\n",
    "        optimizer.update(model.params,model.grads)\n",
    "        \n",
    "        total_loss += loss\n",
    "        loss_count += 1\n",
    "        \n",
    "        # 정기적으로 학습 경과 출력\n",
    "        if (iters+1) % 10 == 0:\n",
    "            avg_loss = total_loss / loss_count\n",
    "            if (epoch+1) % 10 == 0:\n",
    "                print('| epoch: %d |  반복 %d / %d | loss: %.2f'\n",
    "                  % (epoch + 1, iters + 1, max_iters, avg_loss))\n",
    "            loss_list.append(avg_loss)\n",
    "            total_loss, loss_count = 0, 0"
   ]
  },
  {
   "cell_type": "code",
   "execution_count": 28,
   "metadata": {},
   "outputs": [
    {
     "data": {
      "image/png": "[encoded data removed]",
      "text/plain": [
       "<Figure size 432x288 with 1 Axes>"
      ]
     },
     "metadata": {
      "needs_background": "light"
     },
     "output_type": "display_data"
    }
   ],
   "source": [
    "plt.rc('font', family='Malgun Gothic')\n",
    "plt.plot(np.arange(len(loss_list)), loss_list, label='train')\n",
    "plt.xlabel('반복 (x10)')\n",
    "plt.ylabel('손실')\n",
    "plt.show()"
   ]
  },
  {
   "cell_type": "code",
   "execution_count": 29,
   "metadata": {},
   "outputs": [
    {
     "name": "stdout",
     "output_type": "stream",
     "text": [
      "xx : \n",
      "[[-1.0223507 -1.0213507 -1.0203507 ...  1.0866493  1.0876493  1.0886493]\n",
      " [-1.0223507 -1.0213507 -1.0203507 ...  1.0866493  1.0876493  1.0886493]\n",
      " [-1.0223507 -1.0213507 -1.0203507 ...  1.0866493  1.0876493  1.0886493]\n",
      " ...\n",
      " [-1.0223507 -1.0213507 -1.0203507 ...  1.0866493  1.0876493  1.0886493]\n",
      " [-1.0223507 -1.0213507 -1.0203507 ...  1.0866493  1.0876493  1.0886493]\n",
      " [-1.0223507 -1.0213507 -1.0203507 ...  1.0866493  1.0876493  1.0886493]]\n",
      "--------------------------------------------------------------------------------\n",
      "yy : \n",
      "[[-0.98867266 -0.98867266 -0.98867266 ... -0.98867266 -0.98867266\n",
      "  -0.98867266]\n",
      " [-0.98767266 -0.98767266 -0.98767266 ... -0.98767266 -0.98767266\n",
      "  -0.98767266]\n",
      " [-0.98667266 -0.98667266 -0.98667266 ... -0.98667266 -0.98667266\n",
      "  -0.98667266]\n",
      " ...\n",
      " [ 1.05532734  1.05532734  1.05532734 ...  1.05532734  1.05532734\n",
      "   1.05532734]\n",
      " [ 1.05632734  1.05632734  1.05632734 ...  1.05632734  1.05632734\n",
      "   1.05632734]\n",
      " [ 1.05732734  1.05732734  1.05732734 ...  1.05732734  1.05732734\n",
      "   1.05732734]]\n",
      "--------------------------------------------------------------------------------\n",
      "X : \n",
      "[[-1.0223507  -0.98867266]\n",
      " [-1.0213507  -0.98867266]\n",
      " [-1.0203507  -0.98867266]\n",
      " ...\n",
      " [ 1.0866493   1.05732734]\n",
      " [ 1.0876493   1.05732734]\n",
      " [ 1.0886493   1.05732734]]\n"
     ]
    },
    {
     "data": {
      "image/png": "[encoded data removed]",
      "text/plain": [
       "<Figure size 432x288 with 1 Axes>"
      ]
     },
     "metadata": {
      "needs_background": "light"
     },
     "output_type": "display_data"
    }
   ],
   "source": [
    "# 경계 영역 플롯 : Decision Boundary(결정 경계)\n",
    "h = 0.001\n",
    "x_min, x_max = x[:, 0].min() - .1, x[:, 0].max() + .1\n",
    "y_min, y_max = x[:, 1].min() - .1, x[:, 1].max() + .1\n",
    "xx, yy = np.meshgrid(np.arange(x_min, x_max, h), np.arange(y_min, y_max, h))\n",
    "print('xx : ')\n",
    "print(xx)\n",
    "print('-'*80)\n",
    "print('yy : ')\n",
    "print(yy)\n",
    "print('-'*80)\n",
    "X = np.c_[xx.ravel(), yy.ravel()]\n",
    "print('X : ')\n",
    "print(X)\n",
    "\n",
    "score = model.predict(X)\n",
    "predict_cls = np.argmax(score, axis=1)\n",
    "Z = predict_cls.reshape(xx.shape)  # 예측 값\n",
    "plt.contourf(xx, yy, Z)\n",
    "plt.axis('off')  # x,y 축 표시 없앰\n",
    "\n",
    "# 데이터점 플롯\n",
    "x, t = load_data()\n",
    "N = 100\n",
    "CLS_NUM = 3\n",
    "markers = ['o', 'x', '^']\n",
    "for i in range(CLS_NUM):\n",
    "    plt.scatter(x[i*N:(i+1)*N, 0], x[i*N:(i+1)*N, 1], s=40, marker=markers[i])\n",
    "plt.show()"
   ]
  },
  {
   "cell_type": "code",
   "execution_count": 30,
   "metadata": {},
   "outputs": [
    {
     "data": {
      "image/png": "[encoded data removed]",
      "text/plain": [
       "<Figure size 432x288 with 2 Axes>"
      ]
     },
     "metadata": {
      "needs_background": "light"
     },
     "output_type": "display_data"
    }
   ],
   "source": [
    "import matplotlib.tri as tri\n",
    "\n",
    "npts = 100\n",
    "x = np.random.uniform(-2, 2, npts)\n",
    "y = np.random.uniform(-2, 2, npts)\n",
    "z = x * np.exp(-x**2 - y**2)\n",
    "ngridx = 100\n",
    "ngridy = 100\n",
    "xi = np.linspace(-2.2, 2.2, ngridx)\n",
    "yi = np.linspace(-2.2, 2.2, ngridy)\n",
    "triang = tri.Triangulation(x, y)\n",
    "interpolator = tri.LinearTriInterpolator(triang, z)\n",
    "Xi, Yi = np.meshgrid(xi, yi)\n",
    "zi = interpolator(Xi, Yi)\n",
    "\n",
    "\n",
    "plt.contour(xi, yi, zi, levels=15, linewidths=0.5, colors='k')\n",
    "cntr = plt.contourf(xi, yi, zi, levels=15, cmap=\"RdBu_r\")\n",
    "plt.colorbar(cntr)\n",
    "plt.plot(x, y, 'ko', ms=3)\n",
    "plt.show()"
   ]
  },
  {
   "cell_type": "code",
   "execution_count": null,
   "metadata": {},
   "outputs": [],
   "source": []
  }
 ],
 "metadata": {
  "kernelspec": {
   "display_name": "Python [conda env:py37] *",
   "language": "python",
   "name": "conda-env-py37-py"
  },
  "language_info": {
   "codemirror_mode": {
    "name": "ipython",
    "version": 3
   },
   "file_extension": ".py",
   "mimetype": "text/x-python",
   "name": "python",
   "nbconvert_exporter": "python",
   "pygments_lexer": "ipython3",
   "version": "3.6.9"
  }
 },
 "nbformat": 4,
 "nbformat_minor": 2
}
