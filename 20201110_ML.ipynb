{
 "cells": [
  {
   "cell_type": "markdown",
   "metadata": {},
   "source": [
    "## 인공지능(AI) 분류\n",
    "1. 규칙기반 AI : rule-based system , 수동으로 규칙(특징)을 입력하면 기계가 추론, Prolog, LISP\n",
    "2. 학습기반 AI : 머신 러닝(Machine Learning), 데이터를 입력하면 기계가 스스로 새로운 특징을 학습하고 예측\n",
    "\n",
    "\n",
    "## 회귀 (Regression) 모델\n",
    "1. 선형 회귀(Linear Regression) : 1차 함수, 직선의 방정식\n",
    "2. 가중치(Weight) : 입력변수가 출력에 영향을 미치는 정도를 설정, 기울기 값 , 회귀 계수\n",
    "3. 편향(Bias) : 기본 출력 값이 활성화 되는 정도를 설정, y 절편, 회귀 계수\n",
    "4. 비용함수(Cost Function) : 2차 함수, 포물선의 방정식, (예측값 - 실제값)^2\n",
    "    - cost(비용) = 오차 = 에러 = 손실(loss)\n",
    "    - cost(W,b) = $(H(x) - y)^2$\n",
    "5. 예측(가설,Hypothesis) 함수: predict, H(x) : 예측 값, y:답,결정값,target,label, x:입력,feature(피쳐)\n",
    "    - $H(X) = W*X + b$\n",
    "6. 경사 하강법(Gradient Descent Algorithm)\n",
    ": 비용이 가장 작은 기울기 값을 구하는 알고리즘"
   ]
  },
  {
   "cell_type": "code",
   "execution_count": 16,
   "metadata": {},
   "outputs": [
    {
     "name": "stdout",
     "output_type": "stream",
     "text": [
      "w:-1, cost: 18.666666666666668\n",
      "w:0,  cost: 4.666666666666667\n",
      "w:1,  cost: 0.0\n",
      "w:2,  cost: 4.666666666666667\n",
      "w:3,  cost: 18.666666666666668\n"
     ]
    },
    {
     "data": {
      "image/png": "[encoded data removed]",
      "text/plain": [
       "<Figure size 432x288 with 1 Axes>"
      ]
     },
     "metadata": {
      "needs_background": "light"
     },
     "output_type": "display_data"
    }
   ],
   "source": [
    "import numpy as np\n",
    "import pandas as pd\n",
    "import matplotlib.pyplot as plt\n",
    "%matplotlib inline\n",
    "\n",
    "# 비용함수의 구현\n",
    "def cost(x,y,w):     \n",
    "    c = 0\n",
    "    for k in range(len(x)):\n",
    "        hx = w * x[k]        # 예측 함수\n",
    "        loss = (hx - y[k])**2   # 비용함수 ,(예측값 - 실제값)^2\n",
    "        c += loss\n",
    "    return c/len(x)          # 평균 제곱 오차   \n",
    "\n",
    "x = [1,2,3]   # 입력 값  ,         독립 변수\n",
    "y = [1,2,3]   # 실제값,답, target, 종속 변수\n",
    "\n",
    "print('w:-1, cost:',cost(x,y,-1))   # hx = [-1,-2,-3]\n",
    "print('w:0,  cost:',cost(x,y,0))    # hx = [0,0,0]\n",
    "print('w:1,  cost:',cost(x,y,1))    # hx = [1,2,3]  , cost: 0.0\n",
    "print('w:2,  cost:',cost(x,y,2))    # hx = [2,4,6]  \n",
    "print('w:3,  cost:',cost(x,y,3))    # hx = [3,6,9] \n",
    "\n",
    "# 비용함수 시각화 : x축은 weight, y축은 cost로 하는 2차 함수, 포물선의 방정식\n",
    "for k in range(-30,50):\n",
    "    w = k/10\n",
    "    c = cost(x,y,w)\n",
    "    plt.plot(w,c,'ro')\n",
    "    \n",
    "plt.title(' ** Cost Graph **') \n",
    "plt.xlabel('weight')\n",
    "plt.ylabel('cost')\n",
    "plt.grid(True)\n",
    "plt.show()"
   ]
  },
  {
   "cell_type": "markdown",
   "metadata": {},
   "source": [
    "미분 : 순간 변화량,기울기, x 축으로 1 만큼 움직였을 때 y 축으로 움직인 거리\n",
    "\n",
    "- 함수 미분 공식 정리 : $f(x) = x ^n$ ===> $f'(x) = n*x^(n-1)$\n",
    "    - $y = 3$ ===> $y' = 0$\n",
    "    - $y = 2*x$ ===> $y' = 2$\n",
    "    - $y = x^2$ ===> $y' = 2*x$\n",
    "    - $y = (x + 1)^2$ ===> $y' = 2(x + 1)$ \n",
    "    - $y = x^2 + 2x + 1$ ===> $y' = 2x + 2 = 2(x + 1)$"
   ]
  },
  {
   "cell_type": "code",
   "execution_count": 2,
   "metadata": {},
   "outputs": [],
   "source": [
    "def cost(x,y,w):     \n",
    "    c = 0\n",
    "    for k in range(len(x)):\n",
    "        hx = w * x[k]           # 예측 함수\n",
    "        loss = (hx - y[k])**2   # 비용함수 ,(예측값 - 실제값)^2\n",
    "        c += loss\n",
    "    return c/len(x)\n",
    "\n",
    "\n",
    "def gradient_descent(x,y,w):\n",
    "    c = 0\n",
    "    for i in range(len(x)):\n",
    "        hx = w*x[i]\n",
    "        loss = (hx - y[i])*x[i]  # 곱하기 2를 생략한 비용함수의 미분 공식\n",
    "        c += loss\n",
    "    \n",
    "    return c/len(x)"
   ]
  },
  {
   "cell_type": "code",
   "execution_count": 9,
   "metadata": {},
   "outputs": [],
   "source": [
    "def fit(x,y):\n",
    "    print('--------------start learning!')\n",
    "    w,old = 10,100\n",
    "    for i in range(1000):\n",
    "        c = cost(x,y,w)\n",
    "        grad = gradient_descent(x,y,w)\n",
    "        w -= 0.1*grad       # 0.1 :학습률(learning rate), 하이퍼 파라메터, 가중치의 업데이트 실행\n",
    "        print('[%3d]'%i, 'cost:',c,'old')\n",
    "        if c >= old and abs(c - old)< 1.0e-15:   # cost가 1.0e-15 값 보다도 더 줄지 않을 때\n",
    "            break\n",
    "        old = c\n",
    "    print('--------- end learning!!') \n",
    "    return w\n",
    "\n",
    "\n",
    "\n",
    "def predict(w,x):\n",
    "    hx = w*np.array(x)\n",
    "    return list(hx)\n",
    "\n",
    "def get_accuracy(w,x_test,y_test):\n",
    "    y_predict = predict(w,x_test)\n",
    "    print(y_predict)\n",
    "    correct = 0\n",
    "    for k, _ in enumerate(y_test):\n",
    "        if y_test[k] == y_predict[k]:\n",
    "            correct+=1\n",
    "    accuracy = round(correct/len(y_test),2)\n",
    "    return accuracy\n",
    "\n",
    "\n",
    "def get_rmse(w,x_test,y_test):\n",
    "    y_predict = predict(w,x_test)\n",
    "    print(y_predict)\n",
    "    squared_error = 0\n",
    "    for k, _ in enumerate(y_test):\n",
    "        squared_error+=(y_predict[k] - y_test[k])**2\n",
    "    mse = squared_error / len(y_test)\n",
    "    rmse = np.sqrt(mse)\n",
    "    return rmse"
   ]
  },
  {
   "cell_type": "code",
   "execution_count": 11,
   "metadata": {},
   "outputs": [
    {
     "name": "stdout",
     "output_type": "stream",
     "text": [
      "--------------start learning!\n",
      "[  0] cost: 704.0 old\n",
      "[  1] cost: 7.040000000000012 old\n",
      "[  2] cost: 0.07040000000000013 old\n",
      "[  3] cost: 0.0007039999999999871 old\n",
      "[  4] cost: 7.03999999999845e-06 old\n",
      "[  5] cost: 7.040000000016923e-08 old\n",
      "[  6] cost: 7.040000000546988e-10 old\n",
      "[  7] cost: 7.040000000689097e-12 old\n",
      "[  8] cost: 7.039999989746739e-14 old\n",
      "[  9] cost: 7.039999978378055e-16 old\n",
      "[ 10] cost: 7.040001164984472e-18 old\n",
      "[ 11] cost: 7.040001164984472e-20 old\n",
      "[ 12] cost: 7.039830636607046e-22 old\n",
      "[ 13] cost: 7.040612264052197e-24 old\n",
      "[ 14] cost: 7.028750665519215e-26 old\n",
      "[ 15] cost: 6.888333424389875e-28 old\n",
      "[ 16] cost: 7.257520328033308e-30 old\n",
      "[ 17] cost: 0.0 old\n",
      "[ 18] cost: 0.0 old\n",
      "--------- end learning!!\n",
      "weight :  2.0\n",
      "y_predict :  [12.0, 14.0, 16.0, 18.0, 20.0]\n",
      "[20.0, 40.0, 60.0, 80.0, 100.0]\n",
      "Accuracy: 0.8\n",
      "[20.0, 40.0, 60.0, 80.0, 100.0]\n",
      "RMSE: 0.4472135954999579\n"
     ]
    }
   ],
   "source": [
    "x_train = [1,2,3,4,5]\n",
    "y_train = [2,4,6,8,10]\n",
    "w = fit(x_train,y_train)\n",
    "print('weight : ',w)\n",
    "\n",
    "x_predict = [6,7,8,9,10]\n",
    "y_predict = predict(w,x_predict)\n",
    "print('y_predict : ',y_predict)\n",
    "\n",
    "x_test = [10,20,30,40,50]\n",
    "y_test = [20,40,60,80,99]\n",
    "accuracy = get_accuracy(w,x_test,y_test)\n",
    "print('Accuracy:',accuracy)\n",
    "\n",
    "x_test = [10,20,30,40,50]\n",
    "y_test = [20,40,60,80,99]\n",
    "rmse = get_rmse(w,x_test,y_test)\n",
    "print('RMSE:',rmse) "
   ]
  },
  {
   "cell_type": "code",
   "execution_count": 13,
   "metadata": {},
   "outputs": [],
   "source": [
    "df = pd.read_csv('boston_train.csv')"
   ]
  },
  {
   "cell_type": "code",
   "execution_count": 18,
   "metadata": {},
   "outputs": [
    {
     "data": {
      "image/png": "[encoded data removed]",
      "text/plain": [
       "<Figure size 432x288 with 1 Axes>"
      ]
     },
     "metadata": {
      "needs_background": "light"
     },
     "output_type": "display_data"
    }
   ],
   "source": [
    "plt.scatter(df['RM'],df['MEDV'],color='r',s=10)\n",
    "plt.xlabel('RM')\n",
    "plt.ylabel('MEDV')\n",
    "plt.show()"
   ]
  },
  {
   "cell_type": "code",
   "execution_count": 19,
   "metadata": {},
   "outputs": [
    {
     "name": "stdout",
     "output_type": "stream",
     "text": [
      "[[9.02315014]]\n",
      "[-33.99803804]\n"
     ]
    },
    {
     "data": {
      "image/png": "[encoded data removed]",
      "text/plain": [
       "<Figure size 432x288 with 1 Axes>"
      ]
     },
     "metadata": {
      "needs_background": "light"
     },
     "output_type": "display_data"
    }
   ],
   "source": [
    "from sklearn.linear_model import LinearRegression\n",
    "\n",
    "lr = LinearRegression()\n",
    "x = df['RM'].values.reshape(-1,1)   # (400,1)\n",
    "y = df['MEDV'].values.reshape(-1,1) # (400,1)\n",
    "\n",
    "lr.fit(x,y)\n",
    "\n",
    "print(lr.coef_)        \n",
    "print(lr.intercept_)   \n",
    "# H(x) = 9.02315014 * x - 33.99803804\n",
    "    \n",
    "# 예측 : x만 입력    \n",
    "y_predict = lr.predict(x)\n",
    "\n",
    "# 시각화\n",
    "# 원본의 출력\n",
    "plt.scatter(df['RM'],df['MEDV'],color='r',s=10)\n",
    "plt.xlabel('RM')\n",
    "plt.ylabel('MEDV')\n",
    "\n",
    "# 예측 함수(직선 그래프)  \n",
    "plt.plot(x,y_predict)\n",
    "plt.show()"
   ]
  },
  {
   "cell_type": "code",
   "execution_count": 20,
   "metadata": {},
   "outputs": [
    {
     "name": "stdout",
     "output_type": "stream",
     "text": [
      "RMSE: 6.964958263761021\n",
      "r2_score: 0.46928062004385107\n"
     ]
    }
   ],
   "source": [
    "from sklearn.metrics import mean_squared_error\n",
    "\n",
    "mse = mean_squared_error(y,y_predict)\n",
    "rmse = np.sqrt(mse)   # 제곱근\n",
    "print('RMSE:',rmse)   # RMSE: 6.964958263761021\n",
    "\n",
    "# R2(R-squared), 결정 계수 :  예측 값의 분산/실제값의 분산, 1일때 설명력이 높다, 절대 지표로 사용\n",
    "from sklearn.metrics import r2_score\n",
    "\n",
    "r2 = r2_score(y,y_predict)\n",
    "print('r2_score:',r2) "
   ]
  },
  {
   "cell_type": "code",
   "execution_count": 21,
   "metadata": {},
   "outputs": [
    {
     "name": "stdout",
     "output_type": "stream",
     "text": [
      "[[-1.59072134e-01  4.08534780e-02 -1.18682966e-01 -2.14042031e+01\n",
      "   6.06293561e+00 -4.40157092e-02 -1.81025024e+00  4.29464930e-04\n",
      "  -1.08359905e+00]]\n",
      "[27.68496713]\n"
     ]
    },
    {
     "data": {
      "image/png": "[encoded data removed]",
      "text/plain": [
       "<Figure size 432x288 with 1 Axes>"
      ]
     },
     "metadata": {
      "needs_background": "light"
     },
     "output_type": "display_data"
    }
   ],
   "source": [
    "x = df.iloc[:,:-1]  # 마지막 컬럼을 제외, 9개 컬럼을 피쳐로 사용  , (400,9)\n",
    "y = df['MEDV'].values.reshape(-1,1)                            # (400,1)\n",
    "\n",
    "#  클래스 인스턴스 생성\n",
    "lr = LinearRegression()\n",
    "\n",
    "# 학습 : x,y를 입력\n",
    "lr.fit(x,y)\n",
    "\n",
    "print(lr.coef_)        # weight 이 9개가 생성    , 회귀 계수\n",
    "print(lr.intercept_)   # bias : [27.68496713]    , 회귀 절편\n",
    "                       # H(x1...x9) = w1*x1 + w2*x2 + w3*x3 .... w9*x9 + 27.68496713\n",
    "\n",
    "# 예측 : x만 입력    \n",
    "y_predict = lr.predict(x) \n",
    "\n",
    "# 시각화\n",
    "plt.scatter(y_predict,y,s=10)\n",
    "plt.xlabel('Predicted Price')\n",
    "plt.ylabel('Actual Price')\n",
    "plt.grid(True)\n",
    "plt.show()"
   ]
  },
  {
   "cell_type": "code",
   "execution_count": 22,
   "metadata": {},
   "outputs": [
    {
     "name": "stdout",
     "output_type": "stream",
     "text": [
      "RMSE: 5.753475905312981\n",
      "r2_score: 0.6378499850549991\n"
     ]
    }
   ],
   "source": [
    "mse = mean_squared_error(y,y_predict)\n",
    "rmse = np.sqrt(mse)   # 제곱근\n",
    "print('RMSE:',rmse)   # RMSE: 6.964958263761021  --> 5.753475905312981  ,감소\n",
    "\n",
    "# R2(R-squared), 결정 계수 :  예측 값의 분산/실제값의 분산, 1일때 설명력이 높다, 절대 지표로 사용\n",
    "\n",
    "r2 = r2_score(y,y_predict)\n",
    "print('r2_score:',r2)"
   ]
  },
  {
   "cell_type": "code",
   "execution_count": 23,
   "metadata": {},
   "outputs": [
    {
     "data": {
      "text/html": [
       "<div>\n",
       "<style scoped>\n",
       "    .dataframe tbody tr th:only-of-type {\n",
       "        vertical-align: middle;\n",
       "    }\n",
       "\n",
       "    .dataframe tbody tr th {\n",
       "        vertical-align: top;\n",
       "    }\n",
       "\n",
       "    .dataframe thead th {\n",
       "        text-align: right;\n",
       "    }\n",
       "</style>\n",
       "<table border=\"1\" class=\"dataframe\">\n",
       "  <thead>\n",
       "    <tr style=\"text-align: right;\">\n",
       "      <th></th>\n",
       "      <th>CRIM</th>\n",
       "      <th>ZN</th>\n",
       "      <th>INDUS</th>\n",
       "      <th>NOX</th>\n",
       "      <th>RM</th>\n",
       "      <th>AGE</th>\n",
       "      <th>DIS</th>\n",
       "      <th>TAX</th>\n",
       "      <th>PTRATIO</th>\n",
       "      <th>MEDV</th>\n",
       "    </tr>\n",
       "  </thead>\n",
       "  <tbody>\n",
       "    <tr>\n",
       "      <th>CRIM</th>\n",
       "      <td>1.000000</td>\n",
       "      <td>-0.197764</td>\n",
       "      <td>0.383433</td>\n",
       "      <td>0.407698</td>\n",
       "      <td>-0.219043</td>\n",
       "      <td>0.350003</td>\n",
       "      <td>-0.377643</td>\n",
       "      <td>0.563791</td>\n",
       "      <td>0.284306</td>\n",
       "      <td>-0.375836</td>\n",
       "    </tr>\n",
       "    <tr>\n",
       "      <th>ZN</th>\n",
       "      <td>-0.197764</td>\n",
       "      <td>1.000000</td>\n",
       "      <td>-0.532929</td>\n",
       "      <td>-0.521745</td>\n",
       "      <td>0.328418</td>\n",
       "      <td>-0.561062</td>\n",
       "      <td>0.665677</td>\n",
       "      <td>-0.323539</td>\n",
       "      <td>-0.393904</td>\n",
       "      <td>0.365931</td>\n",
       "    </tr>\n",
       "    <tr>\n",
       "      <th>INDUS</th>\n",
       "      <td>0.383433</td>\n",
       "      <td>-0.532929</td>\n",
       "      <td>1.000000</td>\n",
       "      <td>0.758157</td>\n",
       "      <td>-0.393738</td>\n",
       "      <td>0.644559</td>\n",
       "      <td>-0.717796</td>\n",
       "      <td>0.722435</td>\n",
       "      <td>0.386248</td>\n",
       "      <td>-0.465083</td>\n",
       "    </tr>\n",
       "    <tr>\n",
       "      <th>NOX</th>\n",
       "      <td>0.407698</td>\n",
       "      <td>-0.521745</td>\n",
       "      <td>0.758157</td>\n",
       "      <td>1.000000</td>\n",
       "      <td>-0.309519</td>\n",
       "      <td>0.735999</td>\n",
       "      <td>-0.776624</td>\n",
       "      <td>0.664923</td>\n",
       "      <td>0.185284</td>\n",
       "      <td>-0.410425</td>\n",
       "    </tr>\n",
       "    <tr>\n",
       "      <th>RM</th>\n",
       "      <td>-0.219043</td>\n",
       "      <td>0.328418</td>\n",
       "      <td>-0.393738</td>\n",
       "      <td>-0.309519</td>\n",
       "      <td>1.000000</td>\n",
       "      <td>-0.253271</td>\n",
       "      <td>0.211441</td>\n",
       "      <td>-0.302268</td>\n",
       "      <td>-0.395436</td>\n",
       "      <td>0.685041</td>\n",
       "    </tr>\n",
       "    <tr>\n",
       "      <th>AGE</th>\n",
       "      <td>0.350003</td>\n",
       "      <td>-0.561062</td>\n",
       "      <td>0.644559</td>\n",
       "      <td>0.735999</td>\n",
       "      <td>-0.253271</td>\n",
       "      <td>1.000000</td>\n",
       "      <td>-0.742486</td>\n",
       "      <td>0.521723</td>\n",
       "      <td>0.260205</td>\n",
       "      <td>-0.368922</td>\n",
       "    </tr>\n",
       "    <tr>\n",
       "      <th>DIS</th>\n",
       "      <td>-0.377643</td>\n",
       "      <td>0.665677</td>\n",
       "      <td>-0.717796</td>\n",
       "      <td>-0.776624</td>\n",
       "      <td>0.211441</td>\n",
       "      <td>-0.742486</td>\n",
       "      <td>1.000000</td>\n",
       "      <td>-0.555040</td>\n",
       "      <td>-0.227288</td>\n",
       "      <td>0.236714</td>\n",
       "    </tr>\n",
       "    <tr>\n",
       "      <th>TAX</th>\n",
       "      <td>0.563791</td>\n",
       "      <td>-0.323539</td>\n",
       "      <td>0.722435</td>\n",
       "      <td>0.664923</td>\n",
       "      <td>-0.302268</td>\n",
       "      <td>0.521723</td>\n",
       "      <td>-0.555040</td>\n",
       "      <td>1.000000</td>\n",
       "      <td>0.473023</td>\n",
       "      <td>-0.449570</td>\n",
       "    </tr>\n",
       "    <tr>\n",
       "      <th>PTRATIO</th>\n",
       "      <td>0.284306</td>\n",
       "      <td>-0.393904</td>\n",
       "      <td>0.386248</td>\n",
       "      <td>0.185284</td>\n",
       "      <td>-0.395436</td>\n",
       "      <td>0.260205</td>\n",
       "      <td>-0.227288</td>\n",
       "      <td>0.473023</td>\n",
       "      <td>1.000000</td>\n",
       "      <td>-0.531764</td>\n",
       "    </tr>\n",
       "    <tr>\n",
       "      <th>MEDV</th>\n",
       "      <td>-0.375836</td>\n",
       "      <td>0.365931</td>\n",
       "      <td>-0.465083</td>\n",
       "      <td>-0.410425</td>\n",
       "      <td>0.685041</td>\n",
       "      <td>-0.368922</td>\n",
       "      <td>0.236714</td>\n",
       "      <td>-0.449570</td>\n",
       "      <td>-0.531764</td>\n",
       "      <td>1.000000</td>\n",
       "    </tr>\n",
       "  </tbody>\n",
       "</table>\n",
       "</div>"
      ],
      "text/plain": [
       "             CRIM        ZN     INDUS       NOX        RM       AGE       DIS  \\\n",
       "CRIM     1.000000 -0.197764  0.383433  0.407698 -0.219043  0.350003 -0.377643   \n",
       "ZN      -0.197764  1.000000 -0.532929 -0.521745  0.328418 -0.561062  0.665677   \n",
       "INDUS    0.383433 -0.532929  1.000000  0.758157 -0.393738  0.644559 -0.717796   \n",
       "NOX      0.407698 -0.521745  0.758157  1.000000 -0.309519  0.735999 -0.776624   \n",
       "RM      -0.219043  0.328418 -0.393738 -0.309519  1.000000 -0.253271  0.211441   \n",
       "AGE      0.350003 -0.561062  0.644559  0.735999 -0.253271  1.000000 -0.742486   \n",
       "DIS     -0.377643  0.665677 -0.717796 -0.776624  0.211441 -0.742486  1.000000   \n",
       "TAX      0.563791 -0.323539  0.722435  0.664923 -0.302268  0.521723 -0.555040   \n",
       "PTRATIO  0.284306 -0.393904  0.386248  0.185284 -0.395436  0.260205 -0.227288   \n",
       "MEDV    -0.375836  0.365931 -0.465083 -0.410425  0.685041 -0.368922  0.236714   \n",
       "\n",
       "              TAX   PTRATIO      MEDV  \n",
       "CRIM     0.563791  0.284306 -0.375836  \n",
       "ZN      -0.323539 -0.393904  0.365931  \n",
       "INDUS    0.722435  0.386248 -0.465083  \n",
       "NOX      0.664923  0.185284 -0.410425  \n",
       "RM      -0.302268 -0.395436  0.685041  \n",
       "AGE      0.521723  0.260205 -0.368922  \n",
       "DIS     -0.555040 -0.227288  0.236714  \n",
       "TAX      1.000000  0.473023 -0.449570  \n",
       "PTRATIO  0.473023  1.000000 -0.531764  \n",
       "MEDV    -0.449570 -0.531764  1.000000  "
      ]
     },
     "execution_count": 23,
     "metadata": {},
     "output_type": "execute_result"
    }
   ],
   "source": [
    "df.corr() "
   ]
  },
  {
   "cell_type": "code",
   "execution_count": 24,
   "metadata": {},
   "outputs": [
    {
     "data": {
      "image/png": "[encoded data removed]",
      "text/plain": [
       "<Figure size 432x288 with 1 Axes>"
      ]
     },
     "metadata": {
      "needs_background": "light"
     },
     "output_type": "display_data"
    }
   ],
   "source": [
    "plt.scatter(df['CRIM'],df['MEDV'],color='r',s=10)\n",
    "plt.xlabel('CRIM')\n",
    "plt.ylabel('MEDV')\n",
    "plt.show()"
   ]
  },
  {
   "cell_type": "code",
   "execution_count": null,
   "metadata": {},
   "outputs": [],
   "source": []
  }
 ],
 "metadata": {
  "kernelspec": {
   "display_name": "Python [conda env:py37] *",
   "language": "python",
   "name": "conda-env-py37-py"
  },
  "language_info": {
   "codemirror_mode": {
    "name": "ipython",
    "version": 3
   },
   "file_extension": ".py",
   "mimetype": "text/x-python",
   "name": "python",
   "nbconvert_exporter": "python",
   "pygments_lexer": "ipython3",
   "version": "3.6.9"
  }
 },
 "nbformat": 4,
 "nbformat_minor": 2
}
