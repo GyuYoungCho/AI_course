{
 "cells": [
  {
   "cell_type": "markdown",
   "metadata": {},
   "source": [
    "\n",
    "## tf.Tensor: 텐서 객체\n",
    "- 텐서는 다차원 배열로 넘파이(NumPy) ndarray 객체와 비슷하며,\n",
    "- tf.Tensor 객체는 데이터 타입과 크기를 가지고 있다.\n",
    "- 또한 tf.Tensor는 GPU 같은 가속기 메모리에 상주할 수 있다.\n",
    "- 텐서플로는 텐서를 생성하고 이용하는 풍부한 연산 라이브러리(tf.add, tf.matmul, tf.linalg.inv 등.)를 제공하며\n",
    "- 연산수행 시 자동으로 텐서를 파이썬 네이티브(native) 타입으로 변환하여 연산한다\n",
    "\n",
    "\n",
    "## Linear Regression(선형 회귀)"
   ]
  },
  {
   "cell_type": "code",
   "execution_count": 3,
   "metadata": {},
   "outputs": [],
   "source": [
    "import tensorflow as tf\n",
    "import numpy as np\n",
    "import matplotlib.pyplot as plt\n",
    "\n",
    "def hypothesis(X):\n",
    "    return X*W + b\n",
    "\n",
    "W = tf.Variable(tf.random.normal([1]), name = 'weight')\n",
    "b = tf.Variable(tf.random.normal([1]), name = 'bias')"
   ]
  },
  {
   "cell_type": "code",
   "execution_count": 2,
   "metadata": {},
   "outputs": [],
   "source": [
    "xy = np.loadtxt('data-01-cars.csv',unpack=True,delimiter=',',skiprows=1)\n",
    "x_train = xy[0]\n",
    "y_train = xy[1]"
   ]
  },
  {
   "cell_type": "code",
   "execution_count": 5,
   "metadata": {},
   "outputs": [],
   "source": [
    "optimizer = tf.keras.optimizers.Adam(lr=0.01)\n",
    "\n",
    "def cost_func():\n",
    "    cost = tf.reduce_mean(tf.square(hypothesis(x_train) - y_train))\n",
    "    return cost"
   ]
  },
  {
   "cell_type": "code",
   "execution_count": 6,
   "metadata": {},
   "outputs": [
    {
     "name": "stdout",
     "output_type": "stream",
     "text": [
      "****** Start Learning!!\n",
      "0000 cost:[ 2264.8562 ]  W: [0.18908505]  b: [-0.599391]\n",
      "1000 cost:[ 262.9711 ]  W: [2.8413503]  b: [1.0352355]\n",
      "2000 cost:[ 254.48282 ]  W: [2.9792976]  b: [-1.3132044]\n",
      "3000 cost:[ 244.33559 ]  W: [3.1762705]  b: [-4.6699195]\n",
      "4000 cost:[ 235.37073 ]  W: [3.4083567]  b: [-8.62811]\n",
      "5000 cost:[ 229.74469 ]  W: [3.6350622]  b: [-12.4982815]\n",
      "6000 cost:[ 227.52344 ]  W: [3.8100502]  b: [-15.487862]\n",
      "7000 cost:[ 227.09601 ]  W: [3.9033275]  b: [-17.082035]\n",
      "8000 cost:[ 227.07065 ]  W: [3.92972]  b: [-17.533134]\n",
      "9000 cost:[ 227.0704 ]  W: [3.9323583]  b: [-17.578234]\n",
      "10000 cost:[ 227.07043 ]  W: [3.9324028]  b: [-17.578993]\n",
      "****** Learning Finished!!\n"
     ]
    }
   ],
   "source": [
    "print('****** Start Learning!!')\n",
    "for step in range(10001):\n",
    "    # cost를 minimize 한다\n",
    "    optimizer.minimize(cost_func,var_list=[W,b]) # W,b를 업데이트\n",
    "    if step % 1000 == 0:\n",
    "        print('%04d'%step,'cost:[',cost_func().numpy(),']',\n",
    "             ' W:',W.numpy(),' b:',b.numpy())\n",
    "        \n",
    "print('****** Learning Finished!!')"
   ]
  },
  {
   "cell_type": "code",
   "execution_count": 8,
   "metadata": {},
   "outputs": [
    {
     "name": "stdout",
     "output_type": "stream",
     "text": [
      "Weight: [3.9324028]\n",
      "bias: [-17.578993]\n"
     ]
    }
   ],
   "source": [
    "print('Weight:',W.numpy())\n",
    "print('bias:', b.numpy())"
   ]
  },
  {
   "cell_type": "code",
   "execution_count": 7,
   "metadata": {},
   "outputs": [
    {
     "name": "stdout",
     "output_type": "stream",
     "text": [
      "******* Predict\n",
      "speed = 30, dist = [100.39309]\n",
      "speed = 50, dist = [179.04115]\n",
      "speed = [10,11,12,24,25], dist = [21.745035 25.677439 29.609842 76.798676 80.73108 ]\n"
     ]
    }
   ],
   "source": [
    "print('******* Predict')\n",
    "print('speed = 30, dist =',hypothesis(30).numpy())\n",
    "print('speed = 50, dist =' ,hypothesis(50).numpy())\n",
    "print('speed = [10,11,12,24,25], dist =' ,hypothesis([10,11,12,24,25]).numpy())\n"
   ]
  },
  {
   "cell_type": "code",
   "execution_count": 9,
   "metadata": {},
   "outputs": [
    {
     "data": {
      "text/plain": [
       "[<matplotlib.lines.Line2D at 0x2b9c20ba8d0>]"
      ]
     },
     "execution_count": 9,
     "metadata": {},
     "output_type": "execute_result"
    },
    {
     "data": {
      "image/png": "[encoded data removed]",
      "text/plain": [
       "<Figure size 432x288 with 1 Axes>"
      ]
     },
     "metadata": {
      "needs_background": "light"
     },
     "output_type": "display_data"
    }
   ],
   "source": [
    "def prediction(X,W,b):\n",
    "    return X*W + b\n",
    "\n",
    "plt.plot(x_train,y_train,'ro')  # Red      , 원본 데이터\n",
    "plt.plot((0,25),(0,prediction(25,W,b)),'g' ) # Green\n",
    "plt.plot((0,25),(prediction(0,W,b),prediction(25,W,b)),'b' ) # Blue, 예측함수"
   ]
  },
  {
   "cell_type": "markdown",
   "metadata": {},
   "source": [
    "## multi-variable regression"
   ]
  },
  {
   "cell_type": "code",
   "execution_count": 10,
   "metadata": {},
   "outputs": [
    {
     "data": {
      "text/plain": [
       "((5, 3), (5, 1))"
      ]
     },
     "execution_count": 10,
     "metadata": {},
     "output_type": "execute_result"
    }
   ],
   "source": [
    "x_data = [[73.,80.,75.],\n",
    "          [93.,88.,93.],\n",
    "          [89.,91.,90.],\n",
    "          [96.,98.,100.],\n",
    "          [73.,66.,70.]]\n",
    "\n",
    "y_data = [[152.],\n",
    "          [185.],\n",
    "          [180.],\n",
    "          [196.],\n",
    "          [142.]]\n",
    "x_train = np.array(x_data,dtype=np.float32)\n",
    "y_train = np.array(y_data,dtype=np.float32)\n",
    "x_train.shape, y_train.shape\n"
   ]
  },
  {
   "cell_type": "code",
   "execution_count": 11,
   "metadata": {},
   "outputs": [],
   "source": [
    "W = tf.Variable(tf.random.normal([3,1]), name = 'weight')\n",
    "b = tf.Variable(tf.random.normal([1]), name = 'bias')"
   ]
  },
  {
   "cell_type": "code",
   "execution_count": 13,
   "metadata": {},
   "outputs": [],
   "source": [
    "def hypothesis(X):\n",
    "    return tf.matmul(X,W) + b\n",
    "\n",
    "def cost_func():\n",
    "    cost = tf.reduce_mean(tf.square(hypothesis(x_train) - y_train))\n",
    "    return cost\n",
    "\n",
    "optimizer = tf.keras.optimizers.Adam(lr=0.01)"
   ]
  },
  {
   "cell_type": "code",
   "execution_count": 14,
   "metadata": {},
   "outputs": [
    {
     "name": "stdout",
     "output_type": "stream",
     "text": [
      "****** Start Learning!!\n",
      "0000 cost:[ 1529.6576 ]  W: [[ 0.80049396]\n",
      " [ 1.2378209 ]\n",
      " [-0.47239298]]  b: [0.18264486]\n",
      "1000 cost:[ 5.495414 ]  W: [[ 1.1002643]\n",
      " [ 1.1784681]\n",
      " [-0.2594227]]  b: [0.24770449]\n",
      "2000 cost:[ 1.5064967 ]  W: [[ 1.283801  ]\n",
      " [ 0.8958916 ]\n",
      " [-0.15864071]]  b: [-0.0270252]\n",
      "3000 cost:[ 0.5813728 ]  W: [[ 1.3570039 ]\n",
      " [ 0.7257565 ]\n",
      " [-0.05712143]]  b: [-0.53745604]\n",
      "4000 cost:[ 0.37957332 ]  W: [[1.3287147 ]\n",
      " [0.66226935]\n",
      " [0.0406706 ]]  b: [-1.1578944]\n",
      "5000 cost:[ 0.28009015 ]  W: [[1.2709503 ]\n",
      " [0.6284294 ]\n",
      " [0.13627137]]  b: [-1.5999632]\n",
      "6000 cost:[ 0.2367926 ]  W: [[1.213914  ]\n",
      " [0.59960395]\n",
      " [0.22078538]]  b: [-1.5710145]\n",
      "7000 cost:[ 0.20512009 ]  W: [[1.1560304 ]\n",
      " [0.5723327 ]\n",
      " [0.29814255]]  b: [-0.9801866]\n",
      "8000 cost:[ 0.17042173 ]  W: [[1.0866331 ]\n",
      " [0.5406728 ]\n",
      " [0.38643366]]  b: [0.02588961]\n",
      "9000 cost:[ 0.14574754 ]  W: [[1.0247345 ]\n",
      " [0.51259476]\n",
      " [0.46490264]]  b: [0.9571118]\n",
      "10000 cost:[ 0.13027832 ]  W: [[0.97552395]\n",
      " [0.49013624]\n",
      " [0.52670574]]  b: [1.6942343]\n",
      "****** Learning Finished!!\n"
     ]
    }
   ],
   "source": [
    "print('****** Start Learning!!')\n",
    "for step in range(10001):\n",
    "    # cost를 minimize 한다\n",
    "    optimizer.minimize(cost_func,var_list=[W,b]) # W,b를 업데이트\n",
    "    if step % 1000 == 0:\n",
    "        print('%04d'%step,'cost:[',cost_func().numpy(),']',\n",
    "             ' W:',W.numpy(),' b:',b.numpy())\n",
    "        \n",
    "print('****** Learning Finished!!')"
   ]
  },
  {
   "cell_type": "code",
   "execution_count": 15,
   "metadata": {},
   "outputs": [
    {
     "name": "stdout",
     "output_type": "stream",
     "text": [
      "Weight: [[0.97552395]\n",
      " [0.49013624]\n",
      " [0.52670574]]\n",
      "bias: [1.6942343]\n"
     ]
    }
   ],
   "source": [
    "print('Weight:',W.numpy())\n",
    "print('bias:', b.numpy())"
   ]
  },
  {
   "cell_type": "code",
   "execution_count": 16,
   "metadata": {},
   "outputs": [
    {
     "name": "stdout",
     "output_type": "stream",
     "text": [
      "[[151.6213 ]\n",
      " [184.53358]\n",
      " [180.52177]\n",
      " [196.04846]\n",
      " [142.12587]]\n"
     ]
    }
   ],
   "source": [
    "x_data = [[73.,80.,75.],\n",
    "          [93.,88.,93.],\n",
    "          [89.,91.,90.],\n",
    "          [96.,98.,100.],\n",
    "          [73.,66.,70.]]\n",
    "x_test = np.array(x_data,dtype=np.float32)\n",
    "print(hypothesis(x_test).numpy())\n"
   ]
  },
  {
   "cell_type": "code",
   "execution_count": 17,
   "metadata": {},
   "outputs": [
    {
     "data": {
      "text/plain": [
       "(25, 1)"
      ]
     },
     "execution_count": 17,
     "metadata": {},
     "output_type": "execute_result"
    }
   ],
   "source": [
    "xy = np.loadtxt('data-02-test-score.csv', delimiter=',',skiprows=1,dtype=np.float32)\n",
    "x_train = xy[:,:-1]\n",
    "y_train = xy[:,-1:] #차원 유지\n",
    "y_train.shape"
   ]
  },
  {
   "cell_type": "code",
   "execution_count": 18,
   "metadata": {},
   "outputs": [
    {
     "name": "stdout",
     "output_type": "stream",
     "text": [
      "****** Start Learning!!\n",
      "0000 cost:[ 18.299934 ]  W: [[0.98552394]\n",
      " [0.50013626]\n",
      " [0.53670573]]  b: [1.7042342]\n",
      "1000 cost:[ 5.804386 ]  W: [[0.35678148]\n",
      " [0.53726786]\n",
      " [1.149386  ]]  b: [-2.4784172]\n",
      "2000 cost:[ 5.738986 ]  W: [[0.35591963]\n",
      " [0.54194105]\n",
      " [1.1657119 ]]  b: [-4.1691995]\n",
      "3000 cost:[ 5.737807 ]  W: [[0.35594386]\n",
      " [0.54248923]\n",
      " [1.1673429 ]]  b: [-4.325735]\n",
      "4000 cost:[ 5.738285 ]  W: [[0.35584864]\n",
      " [0.54242724]\n",
      " [1.1673495 ]]  b: [-4.33564]\n",
      "5000 cost:[ 5.7378087 ]  W: [[0.35593364]\n",
      " [0.54251426]\n",
      " [1.1674395 ]]  b: [-4.3360834]\n",
      "6000 cost:[ 5.7391267 ]  W: [[0.35578904]\n",
      " [0.54236954]\n",
      " [1.1672949 ]]  b: [-4.336249]\n",
      "7000 cost:[ 5.7378044 ]  W: [[0.3559386]\n",
      " [0.5425186]\n",
      " [1.1674442]]  b: [-4.336101]\n",
      "8000 cost:[ 5.737824 ]  W: [[0.355924 ]\n",
      " [0.5425046]\n",
      " [1.1674302]]  b: [-4.336115]\n",
      "9000 cost:[ 5.7378016 ]  W: [[0.35593808]\n",
      " [0.54251873]\n",
      " [1.1674442 ]]  b: [-4.3361044]\n",
      "10000 cost:[ 5.737814 ]  W: [[0.35593402]\n",
      " [0.5425146 ]\n",
      " [1.16744   ]]  b: [-4.3361063]\n",
      "****** Learning Finished!!\n"
     ]
    }
   ],
   "source": [
    "def hypothesis(X):\n",
    "    return tf.matmul(X,W) + b\n",
    "\n",
    "def cost_func():\n",
    "    cost = tf.reduce_mean(tf.square(hypothesis(x_train) - y_train))\n",
    "    return cost\n",
    "\n",
    "optimizer = tf.keras.optimizers.Adam(lr=0.01)\n",
    "\n",
    "print('****** Start Learning!!')\n",
    "for step in range(10001):\n",
    "    # cost를 minimize 한다\n",
    "    optimizer.minimize(cost_func,var_list=[W,b]) # W,b를 업데이트\n",
    "    if step % 1000 == 0:\n",
    "        print('%04d'%step,'cost:[',cost_func().numpy(),']',\n",
    "             ' W:',W.numpy(),' b:',b.numpy())\n",
    "        \n",
    "print('****** Learning Finished!!')"
   ]
  },
  {
   "cell_type": "code",
   "execution_count": null,
   "metadata": {},
   "outputs": [],
   "source": []
  }
 ],
 "metadata": {
  "kernelspec": {
   "display_name": "Python [conda env:py37] *",
   "language": "python",
   "name": "conda-env-py37-py"
  },
  "language_info": {
   "codemirror_mode": {
    "name": "ipython",
    "version": 3
   },
   "file_extension": ".py",
   "mimetype": "text/x-python",
   "name": "python",
   "nbconvert_exporter": "python",
   "pygments_lexer": "ipython3",
   "version": "3.6.9"
  }
 },
 "nbformat": 4,
 "nbformat_minor": 2
}
